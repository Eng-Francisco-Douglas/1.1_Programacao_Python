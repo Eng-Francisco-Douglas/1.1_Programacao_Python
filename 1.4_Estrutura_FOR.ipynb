{
 "cells": [
  {
   "attachments": {},
   "cell_type": "markdown",
   "id": "b1967283",
   "metadata": {},
   "source": [
    "# FOR\n",
    "O loop em Python é uma estrutura de controle usada para iterar sobre um conjunto de valores (como uma lista, tupla ou sequência numérica) e realizar uma ação para cada valor no conjunto.for\n",
    "\n",
    "A sintaxe básica do loop em Python é:for\n",
    "\n",
    "EX:\n",
    "for valor in sequência:\n",
    "    # instruções a serem executadas para cada valor na sequência\n",
    "\n",
    "O é a variável que representa cada valor na sequência. A é a coleção de valores sobre a qual o loop itera. Cada vez que o loop é executado, o próximo valor na sequência é atribuído à variável , e as instruções dentro do loop são executadas para aquele valor.valorsequênciavalor\n",
    "\n",
    "Por exemplo, o loop pode ser usado para iterar através de uma lista de valores e imprimir cada valor na tela:for\n",
    "\n",
    "valores = [1, 2, 3, 4, 5]\n",
    "for valor in valores:\n",
    "    print(valor)\n",
    "\n",
    "este exemplo, a lista é atribuída à variável , e o loop itera sobre cada valor na lista. Para cada valor, a instrução é executada, o que imprime o valor atual na tela.[1, 2, 3, 4, 5]valoresforprint(valor)\n",
    "\n",
    "O loop também pode ser usado com a função para iterar através de uma sequência numérica, como neste exemplo que itera através dos números de 1 a 10:forrange()\n",
    "\n",
    "for i in range(1, 11):\n",
    "    print(i)\n",
    "\n"
   ]
  },
  {
   "cell_type": "code",
   "execution_count": null,
   "id": "31f2f418",
   "metadata": {},
   "outputs": [],
   "source": []
  },
  {
   "attachments": {},
   "cell_type": "markdown",
   "id": "f38ad1c1",
   "metadata": {},
   "source": [
    "## 1 – Contagem regressiva\n",
    "Faça um programa que mostre na tela uma contagem regressiva para o estouro de fogos de artifício, indo de 10 até 0, com uma pausa de 1 segundo entre eles."
   ]
  },
  {
   "cell_type": "code",
   "execution_count": 1,
   "id": "be8cb8a8",
   "metadata": {
    "ExecuteTime": {
     "end_time": "2023-05-02T13:14:24.582290Z",
     "start_time": "2023-05-02T13:14:14.382874Z"
    }
   },
   "outputs": [
    {
     "name": "stdout",
     "output_type": "stream",
     "text": [
      "Contagem regressiva Fim de Ano: \n",
      "*****  10   *****\n",
      "*****   9   *****\n",
      "*****   8   *****\n",
      "*****   7   *****\n",
      "*****   6   *****\n",
      "*****   5   *****\n",
      "*****   4   *****\n",
      "*****   3   *****\n",
      "*****   2   *****\n",
      "*****   1   *****\n",
      "BOOM! Feliz Ano Novo\n"
     ]
    }
   ],
   "source": [
    "# Import da Biblioteca time\n",
    "from time import sleep\n",
    "\n",
    "# Imprime a mensagem inicial\n",
    "print(\"Contagem regressiva Fim de Ano: \")\n",
    "\n",
    "# Criando o Laço for que ira itera de 10 ate 1 em decremento de 1\n",
    "for i in range(10, 0, -1):\n",
    "    # Imprimindo o loop\n",
    "    print('*'*5, f\"{i:^5}\",'*'*5)\n",
    "    # Pausa o programa a casa 1 segundo\n",
    "    sleep(1)\n",
    "# Exibindo a mensagem final apos a contagem regressiva\n",
    "print(\"BOOM! Feliz Ano Novo\")"
   ]
  },
  {
   "attachments": {},
   "cell_type": "markdown",
   "id": "075c2995",
   "metadata": {},
   "source": [
    "#### Comentario 1 Contagem Regressiva\n",
    "    O programa começa importando o módulo , que será usado para permitir que o programa pausa por um segundo entre cada contagem regressiva.time\n",
    "\n",
    "    Em seguida, a mensagem inicial é impressa na tela.\n",
    "\n",
    "    O loop itera de 10 até 1 (exclusivo) em decrementos de 1. Para cada valor do loop, o valor atual é impresso na tela e o programa pausa por um segundo usando a função .fortime.sleep(1)\n",
    "\n",
    "    Por fim, após a contagem regressiva, o programa exibe a mensagem final \"BOOM! Feliz Ano Novo!\"."
   ]
  },
  {
   "cell_type": "code",
   "execution_count": null,
   "id": "49c2a867",
   "metadata": {},
   "outputs": [],
   "source": []
  },
  {
   "attachments": {},
   "cell_type": "markdown",
   "id": "df093a28",
   "metadata": {},
   "source": [
    "## 2 – Contagem de pares\n",
    "Crie um programa que mostre na tela todos os números pares que estão no intervalo entre 1 e 50."
   ]
  },
  {
   "cell_type": "code",
   "execution_count": 2,
   "id": "0eaba0ad",
   "metadata": {
    "ExecuteTime": {
     "end_time": "2023-05-02T13:19:17.072420Z",
     "start_time": "2023-05-02T13:19:17.031966Z"
    }
   },
   "outputs": [
    {
     "name": "stdout",
     "output_type": "stream",
     "text": [
      "2 ,4 ,6 ,8 ,10 ,12 ,14 ,16 ,18 ,20 ,22 ,24 ,26 ,28 ,30 ,32 ,34 ,36 ,38 ,40 ,42 ,44 ,46 ,48 ,50 ,"
     ]
    }
   ],
   "source": [
    "# Loop for para iterar atraves de todos os numeros\n",
    "for i in range(1, 51):\n",
    "    # Condição if para verificar se o numero atual e Par\n",
    "    if i % 2 == 0:\n",
    "        # Imprime o numero atual, pois e Par\n",
    "        print(i, end=' ,')"
   ]
  },
  {
   "attachments": {},
   "cell_type": "markdown",
   "id": "3388fb4a",
   "metadata": {},
   "source": [
    "\n",
    "1. `for i in range(1, 51):` - Este é um loop `for` que percorre todos os números no intervalo de 1 a 50. O `range(1, 51)` cria uma sequência de números de 1 a 50 (o último número é exclusivo). A variável `i` assume o valor de cada número na sequência durante cada iteração do loop.\n",
    "\n",
    "2. `if i % 2 == 0:` - Esta é uma condição `if` que verifica se o número atual (`i`) é divisível por 2, ou seja, se é par. O operador `%` retorna o resto da divisão de `i` por 2. Se o resto for igual a 0, isso significa que o número é par.\n",
    "\n",
    "3. `print(i, end=', ')` - Se o número atual (`i`) for par, ele é impresso na saída. O argumento `end=', '` é usado para especificar que, após imprimir cada número, uma vírgula e um espaço devem ser adicionados no final, em vez de uma nova linha. Isso faz com que os números impressos apareçam lado a lado separados por vírgulas.\n",
    "\n",
    "Portanto, o código itera por todos os números de 1 a 50 e imprime apenas os números pares, separados por vírgulas e um espaço. A saída final será uma sequência de números pares de 2 a 50."
   ]
  },
  {
   "cell_type": "code",
   "execution_count": null,
   "id": "40dbe020",
   "metadata": {},
   "outputs": [],
   "source": []
  },
  {
   "attachments": {},
   "cell_type": "markdown",
   "id": "37d6bffa",
   "metadata": {},
   "source": [
    "## 3 – Soma ímpares múltiplos de três\n",
    "Faça um programa que calcule a soma entre todos os números que são múltiplos de três e que se encontram no intervalo de 1 até 500."
   ]
  },
  {
   "cell_type": "code",
   "execution_count": 3,
   "id": "3d72e2d2",
   "metadata": {
    "ExecuteTime": {
     "end_time": "2023-05-02T13:27:10.892255Z",
     "start_time": "2023-05-02T13:27:10.845031Z"
    }
   },
   "outputs": [
    {
     "name": "stdout",
     "output_type": "stream",
     "text": [
      "Entre 1 a 500 temos 83 numeros multiplos de 3\n",
      "A soma dos 83 e igual a 20667\n"
     ]
    }
   ],
   "source": [
    "# Iniciando a variavel de soma com 0, e criando um contador\n",
    "soma = 0\n",
    "contador = 0\n",
    "\n",
    "# Loop for para iterar atraves de todos os numeros no intervalo de 1 a 500\n",
    "for i in range(1, 501, 2):\n",
    "    # Condição if para verifica se o numero atual e multiplo de 3\n",
    "    if i % 3 == 0:\n",
    "        # Adiciona o Numero atual a soma\n",
    "        soma += i\n",
    "        contador += 1\n",
    "\n",
    "# Imprimindo o resultado\n",
    "print(f\"Entre 1 a 500 temos {contador} numeros multiplos de 3\")\n",
    "print(f\"A soma dos {contador} e igual a {soma}\")"
   ]
  },
  {
   "attachments": {},
   "cell_type": "markdown",
   "id": "7d10e500",
   "metadata": {},
   "source": [
    "#### Comentario 3 Soma impares multiplos de 3\n",
    "    O código acima começa inicializando uma variável chamada  com o valor 0. Isso será usado para acumular a soma de todos os números múltiplos de três no intervalo de 1 a 500.soma\n",
    "\n",
    "    Em seguida, um loop  é usado para iterar através de todos os números no intervalo de 1 a 500. Para cada número no intervalo, a condição  verifica se o número atual é um múltiplo de três. Se essa condição for verdadeira, o número é adicionado à variável  usando o operador de atribuição .forif i % 3 == 0soma+=\n",
    "\n",
    "    Por fim, após o loop  ter iterado sobre todos os números no intervalo, o valor total da variável  é impresso na tela usando a função .forsomaprint()"
   ]
  },
  {
   "cell_type": "code",
   "execution_count": null,
   "id": "8e967031",
   "metadata": {},
   "outputs": [],
   "source": []
  },
  {
   "attachments": {},
   "cell_type": "markdown",
   "id": "85738b99",
   "metadata": {},
   "source": [
    "## 4 – Tabuada v.2.0\n",
    "Refaça o DESAFIO 9, mostrando a tabuada de um número que o usuário escolher, só que agora utilizando um laço for."
   ]
  },
  {
   "cell_type": "code",
   "execution_count": 4,
   "id": "8e2dc3e2",
   "metadata": {
    "ExecuteTime": {
     "end_time": "2023-05-02T13:32:33.502131Z",
     "start_time": "2023-05-02T13:32:31.473465Z"
    }
   },
   "outputs": [
    {
     "name": "stdout",
     "output_type": "stream",
     "text": [
      "2 x 1 = 2\n",
      "2 x 2 = 4\n",
      "2 x 3 = 6\n",
      "2 x 4 = 8\n",
      "2 x 5 = 10\n",
      "2 x 6 = 12\n",
      "2 x 7 = 14\n",
      "2 x 8 = 16\n",
      "2 x 9 = 18\n",
      "2 x 10 = 20\n"
     ]
    }
   ],
   "source": [
    "# Solicita ao usuario para digita um numero\n",
    "numero = int(input(\"Digite um numero: \"))\n",
    "\n",
    "# Loop for para iterar atraves dos numeros de 1 a 10\n",
    "for i in range(1, 11):\n",
    "    # Calculando o resultado da Multiplicação\n",
    "    resultado = numero * i\n",
    "\n",
    "    # Imprime o resultado\n",
    "    print(f\"{numero} x {i} = {resultado}\")"
   ]
  },
  {
   "attachments": {},
   "cell_type": "markdown",
   "id": "251bc605",
   "metadata": {},
   "source": [
    "#### Comentario 4 Tabuada v.2\n",
    "\n",
    "    O programa começa solicitando ao usuário para digitar um número. Esse número é armazenado na variável 'numero\n",
    "\n",
    "    Em seguida, um loop for é usado para iterar através dos números de 1 a 10. Para cada número no intervalo, o programa calcula o resultado da multiplicação do 'númeronumero digitado pelo usuário e o número atual no loop ('ii). O resultado é armazenado na variável resultado.\n",
    "\n",
    "    Finalmente, o programa imprime a expressão da tabuada e o resultado correspondente usando a função 'print"
   ]
  },
  {
   "attachments": {},
   "cell_type": "markdown",
   "id": "c2755edb",
   "metadata": {},
   "source": [
    "### Levando a um outro nivel o exercicio 4\n",
    "programa deve pergunta se o usuário quer soma, multiplica, dividir, subtrair, leva a pontência, soma um percentual"
   ]
  },
  {
   "cell_type": "code",
   "execution_count": 5,
   "id": "6674a4c0",
   "metadata": {
    "ExecuteTime": {
     "end_time": "2023-05-02T13:53:02.327780Z",
     "start_time": "2023-05-02T13:53:00.400364Z"
    }
   },
   "outputs": [
    {
     "name": "stdout",
     "output_type": "stream",
     "text": [
      "Operação:\n",
      "[1] Soma\n",
      "[2] Divisao\n",
      "[3] Multiplicação\n",
      "[4] Potenciação\n",
      "[5] Porcentagem\n",
      "2 / 1  = 20\n",
      "2 / 2  = 20\n",
      "2 / 3  = 20\n",
      "2 / 4  = 20\n",
      "2 / 5  = 20\n",
      "2 / 6  = 20\n",
      "2 / 7  = 20\n",
      "2 / 8  = 20\n",
      "2 / 9  = 20\n",
      "2 / 10  = 20\n"
     ]
    }
   ],
   "source": [
    "# Solicita ao usuario para digita um numero\n",
    "numero = int(input(\"Digite um numero: \"))\n",
    "\n",
    "# Solicita ao usuario qual a operação deseja realizar\n",
    "operacao = int(input(\"Digite a Operação desejada: \"))\n",
    "print('''Operação:\n",
    "[1] Soma\n",
    "[2] Divisao\n",
    "[3] Multiplicação\n",
    "[4] Potenciação\n",
    "[5] Porcentagem''')\n",
    "\n",
    "lista = ['+','/','x','**','%']\n",
    "\n",
    "# Loop for para iterar através dos números de 1 a 10\n",
    "for i in range(1, 11):\n",
    "    # Realiza a operação escolhia pelo usuario\n",
    "    if operacao == 1:\n",
    "        soma = numero + i\n",
    "    elif operacao == 2:\n",
    "        divisao = numero / i\n",
    "    elif operacao == 3:\n",
    "        multiplicacao = numero * i\n",
    "    elif operacao == 4:\n",
    "        potenciacao = numero ** i\n",
    "    elif operacao == 5:\n",
    "        porcentagem = numero * (1 + i / 100)\n",
    "\n",
    "    # Imprime o resultado\n",
    "    print(f\"{numero} {lista[operacao]} {i}  = {resultado}\")"
   ]
  },
  {
   "attachments": {},
   "cell_type": "markdown",
   "id": "feade147",
   "metadata": {},
   "source": [
    "#### Comentario 4 Tabuada\n",
    "    O programa começa solicitando ao usuário para digitar um número. Esse número é armazenado na variável numero como um inteiro usando a função int().\n",
    "\n",
    "    Em seguida, o programa solicita ao usuário qual operação deseja realizar: soma, subtração, multiplicação, divisão, potenciação ou porcentagem. Essa escolha é armazenada na variável operacao.\n",
    "\n",
    "    Em seguida, um loop for é usado para iterar através dos números de 1 a 10. Para cada número no intervalo, o programa realiza a operação escolhida pelo usuário usando uma série de declarações 'if-elif-elseif-elif-else. O resultado é armazenado na variável resultado.\n",
    "\n",
    "    Finalmente, o programa imprime a expressão da tabuada e o resultado correspondente usando a função 'print()\n",
    "\n",
    "    Por exemplo, se o usuário digitar o número 5 e escolher a operação \"multiplicação\", o programa irá imprimir a seguinte tabuada:"
   ]
  },
  {
   "cell_type": "code",
   "execution_count": null,
   "id": "b79c29c5",
   "metadata": {},
   "outputs": [],
   "source": []
  },
  {
   "attachments": {},
   "cell_type": "markdown",
   "id": "89142a67",
   "metadata": {},
   "source": [
    "## 5 – Soma dos pares\n",
    "Desenvolva um programa que leia seis números inteiros e mostre a soma apenas daqueles que forem pares. Se o valor digitado for ímpar, desconsidere-o."
   ]
  },
  {
   "cell_type": "code",
   "execution_count": 6,
   "id": "02430430",
   "metadata": {
    "ExecuteTime": {
     "end_time": "2023-05-02T13:58:45.460749Z",
     "start_time": "2023-05-02T13:58:41.757401Z"
    }
   },
   "outputs": [
    {
     "name": "stdout",
     "output_type": "stream",
     "text": [
      "Ao todo temos 5 numeros pares e a soma e 10\n"
     ]
    }
   ],
   "source": [
    "# Inicializa a variavel soma como zero\n",
    "soma = 0\n",
    "cont = 0\n",
    "\n",
    "# Loop for para ler os seis numeros\n",
    "for i in range(1, 7):\n",
    "    # Solicita ao usuario para digita um numero inteiro\n",
    "    numero = int(input(f\"Digite o {i} numero: \"))\n",
    "\n",
    "    # Verifica se o numero e Par e adiciona a variavel\n",
    "    if numero % 2 == 0:\n",
    "        soma += numero\n",
    "        cont += 1\n",
    "\n",
    "    # Imprime a soma dos numeros pares\n",
    "print(f\"Ao todo temos {cont} numeros pares e a soma e {soma}\")\n"
   ]
  },
  {
   "attachments": {},
   "cell_type": "markdown",
   "id": "f3779ba3",
   "metadata": {},
   "source": [
    "#### Comentario 5 Soma dos pares\n",
    "    O programa começa inicializando a variável soma como zero.\n",
    "\n",
    "    Em seguida, um loop for é usado para ler os seis números. Para cada número, o programa solicita ao usuário para digitar um número inteiro usando a função 'input() e int().\n",
    "\n",
    "    O programa verifica se o número é par usando o operador módulo '%numero % 2 for igual a zero, o número é par e é adicionado à variável soma.\n",
    "\n",
    "    Finalmente, o programa imprime a soma dos números pares usando a função print().\n",
    "\n",
    "    Por exemplo, se o usuário digitar os números 2, 5, 6, 9, 10 e 12, o programa irá imprimir:"
   ]
  },
  {
   "cell_type": "code",
   "execution_count": null,
   "id": "597107a9",
   "metadata": {},
   "outputs": [],
   "source": []
  },
  {
   "attachments": {},
   "cell_type": "markdown",
   "id": "1de7d7d0",
   "metadata": {},
   "source": [
    "## 6 – Progressão Aritmética\n",
    "Desenvolva um programa que leia o primeiro termo e a razão de uma PA. No final, mostre os 10 primeiros termos dessa progressão."
   ]
  },
  {
   "cell_type": "code",
   "execution_count": 7,
   "id": "a980bfd1",
   "metadata": {
    "ExecuteTime": {
     "end_time": "2023-05-02T14:10:05.356288Z",
     "start_time": "2023-05-02T14:10:03.513158Z"
    }
   },
   "outputs": [
    {
     "name": "stdout",
     "output_type": "stream",
     "text": [
      "12 x 14 x 16 x 18 x 20 x 22 x 24 x 26 x 28 x 30 x "
     ]
    }
   ],
   "source": [
    "# Solicita ao usuario para digitar o primeiro termo e a razao da PA\n",
    "primeiro_termo = int(input(\"Digite o Primeiro Termo: \"))\n",
    "razao = int(input(\"Digite a Razao da PA: \"))\n",
    "\n",
    "# Criando o loop for para exibir os 10 primeiros termos da PA\n",
    "for i in range(primeiro_termo, primeiro_termo + 10 * razao, razao):\n",
    "    # Imprime os valores\n",
    "    print(i, 'x', end=' ')"
   ]
  },
  {
   "attachments": {},
   "cell_type": "markdown",
   "id": "8af70d5b",
   "metadata": {},
   "source": [
    "#### Comentario 6 Progressao Aritmetica\n",
    "    O programa começa solicitando ao usuário para digitar o primeiro termo e a razão da PA usando a função '\n",
    "\n",
    "    Em seguida, o programa usa um loop 'for\n",
    "\n",
    "    Dentro do loop, o programa simplesmente imprime o valor do termo atual usando a função print().\n",
    "\n",
    "    Por exemplo, se o usuário digitar o primeiro termo como 2 e a razão como 3, o programa irá imprimir:"
   ]
  },
  {
   "cell_type": "code",
   "execution_count": null,
   "id": "daa0de3d",
   "metadata": {},
   "outputs": [],
   "source": []
  },
  {
   "attachments": {},
   "cell_type": "markdown",
   "id": "a0fcdb63",
   "metadata": {},
   "source": [
    "## 7 – Números primos\n",
    "Faça um programa que leia um número inteiro e diga se ele é ou não um número primo"
   ]
  },
  {
   "cell_type": "code",
   "execution_count": 8,
   "id": "69bc11a1",
   "metadata": {
    "ExecuteTime": {
     "end_time": "2023-05-02T14:15:39.008191Z",
     "start_time": "2023-05-02T14:15:38.313680Z"
    }
   },
   "outputs": [
    {
     "name": "stdout",
     "output_type": "stream",
     "text": [
      "2 É um numero primo\n"
     ]
    }
   ],
   "source": [
    "# Solicita ao usuario para digita um numero inteiro\n",
    "num = int(input(\"Digite um numero inteiro: \"))\n",
    "\n",
    "# Verifica se o numero e primo\n",
    "if num > 1:\n",
    "    for i in range(2, num):\n",
    "        if (num % i) == 0:\n",
    "            print(f\"{num} Não e um numero primo\")\n",
    "            break\n",
    "    else:\n",
    "        print(f\"{num} É um numero primo\")\n",
    "else:\n",
    "    print(f\"{num} Não e um numero primo\")"
   ]
  },
  {
   "attachments": {},
   "cell_type": "markdown",
   "id": "493c2bce",
   "metadata": {},
   "source": [
    "#### Comentario 7 Numeros primos\n",
    "    O programa começa solicitando ao usuário para digitar um número inteiro usando a função input() e 'int().\n",
    "\n",
    "    Em seguida, o programa verifica se o número é maior do que 1, pois 1 não é um número primo. Se o número for maior do que 1, o programa usa um loop 'fornum-1). Se o número for divisível por algum desses valores, ele não é um número primo, e o programa exibe uma mensagem dizendo isso e encerra o loop com o comando 'breakbreak. Se o loop terminar sem ter encontrado nenhum divisor, o número é primo e o programa exibe uma mensagem dizendo isso.\n",
    "\n",
    "    Se o número for menor ou igual a 1, o programa exibe uma mensagem dizendo que não é um número primo."
   ]
  },
  {
   "cell_type": "code",
   "execution_count": null,
   "id": "4b29803e",
   "metadata": {},
   "outputs": [],
   "source": []
  },
  {
   "attachments": {},
   "cell_type": "markdown",
   "id": "b566d2c4",
   "metadata": {},
   "source": [
    "## 8 – Detector de Palíndromo\n",
    "Crie um programa que leia uma frase qualquer e diga se ela é um palíndromo, desconsiderando os espaços. Exemplos de palíndromos:"
   ]
  },
  {
   "cell_type": "code",
   "execution_count": 9,
   "id": "afac46cb",
   "metadata": {
    "ExecuteTime": {
     "end_time": "2023-05-02T18:34:46.963687Z",
     "start_time": "2023-05-02T18:34:41.299767Z"
    }
   },
   "outputs": [
    {
     "name": "stdout",
     "output_type": "stream",
     "text": [
      "A frase ffff e Um Palindromo ffff\n"
     ]
    }
   ],
   "source": [
    "# Solicite que o usuario digite uma frase\n",
    "frase = str(input(\"Digite uma Frase: \"))\n",
    "\n",
    "# Remove o espaços da frase e armazena em outra variavel\n",
    "frase_sem_espaco = frase.replace(\" \",\"\")\n",
    "\n",
    "# Cria uma variavel para armazena a versão invertida\n",
    "frase_invertida = ''\n",
    "\n",
    "# Loop for para percorre a frase sem espaços de trás para frente\n",
    "for i in range(len(frase_sem_espaco) -1, -1, -1):\n",
    "    # Adiciona cada caractere da frase sem espaços a variavel invertida\n",
    "    frase_invertida += frase_sem_espaco[i]\n",
    "\n",
    "# Compara a frase sem espaços com a frase invertida e imprime a mensagem se e ou não palindromo\n",
    "if frase_sem_espaco == frase_invertida:\n",
    "    print(f\"A frase {frase_sem_espaco} e Um Palindromo {frase_invertida}\")\n",
    "else:\n",
    "    print(f\"A frase {frase_sem_espaco} Não e Um Palindromo {frase_invertida}\")"
   ]
  },
  {
   "attachments": {},
   "cell_type": "markdown",
   "id": "b60a8721",
   "metadata": {},
   "source": [
    "#### Comentario 8 Detector de Palindromo\n",
    "    Explicando o código:\n",
    "\n",
    "    Primeiro, o programa solicita que o usuário digite uma frase, que é armazenada na variável .frase\n",
    "    Em seguida, criamos uma nova variável que é igual à frase original, mas sem os espaços. Isso é feito usando o método do Python, que substitui todas as ocorrências de um caractere por outro.frase_sem_espacos.replace()\n",
    "    Em seguida, criamos uma variável vazia que será usada para armazenar a versão invertida da frase sem espaços.frase_invertida\n",
    "    Usamos um laço para percorrer a frase sem espaços de trás para frente. O terceiro argumento do é -1, indicando que o laço deve percorrer os índices da frase de trás para frente.forrange()\n",
    "    Dentro do laço, adicionamos cada caractere da frase sem espaços à variável .frase_invertida\n",
    "    Finalmente, comparamos a frase sem espaços com a frase invertida e imprimimos uma mensagem indicando se a frase é ou não um palíndromo.\n",
    "    Observação: Os comentários no código acima explicam cada parte do programa em detalhes. Eles são importantes para tornar o código mais legível e facilitar a compreensão por outras pessoas."
   ]
  },
  {
   "cell_type": "code",
   "execution_count": null,
   "id": "33d4cff0",
   "metadata": {},
   "outputs": [],
   "source": []
  },
  {
   "attachments": {},
   "cell_type": "markdown",
   "id": "9f1c936a",
   "metadata": {},
   "source": [
    "## 9 – Grupo da Maioridade\n",
    "Crie um programa que leia o ano de nascimento de sete pessoas. No final, mostre quantas pessoas ainda não atingiram a maioridade e quantas já são maiores."
   ]
  },
  {
   "cell_type": "code",
   "execution_count": 10,
   "id": "d645f9bb",
   "metadata": {
    "ExecuteTime": {
     "end_time": "2023-05-02T18:55:44.857611Z",
     "start_time": "2023-05-02T18:55:31.388224Z"
    }
   },
   "outputs": [
    {
     "name": "stdout",
     "output_type": "stream",
     "text": [
      "Das 7 pessoas temos 7 Maiores de Idade e 0 Menores de Idade\n"
     ]
    }
   ],
   "source": [
    "# Criando as variaveis de maior e menor idade\n",
    "maiores = 0\n",
    "menores = 0\n",
    "\n",
    "# Cria um laço for que se repete sete vezes para ler o ano de nascimento de cada pessoa\n",
    "for i in range(1, 8):\n",
    "    ano = int(input(f\"Ano de Nascimento da {i} pessoa: \"))\n",
    "    idade = 2023 - ano # Calcula a idade da pessoa com base no nascimento e ano atual\n",
    "\n",
    "    # Condição para maior e menor idade\n",
    "    if idade >= 18:\n",
    "        maiores += 1 # Se a pessoa for maior de idade incrementa a variavel maiores\n",
    "    else:\n",
    "        menores += 1 # Se a pessoa for menor de idade incrementa a variavel menores\n",
    "\n",
    "# Imprime o resultado\n",
    "print(f\"Das 7 pessoas temos {maiores} Maiores de Idade e {menores} Menores de Idade\")"
   ]
  },
  {
   "attachments": {},
   "cell_type": "markdown",
   "id": "e6c08fd8",
   "metadata": {},
   "source": [
    "#### Explicando o Codigo 9 Grupo da Maioridade\n",
    "\n",
    "    Criamos duas variáveis, e , que serão usadas para contar quantas pessoas são maiores e quantas ainda não atingiram a maioridade.maioresmenores\n",
    "    Em seguida, usamos um laço que se repete sete vezes para ler o ano de nascimento de cada pessoa. A função gera os números de 1 a 7, que são usados para exibir a mensagem indicando qual pessoa está sendo cadastrada (, , etc.).forrange(1, 8)Digite o ano de nascimento da pessoa 1Digite o ano de nascimento da pessoa 2\n",
    "    Para cada ano de nascimento lido, calculamos a idade da pessoa com base no ano atual (2023) e armazenamos na variável .idade\n",
    "    Usando um , verificamos se a pessoa é maior ou menor de idade. Se a idade for maior ou igual a 18, incrementamos a variável . Caso contrário, incrementamos a variável .ifmaioresmenores\n",
    "    Finalmente, imprimimos o resultado, indicando quantas pessoas são maiores e quantas ainda não atingiram a maioridade.\n",
    "    Observação: os comentários no código acima explicam cada parte do programa em detalhes. Eles são importantes para tornar o código mais legível e facilitar a compreensão por outras pessoas."
   ]
  },
  {
   "cell_type": "code",
   "execution_count": null,
   "id": "b89307e2",
   "metadata": {},
   "outputs": [],
   "source": []
  },
  {
   "attachments": {},
   "cell_type": "markdown",
   "id": "3e2a4586",
   "metadata": {},
   "source": [
    "## 10 – Maior e menor da sequência\n",
    "Faça um programa que leia o peso de cinco pessoas. No final, mostre qual foi o maior e o menor peso lidos."
   ]
  },
  {
   "cell_type": "code",
   "execution_count": 11,
   "id": "736f0290",
   "metadata": {
    "ExecuteTime": {
     "end_time": "2023-05-02T19:03:26.672205Z",
     "start_time": "2023-05-02T19:03:14.507376Z"
    }
   },
   "outputs": [
    {
     "ename": "ValueError",
     "evalue": "could not convert string to float: ''",
     "output_type": "error",
     "traceback": [
      "\u001b[1;31m---------------------------------------------------------------------------\u001b[0m",
      "\u001b[1;31mValueError\u001b[0m                                Traceback (most recent call last)",
      "Cell \u001b[1;32mIn[11], line 7\u001b[0m\n\u001b[0;32m      5\u001b[0m \u001b[39m# Criando um laço for que se repete 5 vezes para ler os pesos\u001b[39;00m\n\u001b[0;32m      6\u001b[0m \u001b[39mfor\u001b[39;00m i \u001b[39min\u001b[39;00m \u001b[39mrange\u001b[39m(\u001b[39m1\u001b[39m, \u001b[39m6\u001b[39m):\n\u001b[1;32m----> 7\u001b[0m     peso \u001b[39m=\u001b[39m \u001b[39mfloat\u001b[39;49m(\u001b[39minput\u001b[39;49m(\u001b[39mf\u001b[39;49m\u001b[39m\"\u001b[39;49m\u001b[39mPeso da \u001b[39;49m\u001b[39m{\u001b[39;49;00mi\u001b[39m}\u001b[39;49;00m\u001b[39m pessoa: \u001b[39;49m\u001b[39m\"\u001b[39;49m))\n\u001b[0;32m      9\u001b[0m     \u001b[39m# Criando a condição\u001b[39;00m\n\u001b[0;32m     10\u001b[0m     \u001b[39mif\u001b[39;00m i \u001b[39m==\u001b[39m \u001b[39m1\u001b[39m: \u001b[39m# Se for a primeira pessoa, considera que ela e maior ou menor\u001b[39;00m\n",
      "\u001b[1;31mValueError\u001b[0m: could not convert string to float: ''"
     ]
    }
   ],
   "source": [
    "# Primeiro Criams 2 Variaveis maior e menor peso\n",
    "maior_peso = 0\n",
    "menor_peso = 0\n",
    "\n",
    "# Criando um laço for que se repete 5 vezes para ler os pesos\n",
    "for i in range(1, 6):\n",
    "    peso = float(input(f\"Peso da {i} pessoa: \"))\n",
    "\n",
    "    # Criando a condição\n",
    "    if i == 1: # Se for a primeira pessoa, considera que ela e maior ou menor\n",
    "        maior_peso = peso\n",
    "        menor_peso = peso\n",
    "    else: # A Partir da segunda pessoa, verifica se o peso e maior ou menor que o atual\n",
    "        if peso > maior_peso:\n",
    "            maior_peso = peso\n",
    "        if peso < menor_peso:\n",
    "            menor_peso = peso\n",
    "# Imprime o resultado mostrando qual foi o maior e o menor peso\n",
    "print(f\"O Maior peso lido foi de {maior_peso}kg, o menor peso e de {menor_peso}kg\")"
   ]
  },
  {
   "attachments": {},
   "cell_type": "markdown",
   "id": "08f791d4",
   "metadata": {},
   "source": [
    "#### Explicando o Codigo 10 Maior e Menor da Sequencia\n",
    "\n",
    "\n",
    "    Criamos duas variáveis, e , que serão usadas para guardar o maior e o menor peso lidos. Inicialmente, colocamos zero em ambas as variáveis para garantir que elas terão valores válidos.maior_pesomenor_peso\n",
    "    Usamos um laço que se repete cinco vezes para ler o peso de cada pessoa. A função gera os números de 1 a 5, que são usados para exibir a mensagem indicando qual pessoa está sendo cadastrada (, , etc.).forrange(1, 6)Digite o peso da pessoa 1Digite o peso da pessoa 2\n",
    "    Para cada peso lido, usamos um para verificar se é o primeiro peso (ou seja, se ). Se for o primeiro peso, consideramos que ele é tanto o maior quanto o menor. Caso contrário, verificamos se o peso é maior ou menor do que o maior e o menor peso atual, respectivamente.ifi == 1\n",
    "    Finalmente, imprimimos o resultado mostrando qual foi o maior e o menor peso lidos. Usamos o método para formatar os números como floats com duas casas decimais.:.2f\n",
    "    Observação: os comentários no código acima explicam cada parte do programa em detalhes. Eles são importantes para tornar o código mais legível e facilitar a compreensão por outras pessoas."
   ]
  },
  {
   "cell_type": "code",
   "execution_count": null,
   "id": "9b1e45e1",
   "metadata": {},
   "outputs": [],
   "source": []
  },
  {
   "attachments": {},
   "cell_type": "markdown",
   "id": "5f2124d8",
   "metadata": {},
   "source": [
    "## 11 – Analisador completo\n",
    "Desenvolva um programa que leia o nome, idade e sexo de 4 pessoas. No final do programa, mostre: a média de idade do grupo, qual é o nome do homem mais velho e quantas mulheres têm menos de 20 anos."
   ]
  },
  {
   "cell_type": "code",
   "execution_count": null,
   "id": "124f5b75",
   "metadata": {
    "ExecuteTime": {
     "end_time": "2023-05-02T19:34:22.507846Z",
     "start_time": "2023-05-02T19:33:49.096479Z"
    }
   },
   "outputs": [
    {
     "name": "stdout",
     "output_type": "stream",
     "text": [
      "--- Dados da 1 pessoa: \n",
      "--- Dados da 2 pessoa: \n",
      "--- Dados da 3 pessoa: \n",
      "--- Dados da 4 pessoa: \n",
      "A Media de idade do grupo e de 31.8 anos\n",
      "O Homen mais velho e Carlos e tem 78.0 anos \n",
      "Ao todo temos 2.0 mulheres com menos de 20 anos\n"
     ]
    }
   ],
   "source": [
    "# Cria as variaveis paera guarda a soma das idades e o nome do homen mais velho\n",
    "soma_idades = 0\n",
    "idade_homen_mais_velho = 0\n",
    "nome_homen_mais_velho = ''\n",
    "\n",
    "# Cria uma variavel para contar o numero de mulheres com menos de 20 anos\n",
    "qtd_mulheres_menos_20 = 0\n",
    "\n",
    "# Usa um laço for para ler as informações de casa pessoa\n",
    "for i in range(1, 5):\n",
    "    print(f\"--- Dados da {i} pessoa: \")\n",
    "    nome = input(f\"Digite o nome da {i} pessoa: \").title()\n",
    "    idade = int(input(f\"Idade do(a) {nome}: \"))\n",
    "    sexo = input(f\"Qual o Sexo do(a) {nome}: \").upper()[0]\n",
    "\n",
    "    # Soma a idade lida a variavel soma_idades\n",
    "    soma_idades += idade\n",
    "\n",
    "    # Verifica se a pessoa e um homen se e o mais velho\n",
    "    if sexo == 'M' and idade > idade_homen_mais_velho:\n",
    "        idade_homen_mais_velho = idade\n",
    "        nome_homen_mais_velho = nome\n",
    "\n",
    "    # Verifica se a pessoa e uma mulher com menos de 20 anos\n",
    "    if sexo == 'F' and idade < 20:\n",
    "        qtd_mulheres_menos_20 += 1\n",
    "\n",
    "# Calcula a media de idade do grupo\n",
    "media_idade = soma_idades / 4\n",
    "\n",
    "# Imprime o resultado\n",
    "print(f\"A Media de idade do grupo e de {media_idade:.1f} anos\")\n",
    "if nome_homen_mais_velho != '':\n",
    "    print(f\"O Homen mais velho e {nome_homen_mais_velho} e tem {idade_homen_mais_velho:.1f} anos \")\n",
    "else:\n",
    "    print(\"Não foi Informado nenhum homen\")\n",
    "print(f\"Ao todo temos {qtd_mulheres_menos_20:.1f} mulheres com menos de 20 anos\")\n",
    "\n",
    "\n"
   ]
  },
  {
   "attachments": {},
   "cell_type": "markdown",
   "id": "3f279434",
   "metadata": {},
   "source": [
    "#### Explicando o código 11 Analisador Completo\n",
    "\n",
    "    Criamos quatro variáveis para guardar as informações sobre as pessoas: para calcular a média de idade do grupo, e para encontrar o homem mais velho e para contar quantas mulheres têm menos de 20 anos. Inicialmente, colocamos zero em todas as variáveis para garantir que elas terão valores válidos.soma_idadesmaior_idade_homemnome_homem_mais_velhomulheres_menos_de_20\n",
    "    Usamos um laço que se repete quatro vezes para ler as informações de cada pessoa. Para cada pessoa, usamos a função para ler o nome e o sexo e a função para ler a idade como um número inteiro.forinputint\n",
    "    Para cada pessoa, somamos a idade à variável para calcular a média no final.soma_idades\n",
    "    Usamos um para verificar se a pessoa é do sexo masculino e tem idade maior que a do homem mais velho até agora. Se for o caso, atualizamos as variáveis e .ifmaior_idade_homemnome_homem_mais_velho\n",
    "    Usamos outro para verificar se a pessoa é do sexo feminino e tem idade menor que 20 anos. Se for o caso, incrementamos a variável 'mulheres_menos_de_20if"
   ]
  },
  {
   "cell_type": "code",
   "execution_count": null,
   "id": "63021d69",
   "metadata": {},
   "outputs": [],
   "source": []
  },
  {
   "cell_type": "code",
   "execution_count": null,
   "id": "234ab47f",
   "metadata": {},
   "outputs": [],
   "source": []
  }
 ],
 "metadata": {
  "kernelspec": {
   "display_name": "Python 3 (ipykernel)",
   "language": "python",
   "name": "python3"
  },
  "language_info": {
   "codemirror_mode": {
    "name": "ipython",
    "version": 3
   },
   "file_extension": ".py",
   "mimetype": "text/x-python",
   "name": "python",
   "nbconvert_exporter": "python",
   "pygments_lexer": "ipython3",
   "version": "3.10.9"
  }
 },
 "nbformat": 4,
 "nbformat_minor": 5
}

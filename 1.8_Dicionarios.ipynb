{
 "cells": [
  {
   "attachments": {},
   "cell_type": "markdown",
   "id": "ec46abe4",
   "metadata": {},
   "source": [
    "# Dicionarios em Python\n",
    "Dicionários em Python são uma estrutura de dados que armazena pares de chave-valor. Cada elemento em um dicionário tem uma chave única e um valor associado a essa chave. Dicionários são úteis quando você precisa armazenar e recuperar informações com base em uma chave específica.\n",
    "\n",
    "Por exemplo, imagine que você queira armazenar informações sobre uma pessoa, como nome, idade e sexo. Você pode usar um dicionário para fazer isso da seguinte maneira:"
   ]
  },
  {
   "cell_type": "code",
   "execution_count": 18,
   "id": "36c607c8",
   "metadata": {},
   "outputs": [],
   "source": [
    "pessoa = {'nome': 'João', 'idade': 30, 'sexo': 'M'}"
   ]
  },
  {
   "attachments": {},
   "cell_type": "markdown",
   "id": "34315d03",
   "metadata": {},
   "source": [
    "Neste exemplo, criamos um dicionário chamado pessoa com três pares de chave-valor. A chave 'nome' tem o valor 'João', a chave 'idade' tem o valor 30 e a chave 'sexo' tem o valor 'M'.\n",
    "\n",
    "Você pode acessar os valores em um dicionário usando a sintaxe dicionario['chave']. Por exemplo, para acessar o nome da pessoa no dicionário acima, você pode usar o seguinte código:"
   ]
  },
  {
   "cell_type": "code",
   "execution_count": 21,
   "id": "85c3114f",
   "metadata": {},
   "outputs": [
    {
     "name": "stdout",
     "output_type": "stream",
     "text": [
      "João\n"
     ]
    }
   ],
   "source": [
    "nome = pessoa['nome']\n",
    "print(nome)"
   ]
  },
  {
   "attachments": {},
   "cell_type": "markdown",
   "id": "8ee51d75",
   "metadata": {},
   "source": [
    "Isso atribuirá o valor 'João' à variável nome.\n",
    "\n",
    "Você também pode modificar os valores em um dicionário usando a mesma sintaxe. Por exemplo, para mudar a idade da pessoa no dicionário acima para 31, você pode usar o seguinte código:"
   ]
  },
  {
   "cell_type": "code",
   "execution_count": 20,
   "id": "67432fc6",
   "metadata": {},
   "outputs": [
    {
     "name": "stdout",
     "output_type": "stream",
     "text": [
      "{'nome': 'João', 'idade': 31, 'sexo': 'M'}\n"
     ]
    }
   ],
   "source": [
    "pessoa['idade'] = 31\n",
    "print(pessoa)"
   ]
  },
  {
   "attachments": {},
   "cell_type": "markdown",
   "id": "66be70c1",
   "metadata": {},
   "source": [
    "Agora o dicionário pessoa terá o valor 31 associado à chave 'idade'.\n",
    "\n",
    "Dicionários são muito úteis para armazenar informações estruturadas e podem ser usados de várias maneiras em programas Python"
   ]
  },
  {
   "cell_type": "code",
   "execution_count": null,
   "id": "db5667f2",
   "metadata": {},
   "outputs": [],
   "source": []
  },
  {
   "cell_type": "code",
   "execution_count": null,
   "id": "7f7eb8bd",
   "metadata": {},
   "outputs": [],
   "source": []
  },
  {
   "attachments": {},
   "cell_type": "markdown",
   "id": "179a9615",
   "metadata": {},
   "source": [
    "## 1 – Dicionário em Python\n",
    "Faça um programa que leia nome e média de um aluno, guardando também a situação em um dicionário. No final, mostre o conteúdo da estrutura na tela."
   ]
  },
  {
   "cell_type": "code",
   "execution_count": 2,
   "id": "7eebbb86",
   "metadata": {},
   "outputs": [
    {
     "name": "stdout",
     "output_type": "stream",
     "text": [
      "Nome do aluno: Marcos\n",
      "Idade do aluno: 34\n",
      "{'Nome': 'Marcos', 'Media': 34.0, 'Situacao': 'Aprovado'}\n"
     ]
    }
   ],
   "source": [
    "# Le o nome e a idade do aluno\n",
    "nome = str(input(\"Nome do aluno: \"))\n",
    "media = float(input(\"Idade do aluno: \"))\n",
    "\n",
    "# Verifica a situacao do aluno\n",
    "if media >= 7:\n",
    "    situacao = 'Aprovado'\n",
    "elif media >= 5:\n",
    "    situacao = 'Recuperacao'\n",
    "else:\n",
    "    situacao = 'Reprovado'\n",
    "    \n",
    "# Cria o dicionario com os dados do aluno\n",
    "aluno = {'Nome':nome, 'Media': media, 'Situacao':situacao}\n",
    "\n",
    "# Imprime o conteudo do dicionario na tela\n",
    "print(aluno)"
   ]
  },
  {
   "attachments": {},
   "cell_type": "markdown",
   "id": "38aa262c",
   "metadata": {},
   "source": [
    "#### Explicação: 1 Dicionarios\n",
    "\n",
    "    O programa começa lendo o nome e a média do aluno usando a função e , respectivamente. Em seguida, verifica a situação do aluno usando uma estrutura condicional . Se a média for maior ou igual a 7, a situação é definida como \"Aprovado\". Se a média estiver entre 5 e 7, a situação é definida como \"Recuperação\". Caso contrário, a situação é definida como \"Reprovado\".input()float(input())if-elif-else\n",
    "\n",
    "    Após definir a situação do aluno, o programa cria um dicionário chamado com três chaves: \"Nome\", \"Média\" e \"Situação\", e seus respectivos valores. O nome e a média do aluno são obtidos das variáveis e , enquanto a situação é obtida da variável .alunonomemediasituacao\n",
    "\n",
    "    Por fim, o programa imprime o conteúdo do dicionário na tela usando a função . O resultado será um dicionário com as informações do aluno, como o exemplo abaixo:print()"
   ]
  },
  {
   "cell_type": "code",
   "execution_count": null,
   "id": "680e6881",
   "metadata": {},
   "outputs": [],
   "source": []
  },
  {
   "attachments": {},
   "cell_type": "markdown",
   "id": "a9899050",
   "metadata": {},
   "source": [
    "## 2 – Jogo de Dados em Python\n",
    "Crie um programa onde 4 jogadores joguem um dado e tenham resultados aleatórios. Guarde esses resultados em um dicionário em Python. No final, coloque esse dicionário em ordem, sabendo que o vencedor tirou o maior número no dado."
   ]
  },
  {
   "cell_type": "code",
   "execution_count": 8,
   "id": "429a7bf2",
   "metadata": {},
   "outputs": [
    {
     "name": "stdout",
     "output_type": "stream",
     "text": [
      "Resultado:\n",
      "jogador2 : 6\n",
      "jogador1 : 5\n",
      "jogador3 : 5\n",
      "jogador4 : 3\n",
      "Vencedor: jogador2\n"
     ]
    }
   ],
   "source": [
    "import random\n",
    "\n",
    "# Define a lista de jogadores\n",
    "jogadores = ['jogador1', 'jogador2', 'jogador3', 'jogador4']\n",
    "\n",
    "# Cria um dicionário para armazenar os resultados\n",
    "resultados = {}\n",
    "\n",
    "# Gera um resultado aleatório para cada jogador\n",
    "for jogador in jogadores:\n",
    "    resultado = random.randint(1, 6)\n",
    "    resultados[jogador] = resultado\n",
    "\n",
    "# Ordena o dicionário pelo valor de cada jogador, do maior para o menor\n",
    "resultados_ordenados = dict(sorted(resultados.items(), key=lambda item: item[1], reverse=True))\n",
    "\n",
    "# Imprime o resultado final\n",
    "print('Resultado:')\n",
    "for jogador, resultado in resultados_ordenados.items():\n",
    "    print(jogador, ':', resultado)\n",
    "\n",
    "print('Vencedor:', list(resultados_ordenados.keys())[0])\n"
   ]
  },
  {
   "attachments": {},
   "cell_type": "markdown",
   "id": "44a3a85e",
   "metadata": {},
   "source": [
    "#### Explicação 2 Jodo de Dados em Python\n",
    "\n",
    "    O programa começa importando o módulo para gerar números aleatórios. Em seguida, define uma lista de jogadores chamada .randomjogadores\n",
    "\n",
    "    Depois, cria um dicionário vazio chamado para armazenar os resultados dos jogadores. Usando um laço , o programa gera um resultado aleatório de 1 a 6 para cada jogador e armazena esse resultado no dicionário usando o nome do jogador como chave.resultadosforresultados\n",
    "\n",
    "    Após gerar todos os resultados, o programa ordena o dicionário pelo valor de cada jogador, do maior para o menor, usando a função e o parâmetro , que indica que a ordenação deve ser feita pelo valor de cada item no dicionário. O resultado é armazenado em um novo dicionário chamado .resultadossorted()key=lambda item: item[1]resultados_ordenados\n",
    "\n",
    "    Por fim, o programa imprime o resultado final na tela usando um laço para percorrer o dicionário e exibir o nome e o resultado de cada jogador. O programa também imprime o nome do vencedor, que é o primeiro item do dicionário ordenado, obtido usando a função .forresultados_ordenadoslist(resultados_ordenados.keys())[0]"
   ]
  },
  {
   "cell_type": "code",
   "execution_count": null,
   "id": "4a6bf802",
   "metadata": {},
   "outputs": [],
   "source": []
  },
  {
   "attachments": {},
   "cell_type": "markdown",
   "id": "4e8e94e0",
   "metadata": {},
   "source": [
    "## 3 – Cadastro de Trabalhador em Python\n",
    "Crie um programa que leia nome, ano de nascimento e carteira de trabalho e cadastre-o (com idade) em um dicionário. Se por acaso a CTPS for diferente de ZERO, o dicionário receberá também o ano de contratação e o salário. Calcule e acrescente, além da idade, com quantos anos a pessoa vai se aposentar."
   ]
  },
  {
   "cell_type": "code",
   "execution_count": 12,
   "id": "144ef0f9",
   "metadata": {},
   "outputs": [
    {
     "name": "stdout",
     "output_type": "stream",
     "text": [
      "Digite o nome: Miguel\n",
      "Digite o ano de nascimento: 1960\n",
      "Digite a carteira de trabalho (0 se não tive): 7363\n",
      "Digite o ano de contratacao: 1990\n",
      "Digite o Salario: 2300\n",
      "Dados cadastrados: \n",
      "nome : Miguel\n",
      "Ano_Nascimento : 1960\n",
      "Idade : 63\n",
      "ctps : 7363\n",
      "ano_contratacao : 1990\n",
      "salario : 2300.0\n",
      "idade_aposentadoria : 65\n"
     ]
    }
   ],
   "source": [
    "from datetime import date\n",
    "\n",
    "# Le os dados da pessoa\n",
    "nome = input(\"Digite o nome: \")\n",
    "ano_nascimento = int(input(\"Digite o ano de nascimento: \"))\n",
    "ctps = int(input(\"Digite a carteira de trabalho (0 se não tive): \"))\n",
    "\n",
    "# Calcula a idade da pessoa\n",
    "idade = date.today().year - ano_nascimento\n",
    "\n",
    "# Cria o dicionario com os dados da pessoa\n",
    "pessoa = {\"nome\": nome, 'Ano_Nascimento': ano_nascimento, 'Idade': idade}\n",
    "\n",
    "# Se a pessoa tem carteira de trabalho, le o ano de contratacao e o salario\n",
    "if ctps != 0:\n",
    "    ano_contratacao = int(input(\"Digite o ano de contratacao: \"))\n",
    "    salario = float(input(\"Digite o Salario: \"))\n",
    "    pessoa['ctps'] = ctps\n",
    "    pessoa['ano_contratacao'] = ano_contratacao\n",
    "    pessoa['salario'] = salario\n",
    "    \n",
    "    # Calcula a idade em que a pessoa vai se aposentar\n",
    "    anos_contribuicao = date.today().year - ano_contratacao\n",
    "    idade_aposentadoria = idade + (35 - anos_contribuicao)\n",
    "    pessoa['idade_aposentadoria'] = idade_aposentadoria\n",
    "    \n",
    "# Imprime os dados da pessoa\n",
    "print(\"Dados cadastrados: \")\n",
    "for chave, valor in pessoa.items():\n",
    "    print(chave, \":\", valor)"
   ]
  },
  {
   "attachments": {},
   "cell_type": "markdown",
   "id": "2751a63c",
   "metadata": {},
   "source": [
    "#### Explicaçã 3 – Cadastro de Trabalhador em Python\n",
    "\n",
    "    O programa começa importando o módulo da biblioteca , que será usado para calcular a idade da pessoa.datedatetime\n",
    "\n",
    "    Em seguida, o programa lê o nome, o ano de nascimento e a carteira de trabalho da pessoa usando a função . O ano de nascimento é convertido para um número inteiro usando a função e a carteira de trabalho é convertida para um número inteiro também.input()int()\n",
    "\n",
    "    Depois, o programa calcula a idade da pessoa subtraindo o ano de nascimento do ano atual, obtido usando a função .date.today().year\n",
    "\n",
    "    Em seguida, o programa cria um dicionário chamado com as chaves \"nome\", \"ano_nascimento\" e \"idade\" e os valores lidos anteriormente.pessoa\n",
    "\n",
    "    Se a carteira de trabalho for diferente de zero, o programa solicita o ano de contratação e o salário usando a função . O ano de contratação é convertido para um número inteiro e o salário é convertido para um número de ponto flutuante usando as funções e , respectivamente. Em seguida, o programa adiciona as chaves \"ctps\", \"ano_contratacao\" e \"salario\" ao dicionário com os valores lidos.input()int()float()pessoa\n",
    "\n",
    "    Por fim, se a pessoa tem carteira de trabalho, o programa calcula a idade em que a pessoa vai se aposentar, que é a idade atual mais o tempo de contribuição necessário para se aposentar (35 anos, nesse exemplo) menos o tempo de contribuição já realizado pela pessoa. O resultado é armazenado no dicionário com a chave \"idade_aposentpessoa"
   ]
  },
  {
   "cell_type": "code",
   "execution_count": null,
   "id": "55c02953",
   "metadata": {},
   "outputs": [],
   "source": []
  },
  {
   "attachments": {},
   "cell_type": "markdown",
   "id": "0e41be8d",
   "metadata": {},
   "source": [
    "## 4 – Cadastro de Jogador de Futebol\n",
    "Crie um programa que gerencie o aproveitamento de um jogador de futebol. O programa vai ler o nome do jogador e quantas partidas ele jogou. Depois vai ler a quantidade de gols feitos em cada partida. No final, tudo isso será guardado em um dicionário, incluindo o total de gols feitos durante o campeonato."
   ]
  },
  {
   "cell_type": "code",
   "execution_count": 13,
   "id": "48fa6233",
   "metadata": {},
   "outputs": [
    {
     "name": "stdout",
     "output_type": "stream",
     "text": [
      "Digite o nome do Jogador: Marcos\n",
      "Digite o numero de partidas jogadas: 3\n",
      "Digite o numero de Gols que o Marcos fez na partida 1:  1\n",
      "Digite o numero de Gols que o Marcos fez na partida 2:  1\n",
      "Digite o numero de Gols que o Marcos fez na partida 3:  0\n",
      "Dados do Jogador: \n",
      "nome : Marcos\n",
      "partidas : 3\n",
      "gols : [1, 1, 0]\n",
      "total_gols : 2\n"
     ]
    }
   ],
   "source": [
    "# Lê o nome do jogador e a quantidade de partidas jogadas\n",
    "nome = input(\"Digite o nome do Jogador: \")\n",
    "partidas = int(input(\"Digite o numero de partidas jogadas: \"))\n",
    "\n",
    "# Le a quantidade de gols feitos em cada partida\n",
    "gols = []\n",
    "for i in range(partidas):\n",
    "    gol = int(input(f\"Digite o numero de Gols que o {nome} fez na partida {i+1}:  \"))\n",
    "    gols.append(gol)\n",
    "    \n",
    "# Calcula o total de gols feitos durante o campeonato\n",
    "total_gols = sum(gols)\n",
    "\n",
    "\n",
    "# Cria o dicionario com os dados do jogador\n",
    "jogador = {'nome': nome, 'partidas':partidas, 'gols':gols, 'total_gols':total_gols}\n",
    "\n",
    "# Imprime os dados do jogador\n",
    "print(\"Dados do Jogador: \")\n",
    "for chave, valor in jogador.items():\n",
    "    print(chave, ':', valor)"
   ]
  },
  {
   "attachments": {},
   "cell_type": "markdown",
   "id": "16d34d3c",
   "metadata": {},
   "source": [
    "#### Explicação 4 – Cadastro de Jogador de Futebol\n",
    "\n",
    "    O programa começa lendo o nome do jogador usando a função e a quantidade de partidas jogadas usando a função .input()int()\n",
    "\n",
    "    Em seguida, o programa usa um laço para ler a quantidade de gols feitos em cada partida. A cada iteração do laço, o programa lê um número inteiro usando a função e adiciona o número à lista usando o método .forint()golsappend()\n",
    "\n",
    "    Depois de ler a quantidade de gols em todas as partidas, o programa calcula o total de gols feitos durante o campeonato usando a função .sum()\n",
    "\n",
    "    Por fim, o programa cria um dicionário chamado com as chaves \"nome\", \"partidas\", \"gols\" e \"total_gols\" e os valores lidos anteriormente. O programa imprime os dados do jogador usando um laço que percorre as chaves e os valores do dicionário .jogadorforjogador"
   ]
  },
  {
   "cell_type": "code",
   "execution_count": null,
   "id": "9dfdef28",
   "metadata": {},
   "outputs": [],
   "source": []
  },
  {
   "attachments": {},
   "cell_type": "markdown",
   "id": "ea6caf4a",
   "metadata": {},
   "source": [
    "## 5 – Unindo dicionários e listas\n",
    "    Crie um programa que leia nome, sexo e idade de várias pessoas, guardando os dados de cada pessoa em um dicionário e todos os dicionários em uma lista. No final, mostre: \n",
    "        A) Quantas pessoas foram cadastradas \n",
    "        B) A média de idade \n",
    "        C) Uma lista com as mulheres \n",
    "        D) Uma lista de pessoas com idade acima da média"
   ]
  },
  {
   "cell_type": "code",
   "execution_count": 17,
   "id": "3b51f94f",
   "metadata": {},
   "outputs": [
    {
     "name": "stdout",
     "output_type": "stream",
     "text": [
      "Nome: artur\n",
      "Sexo ['M/F']: m\n",
      "Idade: 23\n",
      "Deseja continuar? ['S/N']: s\n",
      "Nome: mila\n",
      "Sexo ['M/F']: f\n",
      "Idade: 45\n",
      "Deseja continuar? ['S/N']: s\n",
      "Nome: miguel\n",
      "Sexo ['M/F']: m\n",
      "Idade: 67\n",
      "Deseja continuar? ['S/N']: s\n",
      "Nome: maria\n",
      "Sexo ['M/F']: f\n",
      "Idade: 76\n",
      "Deseja continuar? ['S/N']: n\n",
      "Quantidade de pessoas cadastradas: 4\n",
      "Media de idade: 52.75\n",
      "Mulheres cadastradas: \n",
      "  -mila\n",
      "  -maria\n",
      "Pessoas com idade acima da media: \n",
      "  - miguel\n",
      "  - maria\n"
     ]
    }
   ],
   "source": [
    "# Cria uma lista vazia para armazenar os dicionarios\n",
    "pessoas = []\n",
    "\n",
    "# Loop para ler os dados das pessoas\n",
    "while True:\n",
    "    # Cria um dicionario vazio para armazenar os dados \n",
    "    pessoa = {}\n",
    "    \n",
    "    # Le o nome da pessoa e armazena no dicionario\n",
    "    pessoa['nome'] = input(\"Nome: \")\n",
    "    \n",
    "    # Le o sexo da pessoa e armazena no dicionario\n",
    "    pessoa['sexo'] = input(\"Sexo ['M/F']: \").upper()[0]\n",
    "    \n",
    "    # Le a idade da pessoa e armazena no dicionario\n",
    "    pessoa['idade'] = int(input(\"Idade: \"))\n",
    "    \n",
    "    # Adiciona o dicionario da pessoa na lista de pessoas\n",
    "    pessoas.append(pessoa)\n",
    "    \n",
    "    # Pergunta se deseja continuar cadastrando pessoas\n",
    "    continuar = input(\"Deseja continuar? ['S/N']: \").upper()\n",
    "    if continuar == 'N':\n",
    "        break\n",
    "        \n",
    "# Calcula a quantidade de pessoas cadastradas\n",
    "quantidade_pessoas = len(pessoas)\n",
    "\n",
    "# Calcula a media de idade das pessoas cadastradas\n",
    "media_idade = sum(pessoa['idade'] for pessoa in pessoas) / quantidade_pessoas\n",
    "\n",
    "# Cria uma lista com as mulheres cadastradas\n",
    "mulheres = [pessoa for pessoa in pessoas if pessoa['sexo'] == 'F']\n",
    "\n",
    "# Cria uma lista com as pessoas com idade acima da media\n",
    "acima_media = [pessoa for pessoa in pessoas if pessoa['idade'] > media_idade]\n",
    "        \n",
    "        \n",
    "# Mostra os resultados\n",
    "print(f\"Quantidade de pessoas cadastradas: {quantidade_pessoas}\")\n",
    "print(f\"Media de idade: {media_idade:.2f}\")\n",
    "print(f\"Mulheres cadastradas: \")\n",
    "\n",
    "for mulher in mulheres:\n",
    "    print(f\"  -{mulher['nome']}\")\n",
    "    \n",
    "print(\"Pessoas com idade acima da media: \")\n",
    "for pessoa in acima_media:\n",
    "    print(f\"  - {pessoa['nome']}\")"
   ]
  },
  {
   "attachments": {},
   "cell_type": "markdown",
   "id": "49eace88",
   "metadata": {},
   "source": [
    "#### Explicando o codigo 5 – Unindo dicionários e listas\n",
    "    Este código começa criando uma lista vazia chamada pessoas para armazenar os dicionários com os dados de cada pessoa. Em seguida, entra em um loop while para ler os dados das pessoas. Dentro do loop, é criado um dicionário vazio chamado pessoa para armazenar os dados de uma única pessoa. Os dados são lidos usando a função input e armazenados no dicionário usando a sintaxe pessoa['chave'] = valor. Depois que todos os dados são lidos e armazenados no dicionário, ele é adicionado à lista pessoas usando o método append. O loop continua perguntando ao usuário se ele deseja continuar cadastrando mais pessoas. Se o usuário responder 'N', o loop é interrompido.\n",
    "\n",
    "    Depois que todos os dados são lidos, o código calcula a quantidade de pessoas cadastradas usando a função len para obter o tamanho da lista pessoas. Em seguida, calcula a média de idade das pessoas cadastradas usando a função sum para somar as idades de todas as pessoas e dividindo pelo número de pessoas. Depois, cria uma lista com as mulheres cadastradas usando uma compreensão de lista para filtrar apenas as pessoas cujo sexo é 'F'. Em seguida, cria uma lista com as pessoas com idade acima da média usando outra compreensão de lista para filtrar apenas as pessoas cuja idade é maior que a média.\n",
    "\n",
    "    Por fim, o código mostra os resultados na tela usando a função print. Primeiro, mostra a quantidade de pessoas cadastradas e a média de idade. Depois, mostra as mulheres cadastradas percorrendo a lista mulheres com um loop for e imprimindo o nome de cada mulher. Por fim, mostra as pessoas com idade acima da média percorrendo a lista acima_media com outro loop for e imprimindo o nome de cada pessoa."
   ]
  },
  {
   "cell_type": "code",
   "execution_count": null,
   "id": "b1958a5b",
   "metadata": {},
   "outputs": [],
   "source": []
  },
  {
   "attachments": {},
   "cell_type": "markdown",
   "id": "db6b656c",
   "metadata": {},
   "source": [
    "## 6 – Aprimorando os Dicionários\n",
    "Crie um programa que gerencie o aproveitamento de varios jogadores de futebol, incluindo um sistema de visualização de detalhes do aproveitamento de cada jogador. O programa vai ler o nome do jogador e quantas partidas ele jogou. Depois vai ler a quantidade de gols feitos em cada partida. No final, tudo isso será guardado em um dicionário, incluindo o total de gols feitos durante o campeonato."
   ]
  },
  {
   "cell_type": "code",
   "execution_count": 23,
   "id": "53089ba4",
   "metadata": {},
   "outputs": [
    {
     "name": "stdout",
     "output_type": "stream",
     "text": [
      "Nome do Jogador: Marcos\n",
      "Quantas partidas Marcos jogou: 2\n",
      "  Quantos gols na partida 1? 1\n",
      "  Quantos gols na partida 2? 1\n",
      "Deseja continuar? ['S/N']: s\n",
      "Nome do Jogador: luan\n",
      "Quantas partidas luan jogou: 3\n",
      "  Quantos gols na partida 1? 1\n",
      "  Quantos gols na partida 2? 0\n",
      "  Quantos gols na partida 3? 0\n",
      "Deseja continuar? ['S/N']: n\n",
      "========================================\n",
      "cond nome           gols           total          \n",
      "========================================\n",
      "  0 Marcos          [1, 1]          2               \n",
      "  1 luan            [1, 0, 0]       1               \n",
      "========================================\n",
      "Mostra dados de qual jogador? [999] Stop: 1\n",
      " --  LEVANTAMENTO DO JOGAOR luan: \n",
      "  - No jogo 1 fez 1 gols\n",
      "  - No jogo 2 fez 0 gols\n",
      "  - No jogo 3 fez 0 gols\n",
      "Mostra dados de qual jogador? [999] Stop: 2\n",
      "ERRO! Não existe jogador com o codigo 2: \n",
      "Mostra dados de qual jogador? [999] Stop: 0\n",
      " --  LEVANTAMENTO DO JOGAOR Marcos: \n",
      "  - No jogo 1 fez 1 gols\n",
      "  - No jogo 2 fez 1 gols\n",
      "Mostra dados de qual jogador? [999] Stop: 999\n"
     ]
    }
   ],
   "source": [
    "# Cria uma lista vazia para armazenar os dicionários com os dados dos jogadores\n",
    "jogadores = []\n",
    "\n",
    "# Loop para ler os dados dos jogadores\n",
    "while True:\n",
    "    # Cria um dicionario vazio para armazenar os dados de um jogador\n",
    "    jogador = {}\n",
    "    \n",
    "    # Le o nome do jogador e armazena no dicionario\n",
    "    jogador['nome'] = input(\"Nome do Jogador: \")\n",
    "    \n",
    "    # Le a quantidade de partidas jogadas pelo jogador\n",
    "    partidas = int(input(f\"Quantas partidas {jogador['nome']} jogou: \"))\n",
    "    \n",
    "    # Cria uma lista vazia para armazenar a quantidade de gols em cada partida\n",
    "    gols = []\n",
    "    \n",
    "    # Loop para ler a quantidade de gols em cada partida\n",
    "    for i in range(partidas):\n",
    "        gols.append(int(input(f\"  Quantos gols na partida {i+1}? \")))\n",
    "        \n",
    "    # Armazena a lista de gols no dicionario do jogador\n",
    "    jogador['gols'] = gols\n",
    "    \n",
    "    # Calcula o total de gols do jogador e armazena no dicionario\n",
    "    jogador['total'] = sum(gols)\n",
    "    \n",
    "    # Adiciona o dicionario do jogador na lista de jogadores\n",
    "    jogadores.append(jogador)\n",
    "    \n",
    "    \n",
    "    # Pergunta se deseja continuar cadastrando jogadores\n",
    "    continuar = input(\"Deseja continuar? ['S/N']: \").upper()\n",
    "    if continuar =='N':\n",
    "        break\n",
    "        \n",
    "# Mostra os dados dos jogadores\n",
    "print('='*40)\n",
    "print('cond ', end='')\n",
    "for key in jogador.keys():\n",
    "    print(f\"{key:<15}\", end='')\n",
    "    \n",
    "print()\n",
    "print('='*40)\n",
    "\n",
    "for index, jogador in enumerate(jogadores):\n",
    "    print(f\"{index:>3} \", end='')\n",
    "    \n",
    "    for value in jogador.values():\n",
    "        print(f\"{str(value):<15} \", end='')\n",
    "    print()\n",
    "    \n",
    "print('='*40)\n",
    "\n",
    "# Loop para mostrar os detalhes do aproveitamento de cada jogador\n",
    "while True:\n",
    "    # Pergunta qual jogador deseja ver os detalhes\n",
    "    codigo = int(input(\"Mostra dados de qual jogador? [999] Stop: \"))\n",
    "    \n",
    "    # Verifica se deseja continuar\n",
    "    if codigo == 999:\n",
    "        break\n",
    "        \n",
    "    # Verifica se o codigo e valido\n",
    "    if codigo >= len(jogadores):\n",
    "        print(f\"ERRO! Não existe jogador com o codigo {codigo}: \")\n",
    "        continue\n",
    "        \n",
    "    # Mostra os detalhes do jogador selecionado\n",
    "    print(f\" --  LEVANTAMENTO DO JOGAOR {jogadores[codigo]['nome']}: \")\n",
    "    for index, gols in enumerate(jogadores[codigo]['gols']):\n",
    "        print(f\"  - No jogo {index+1} fez {gols} gols\")\n",
    "    \n",
    "    "
   ]
  },
  {
   "attachments": {},
   "cell_type": "markdown",
   "id": "c939417e",
   "metadata": {},
   "source": [
    "#### Explicando o codigo\n",
    "    ste código começa criando uma lista vazia chamada jogadores para armazenar os dicionários com os dados de cada jogador. Em seguida, entra em um loop while para ler os dados dos jogadores. Dentro do loop, é criado um dicionário vazio chamado jogador para armazenar os dados de um único jogador. O nome do jogador é lido usando a função input e armazenado no dicionário usando a sintaxe jogador['chave'] = valor. Depois, é lida a quantidade de partidas jogadas pelo jogador usando a função input e convertendo o resultado para int.\n",
    "\n",
    "    Em seguida, é criada uma lista vazia chamada gols para armazenar a quantidade de gols feitos pelo jogador em cada partida. O código entra em outro loop for para ler a quantidade de gols em cada partida usando a função input e convertendo o resultado para int. Cada valor lido é adicionado à lista gols usando o método append. Depois que todos os valores são lidos, a lista gols é armazenada no dicionário do jogador usando a sintaxe jogador['chave'] = valor.\n",
    "\n",
    "    Depois, o código calcula o total de gols feitos pelo jogador usando a função sum para somar todos os valores da lista gols. O resultado é armazenado no dicionário do jogador usando a sintaxe"
   ]
  },
  {
   "cell_type": "code",
   "execution_count": null,
   "id": "7e931bcc",
   "metadata": {},
   "outputs": [],
   "source": []
  },
  {
   "cell_type": "code",
   "execution_count": null,
   "id": "d68b348b",
   "metadata": {},
   "outputs": [],
   "source": []
  }
 ],
 "metadata": {
  "kernelspec": {
   "display_name": "Python 3 (ipykernel)",
   "language": "python",
   "name": "python3"
  },
  "language_info": {
   "codemirror_mode": {
    "name": "ipython",
    "version": 3
   },
   "file_extension": ".py",
   "mimetype": "text/x-python",
   "name": "python",
   "nbconvert_exporter": "python",
   "pygments_lexer": "ipython3",
   "version": "3.10.9"
  }
 },
 "nbformat": 4,
 "nbformat_minor": 5
}

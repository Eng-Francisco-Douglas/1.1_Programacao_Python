{
 "cells": [
  {
   "cell_type": "code",
   "execution_count": 23,
   "metadata": {},
   "outputs": [
    {
     "data": {
      "text/plain": [
       "'\\nUtilitarios Python Para Que Auxiliar na programação\\nDir - Apresena todos os atributos e funções/metodos\\n\\nHelp - Apresenta a documentação/como atributos/propriedades\\n'"
      ]
     },
     "execution_count": 23,
     "metadata": {},
     "output_type": "execute_result"
    }
   ],
   "source": [
    "'''\n",
    "Utilitarios Python Para Que Auxiliar na programação\n",
    "\n",
    "Dir - Apresena todos os atributos e funções/metodos\n",
    "\n",
    "Help - Apresenta a documentação/como atributos/propriedades\n",
    "'''"
   ]
  },
  {
   "cell_type": "code",
   "execution_count": 24,
   "metadata": {},
   "outputs": [
    {
     "name": "stdout",
     "output_type": "stream",
     "text": [
      "['__add__', '__class__', '__contains__', '__delattr__', '__dir__', '__doc__', '__eq__', '__format__', '__ge__', '__getattribute__', '__getitem__', '__getnewargs__', '__gt__', '__hash__', '__init__', '__init_subclass__', '__iter__', '__le__', '__len__', '__lt__', '__mod__', '__mul__', '__ne__', '__new__', '__reduce__', '__reduce_ex__', '__repr__', '__rmod__', '__rmul__', '__setattr__', '__sizeof__', '__str__', '__subclasshook__', 'capitalize', 'casefold', 'center', 'count', 'encode', 'endswith', 'expandtabs', 'find', 'format', 'format_map', 'index', 'isalnum', 'isalpha', 'isascii', 'isdecimal', 'isdigit', 'isidentifier', 'islower', 'isnumeric', 'isprintable', 'isspace', 'istitle', 'isupper', 'join', 'ljust', 'lower', 'lstrip', 'maketrans', 'partition', 'removeprefix', 'removesuffix', 'replace', 'rfind', 'rindex', 'rjust', 'rpartition', 'rsplit', 'rstrip', 'split', 'splitlines', 'startswith', 'strip', 'swapcase', 'title', 'translate', 'upper', 'zfill']\n"
     ]
    }
   ],
   "source": [
    "# Dir\n",
    "texto = 'Francisco Douglas'\n",
    "print(dir(texto))"
   ]
  },
  {
   "cell_type": "code",
   "execution_count": 25,
   "metadata": {},
   "outputs": [
    {
     "name": "stdout",
     "output_type": "stream",
     "text": [
      "Help on built-in function zfill:\n",
      "\n",
      "zfill(width, /) method of builtins.str instance\n",
      "    Pad a numeric string with zeros on the left, to fill a field of the given width.\n",
      "    \n",
      "    The string is never truncated.\n",
      "\n",
      "None\n"
     ]
    }
   ],
   "source": [
    "# Help\n",
    "print(help(texto.zfill))"
   ]
  },
  {
   "cell_type": "code",
   "execution_count": 26,
   "metadata": {},
   "outputs": [
    {
     "name": "stdout",
     "output_type": "stream",
     "text": [
      "Francisco\n"
     ]
    }
   ],
   "source": [
    "# Recebendo Dados do Usuario\n",
    "nome = 'Francisco'  # Recebe o dado\n",
    "print(nome) # Saida do dado"
   ]
  },
  {
   "cell_type": "code",
   "execution_count": 28,
   "metadata": {},
   "outputs": [
    {
     "name": "stdout",
     "output_type": "stream",
     "text": [
      "Francisco\n"
     ]
    }
   ],
   "source": [
    "# Recebendo dado com o (input)\n",
    "nome = input('Nome: ') # Recebe\n",
    "print(nome) # Saida"
   ]
  },
  {
   "cell_type": "code",
   "execution_count": 31,
   "metadata": {},
   "outputs": [
    {
     "name": "stdout",
     "output_type": "stream",
     "text": [
      "Print Antigo: Seu nome e Francisco Douglas\n",
      "Print Atual: Seu nome e Francisco Douglas\n"
     ]
    }
   ],
   "source": [
    "# Modelos mais atuais do print\n",
    "nome = input('Digite o Seu Nome: ')\n",
    "print('Print Antigo: Seu nome e {}'.format(nome))\n",
    "print(f'Print Atual: Seu nome e {nome}')"
   ]
  },
  {
   "attachments": {},
   "cell_type": "markdown",
   "metadata": {},
   "source": [
    "#### **Em python, string e tudo que estiver entre:**\n",
    "\n",
    "- Aspas Simples;\n",
    "- Aspas Duplas;\n",
    "- Aspas Simples triplas\n",
    "- Aspas Duplas Tripças\n",
    "\n",
    "Ou Seja tudo que estive em aspas e considerado (string)\n"
   ]
  },
  {
   "cell_type": "code",
   "execution_count": null,
   "metadata": {},
   "outputs": [],
   "source": [
    "# Escopo de variaveis\n",
    "'''Doi casos de escopo \n",
    "\n",
    "1- Variaves Globais:\n",
    "   - Variaveis globais são reconhecidas, ou seja, seu escopo compreende, todo o programa\n",
    "   \n",
    "2- Variaveis Locais:\n",
    "   - Variaveis Locas são reconhecidas apenas no bloco onde foram declaradas, ou seja, \n",
    "   seu escopo esta limitado ao bloco oinde foi declarada\n",
    "'''"
   ]
  },
  {
   "cell_type": "code",
   "execution_count": 43,
   "metadata": {},
   "outputs": [
    {
     "name": "stdout",
     "output_type": "stream",
     "text": [
      "Este e um Exemplo de Variavel Local\n"
     ]
    }
   ],
   "source": [
    "variavel_global = 'Exemplo de Variavel Global'\n",
    "\n",
    "if len(variavel_global) > 20:\n",
    "    variavel_local = 'Este e um Exemplo de Variavel Local'\n",
    "    print(variavel_local)"
   ]
  },
  {
   "cell_type": "code",
   "execution_count": null,
   "metadata": {},
   "outputs": [],
   "source": []
  },
  {
   "cell_type": "code",
   "execution_count": null,
   "metadata": {},
   "outputs": [],
   "source": []
  },
  {
   "cell_type": "code",
   "execution_count": null,
   "metadata": {},
   "outputs": [],
   "source": []
  },
  {
   "cell_type": "code",
   "execution_count": null,
   "metadata": {},
   "outputs": [],
   "source": []
  }
 ],
 "metadata": {
  "kernelspec": {
   "display_name": "base",
   "language": "python",
   "name": "python3"
  },
  "language_info": {
   "codemirror_mode": {
    "name": "ipython",
    "version": 3
   },
   "file_extension": ".py",
   "mimetype": "text/x-python",
   "name": "python",
   "nbconvert_exporter": "python",
   "pygments_lexer": "ipython3",
   "version": "3.10.9"
  },
  "orig_nbformat": 4
 },
 "nbformat": 4,
 "nbformat_minor": 2
}

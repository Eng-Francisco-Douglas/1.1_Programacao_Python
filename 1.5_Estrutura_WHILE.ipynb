{
 "cells": [
  {
   "attachments": {},
   "cell_type": "markdown",
   "id": "03778d32",
   "metadata": {},
   "source": [
    "# While\n",
    "\n",
    "    A estrutura de repetição é uma estrutura de controle de fluxo em programação que permite executar um bloco de código repetidamente enquanto uma condição é verdadeira. Essa condição é verificada no início de cada iteração do laço, e caso seja verdadeira, o bloco de código é executado. A execução continua enquanto a condição permanecer verdadeira. Quando a condição se torna falsa, a execução do laço é interrompida e o controle passa para a instrução seguinte ao laço.while\n",
    "\n",
    "A sintaxe básica da estrutura de repetição é a seguinte:while\n",
    "    \n",
    "    while condição:\n",
    "        bloco de código a ser executado\n"
   ]
  },
  {
   "attachments": {},
   "cell_type": "markdown",
   "id": "18861629",
   "metadata": {},
   "source": [
    "Por exemplo, o código a seguir utiliza a estrutura de repetição para imprimir os números de 1 a 10:while"
   ]
  },
  {
   "cell_type": "code",
   "execution_count": 2,
   "id": "8a390881",
   "metadata": {},
   "outputs": [
    {
     "name": "stdout",
     "output_type": "stream",
     "text": [
      "1, 2, 3, 4, 5, 6, 7, 8, 9, 10, "
     ]
    }
   ],
   "source": [
    "i = 1\n",
    "while i <= 10:\n",
    "    print(i, end=', ')\n",
    "    i += 1"
   ]
  },
  {
   "attachments": {},
   "cell_type": "markdown",
   "id": "71c00844",
   "metadata": {},
   "source": [
    "Nesse exemplo, a condição é verificada no início de cada iteração do laço. Enquanto for menor ou igual a 10, o bloco de código dentro do laço é executado, imprimindo o valor de e incrementando seu valor em 1. Quando atinge o valor 11, a condição se torna falsa e a execução do laço é interrompida.i <= 10 i i i"
   ]
  },
  {
   "cell_type": "code",
   "execution_count": null,
   "id": "34008ccf",
   "metadata": {},
   "outputs": [],
   "source": []
  },
  {
   "attachments": {},
   "cell_type": "markdown",
   "id": "0ec05e3a",
   "metadata": {},
   "source": [
    "## 1 – Validação de Dados\n",
    "Faça um programa que leia o sexo de uma pessoa, mas só aceite os valores ‘M’ ou ‘F’. Caso esteja errado, peça a digitação novamente até ter um valor correto."
   ]
  },
  {
   "cell_type": "code",
   "execution_count": 1,
   "id": "ba007678",
   "metadata": {},
   "outputs": [
    {
     "name": "stdout",
     "output_type": "stream",
     "text": [
      "M\n"
     ]
    }
   ],
   "source": [
    "# Define uma variavel sexo vazia\n",
    "sexo = ''\n",
    "\n",
    "# Loop While que continua ate que a entrada do usuario seja \"M\" ou \"F\"\n",
    "while sexo != \"M\" and sexo != \"F\":\n",
    "    # Solicita que o usuario digite o sexo\n",
    "    sexo = str(input(\"Digite o sexo (M/F): \")).upper()[0].title()\n",
    "    \n",
    "    # Se a entrada do usuario for diferente de \"M\" e \"F\", exibe uma mensagem de erro\n",
    "    if sexo != \"M\" and sexo != \"F\":\n",
    "        print(\"Digite apenas 'M' ou 'F'. \")\n",
    "\n",
    "# Exibe a entrada do usuario\n",
    "print(f\"{sexo}\")"
   ]
  },
  {
   "attachments": {},
   "cell_type": "markdown",
   "id": "76277600",
   "metadata": {},
   "source": [
    "#### Explicando o código 1 Validacao de Dados\n",
    "\n",
    "        A variável é inicializada como uma string vazia.sexo\n",
    "    O loop while começa e continua enquanto a variável não for \"M\" ou \"F\".sexo\n",
    "    Dentro do loop, o programa solicita que o usuário digite o sexo e armazena a entrada na variável .sexo\n",
    "    Se a entrada do usuário não for \"M\" ou \"F\", o programa exibe uma mensagem de erro pedindo que o usuário digite apenas \"M\" ou \"F\". Isso é feito usando uma declaração .if\n",
    "    Quando a entrada do usuário é finalmente válida, ou seja, \"M\" ou \"F\", o loop while termina e o programa exibe a entrada do usuário junto com a mensagem \"Sexo:\" usando a função .print()"
   ]
  },
  {
   "cell_type": "code",
   "execution_count": null,
   "id": "e17d2094",
   "metadata": {},
   "outputs": [],
   "source": []
  },
  {
   "attachments": {},
   "cell_type": "markdown",
   "id": "e12740a3",
   "metadata": {},
   "source": [
    "## 2 – Jogo da Adivinhação v2.0\n",
    "Escreva um programa que faça o computador “pensar” em um número inteiro entre 0 e 10 e peça para o usuário tentar descobrir qual foi o número escolhido pelo computador o jogador vai tentar adivinhar até acertar, mostrando no final quantos palpites foram necessários para vencer o programa."
   ]
  },
  {
   "cell_type": "code",
   "execution_count": 7,
   "id": "fbe13ac9",
   "metadata": {},
   "outputs": [
    {
     "name": "stdout",
     "output_type": "stream",
     "text": [
      "Tente advinha o numero que pensei! (entre 0 e 10):  5\n",
      "O Numero que pensei e menor\n",
      "Tente advinha o numero que pensei! (entre 0 e 10):  3\n",
      "O Numero que pensei e menor\n",
      "Tente advinha o numero que pensei! (entre 0 e 10):  1\n",
      "O Numero que pensei e maior\n",
      "Tente advinha o numero que pensei! (entre 0 e 10):  2\n",
      "Parabens! Voce acertou o numero em 4 tentativas\n"
     ]
    }
   ],
   "source": [
    "# Import da biblioteca random\n",
    "from random import randint\n",
    "\n",
    "# Gera um numero aleatorio entre 0 e 10\n",
    "numero = randint(0, 10)\n",
    "\n",
    "# Inicializa o contador de tentativas\n",
    "tentativas = 0\n",
    "\n",
    "# Loop while que continua enquanto o usuario não acerta o numero\n",
    "while True:\n",
    "    # Solicita que o usuario digite um numero\n",
    "    palpite = int(input(\"Tente advinha o numero que pensei! (entre 0 e 10):  \"))\n",
    "    \n",
    "    # Incrementa o contador de tentativas\n",
    "    tentativas += 1\n",
    "    \n",
    "    # Verifica se o palpite do usuario e igual ao numero pensado pelo computador\n",
    "    if palpite == numero: \n",
    "        # Se for igual, exibe a mensagem de parabens e o numero de tentativas\n",
    "        print(f\"Parabens! Voce acertou o numero em {tentativas} tentativas\")\n",
    "        break\n",
    "        \n",
    "    else:\n",
    "        # Se nao for igual, exibe uma mensagem dizendo se o palpite e maior ou menor que o numero do computador\n",
    "        if palpite < numero:\n",
    "            print(\"O Numero que pensei e maior\")\n",
    "        else:\n",
    "            print(\"O Numero que pensei e menor\")"
   ]
  },
  {
   "attachments": {},
   "cell_type": "markdown",
   "id": "bffa72db",
   "metadata": {},
   "source": [
    "#### Explicando o código 2 Jogo da Advinhacao\n",
    "\n",
    "    O módulo é importado para gerar um número aleatório entre 0 e 10 usando a função .randomrandint()\n",
    "    A variável é inicializada com o número aleatório gerado.numero\n",
    "    A variável é inicializada como 0.tentativas\n",
    "    O loop while começa e continua até que o usuário acerte o número, usando a declaração .while True\n",
    "    Dentro do loop, o programa solicita que o usuário digite um palpite e armazena o palpite na variável .palpite\n",
    "    O contador de tentativas é incrementado em 1.\n",
    "    O programa verifica se o palpite do usuário é igual ao número pensado pelo computador usando a declaração .if\n",
    "    Se o palpite for igual ao número, o programa exibe uma mensagem de parabéns e o número de tentativas usando a função . O loop while é interrompido usando a declaração .print()break\n",
    "    Se o palpite não for igual ao número, o programa exibe uma mensagem dizendo se o palpite é maior ou menor que o número pensado usando a função .print()"
   ]
  },
  {
   "cell_type": "code",
   "execution_count": null,
   "id": "caa416cb",
   "metadata": {},
   "outputs": [],
   "source": []
  },
  {
   "attachments": {},
   "cell_type": "markdown",
   "id": "5f64a19c",
   "metadata": {},
   "source": [
    "## 3 – Criando um Menu de Opções\n",
    "Crie um programa que leia dois valores e mostre um menu na tela:\n",
    "\n",
    "    [ 1 ] somar\n",
    "    [ 2 ] multiplicar\n",
    "    [ 3 ] maior\n",
    "    [ 4 ] novos números\n",
    "    [ 5 ] sair do programa\n",
    "\n",
    "    Seu programa deverá realizar a operação solicitada em cada caso."
   ]
  },
  {
   "cell_type": "code",
   "execution_count": 10,
   "id": "3c0d2a64",
   "metadata": {},
   "outputs": [
    {
     "name": "stdout",
     "output_type": "stream",
     "text": [
      "Primeiro Valor: 4\n",
      "Segundo Valor: 5\n",
      "==============================\n",
      "Selecione uma opção:\n",
      "    [1] Somar:\n",
      "    [2] Multiplicar:\n",
      "    [3] Maior:\n",
      "    [4] Novos Numeros:\n",
      "    [5] Sair do Programa\n",
      "==============================\n",
      "Digite a opcao: 1\n",
      "O Resultado da soma e de 9.0\n",
      "==============================\n",
      "Selecione uma opção:\n",
      "    [1] Somar:\n",
      "    [2] Multiplicar:\n",
      "    [3] Maior:\n",
      "    [4] Novos Numeros:\n",
      "    [5] Sair do Programa\n",
      "==============================\n",
      "Digite a opcao: 4\n",
      "Digite o primeiro valor: 1\n",
      "Digite o Segundo valor: 2\n",
      "==============================\n",
      "Selecione uma opção:\n",
      "    [1] Somar:\n",
      "    [2] Multiplicar:\n",
      "    [3] Maior:\n",
      "    [4] Novos Numeros:\n",
      "    [5] Sair do Programa\n",
      "==============================\n",
      "Digite a opcao: 5\n",
      "Programa Encerrado com sucesso...\n"
     ]
    }
   ],
   "source": [
    "# Solicita que o usuario divie 2 valores\n",
    "valor1 = float(input(\"Primeiro Valor: \"))\n",
    "valor2 = float(input(\"Segundo Valor: \"))\n",
    "\n",
    "# Loop while que continua ate que o usuario escolha a opcao de sair do programa\n",
    "while True:\n",
    "    # Exibe o menu de opcoes para o usuario\n",
    "    \n",
    "    print('='*30)\n",
    "    print('''Selecione uma opção:\n",
    "    [1] Somar:\n",
    "    [2] Multiplicar:\n",
    "    [3] Maior:\n",
    "    [4] Novos Numeros:\n",
    "    [5] Sair do Programa''')\n",
    "    print('='*30)\n",
    "    \n",
    "    # Solicita que o usuario digite a opcao\n",
    "    opcao = int(input(\"Digite a opcao: \"))\n",
    "    \n",
    "    # Verifica qual a opcao foi escolhida e realiza a operacao correspondente\n",
    "    if opcao == 1:\n",
    "        resultado = valor1 + valor2\n",
    "        print(f\"O Resultado da soma e de {resultado}\")\n",
    "    elif opcao == 2:\n",
    "        resultado = valor1 * valor2\n",
    "        print(f\"O Resultado da Multiplicacao e de {resultado}\")\n",
    "    elif opcao == 3:\n",
    "        if valor1 > valor2:\n",
    "            print(f\"O Primeiro valor {valor1} e maior que o segundo valor {valor2}\")\n",
    "        elif valor2 > valor1:\n",
    "            print(f\"O Segundo valor {valor2} e maior que o primeiro Valor {valor1}\")\n",
    "        else:\n",
    "            print(\"Os Valores são iguais\")\n",
    "    elif opcao == 4:\n",
    "        valor1 = float(input(\"Digite o primeiro valor: \"))\n",
    "        valor2 = float(input(\"Digite o Segundo valor: \"))\n",
    "    elif opcao == 5:\n",
    "        print(\"Programa Encerrado com sucesso...\")\n",
    "        break\n",
    "    else:\n",
    "        print(\"Opcao invalida. Tente novamente\")"
   ]
  },
  {
   "attachments": {},
   "cell_type": "markdown",
   "id": "c5ce2431",
   "metadata": {},
   "source": [
    "#### Explicando o código 3 Criando um menu de opcoes\n",
    "\n",
    "    O programa solicita que o usuário digite os dois valores e armazena esses valores nas variáveis e .valor1valor2\n",
    "    O loop while começa e continua até que o usuário escolha a opção \"sair do programa\", usando a declaração .while True\n",
    "    Dentro do loop, o programa exibe o menu de opções para o usuário usando a função .print()\n",
    "    O programa solicita que o usuário escolha uma opção usando a função e armazena a opção escolhida na variável .input()opcao\n",
    "    O programa verifica qual opção foi escolhida usando a declaração e executa a operação correspondente.if\n",
    "    Se o usuário escolher a opção \"sair do programa\", o programa exibe uma mensagem de encerramento usando a função e o loop while é interrompido usando a declaração .print()break\n",
    "    Se o usuário escolher uma opção inválida, o programa exibe uma mensagem de erro usando a função .print()"
   ]
  },
  {
   "cell_type": "code",
   "execution_count": null,
   "id": "46b047d7",
   "metadata": {},
   "outputs": [],
   "source": []
  },
  {
   "attachments": {},
   "cell_type": "markdown",
   "id": "8d907bea",
   "metadata": {},
   "source": [
    "## 4 – Cálculo do Fatorial\n",
    "Faça um programa que leia um número qualquer e mostre o seu fatorial"
   ]
  },
  {
   "attachments": {},
   "cell_type": "markdown",
   "id": "e88f7a6b",
   "metadata": {},
   "source": [
    "### Com o loop For"
   ]
  },
  {
   "cell_type": "code",
   "execution_count": 17,
   "id": "e8749035",
   "metadata": {},
   "outputs": [
    {
     "name": "stdout",
     "output_type": "stream",
     "text": [
      "Digite um numero inteiro positivo: 6\n",
      "O Fatorial de 6 e  = 720\n"
     ]
    }
   ],
   "source": [
    "# Solicita que o usuario digite um numero inteiro positivo\n",
    "numero = int(input(\"Digite um numero inteiro positivo: \"))\n",
    "\n",
    "# Inicializa o fatorial como 1\n",
    "fatorial = 1\n",
    "\n",
    "# Loop for que calcula o fatorial\n",
    "for i in range(1, numero + 1):\n",
    "    fatorial *= i\n",
    "    \n",
    "# Exibe o resultado\n",
    "print(f\"O Fatorial de {numero} e  = {fatorial}\")"
   ]
  },
  {
   "attachments": {},
   "cell_type": "markdown",
   "id": "91d6612e",
   "metadata": {},
   "source": [
    "Explicando as partes do código:\n",
    "\n",
    "\n",
    "    O programa solicita que o usuário digite um número inteiro positivo usando a função e converte o valor para o tipo usando a função .input()intint()\n",
    "    O programa inicializa a variável como 1, pois o fatorial de 0 é 1.fatorial\n",
    "    O loop começa em 1 e vai até o número em questão mais 1 (o segundo parâmetro da função é exclusivo). Para cada número no intervalo, o programa multiplica o fatorial pelo número.forrange()\n",
    "    Após o loop, o programa exibe o resultado usando a função .print()\n",
    "    É importante lembrar que o fatorial cresce muito rapidamente com o aumento do número em questão. Portanto, para números muito grandes, o cálculo do fatorial pode levar muito tempo e requerer muita memória."
   ]
  },
  {
   "attachments": {},
   "cell_type": "markdown",
   "id": "39e2fdb9",
   "metadata": {},
   "source": [
    "### Com o loop while"
   ]
  },
  {
   "cell_type": "code",
   "execution_count": 20,
   "id": "414a522d",
   "metadata": {},
   "outputs": [
    {
     "name": "stdout",
     "output_type": "stream",
     "text": [
      "Digite um numero inteiro positivo: 5\n",
      "O fatorial e = 120\n"
     ]
    }
   ],
   "source": [
    "# Solicita que o usuário digite um número inteiro positivo\n",
    "numero = int(input(\"Digite um numero inteiro positivo: \"))\n",
    "\n",
    "# Inicializa o fatorial como 1\n",
    "fatorial = 1\n",
    "\n",
    "# Loop while que calcula o fatorial\n",
    "while numero > 0:\n",
    "    fatorial *= numero\n",
    "    numero -= 1\n",
    "    \n",
    "# Exibe o resultado\n",
    "print(f\"O fatorial e = {fatorial}\")"
   ]
  },
  {
   "attachments": {},
   "cell_type": "markdown",
   "id": "e9039d7c",
   "metadata": {},
   "source": [
    "Explicando as partes do código:\n",
    "\n",
    "    O programa solicita que o usuário digite um número inteiro positivo usando a função e converte o valor para o tipo usando a função .input()intint()\n",
    "    O programa inicializa a variável como 1, pois o fatorial de 0 é 1.fatorial\n",
    "    O loop continua executando enquanto o número em questão for maior do que 0. A cada iteração do loop, o programa multiplica o fatorial pelo número em questão e decrementa o número em 1.while\n",
    "    Após o loop, o programa exibe o resultado usando a função .print()\n",
    "    Note que esse código faz exatamente a mesma coisa que o código anterior que usei o loop for. A diferença é que agora utilizamos o loop while. Em geral, podemos escolher usar um ou outro, dependendo da situação. O loop for é mais adequado quando sabemos exatamente quantas vezes o loop deve executar. Já o loop while é mais adequado quando não sabemos exatamente quantas vezes o loop deve executar, mas temos uma condição de parada clara."
   ]
  },
  {
   "cell_type": "code",
   "execution_count": null,
   "id": "65f16e94",
   "metadata": {},
   "outputs": [],
   "source": []
  },
  {
   "attachments": {},
   "cell_type": "markdown",
   "id": "725df29d",
   "metadata": {},
   "source": [
    "## 5 – Progressão Aritmética v2.0\n",
    "Refaça o DESAFIO 51, lendo o primeiro termo e a razão de uma PA, mostrando os 10 primeiros termos da progressão usando a estrutura while."
   ]
  },
  {
   "cell_type": "code",
   "execution_count": 32,
   "id": "e723355a",
   "metadata": {},
   "outputs": [
    {
     "name": "stdout",
     "output_type": "stream",
     "text": [
      "Digite o primeiro termo: 5\n",
      "Digite a razao: 5\n",
      "5 x 10 x 15 x 20 x 25 x 30 x 35 x 40 x 45 x 50 x = Encerrando o programa\n"
     ]
    }
   ],
   "source": [
    "# Solicita que o usuario digite o primeiro termo e a razao\n",
    "primeiro_termo = int(input(\"Digite o primeiro termo: \"))\n",
    "razao = int(input(\"Digite a razao: \"))\n",
    "\n",
    "# Inicializa o contador e o termo atual\n",
    "contador = 1\n",
    "termo_atual = primeiro_termo\n",
    "\n",
    "# Loop while que exibe os 10 primeiros termos da PA\n",
    "while contador <= 10:\n",
    "    print(termo_atual, end=' x ')\n",
    "    termo_atual += razao\n",
    "    contador += 1\n",
    "print(\"= Encerrando o programa\")"
   ]
  },
  {
   "attachments": {},
   "cell_type": "markdown",
   "id": "ad5f2a38",
   "metadata": {},
   "source": [
    "#### Explicando o código 5 Super progressao aritmetica v3\n",
    "\n",
    "    O programa solicita que o usuário digite o primeiro termo e a razão da PA usando a função e converte os valores para o tipo usando a função .input()intint()\n",
    "    O programa inicializa o contador como 1 e o termo atual como o primeiro termo da PA.\n",
    "    O loop continua executando enquanto o contador for menor ou igual a 10. A cada iteração do loop, o programa exibe o termo atual da PA usando a função , atualiza o valor do termo atual somando a razão e incrementa o contador em 1.whileprint()\n",
    "    Após o loop, o programa termina.\n",
    "    Note que o programa exibe os 10 primeiros termos da PA, mas poderíamos facilmente modificar o código para exibir mais ou menos termos, basta alterar o valor da condição no loop . Além disso, é importante lembrar que a PA é uma sequência numérica que segue uma regra de adição constante (a razão), sendo cada termo a soma do termo anterior e da razão.while"
   ]
  },
  {
   "cell_type": "code",
   "execution_count": null,
   "id": "be89eb80",
   "metadata": {},
   "outputs": [],
   "source": []
  },
  {
   "attachments": {},
   "cell_type": "markdown",
   "id": "e45253d4",
   "metadata": {},
   "source": [
    "## 6 – Sequência de Fibonacci v1.0\n",
    "Escreva um programa que leia um número N inteiro qualquer e mostre na tela os N primeiros elementos de uma Sequência de Fibonacci:"
   ]
  },
  {
   "cell_type": "code",
   "execution_count": 34,
   "id": "000bd216",
   "metadata": {},
   "outputs": [
    {
     "name": "stdout",
     "output_type": "stream",
     "text": [
      "Digite um numero inteiro: 12\n",
      "[0, 1, 1, 2, 3, 5, 8, 13, 21, 34, 55, 89]\n"
     ]
    }
   ],
   "source": [
    "# Criando a variavl \n",
    "n = int(input(\"Digite um numero inteiro: \"))\n",
    "\n",
    "fibonacci = [0, 1] # Lista que armazena os numeros da sequencia fibonacci\n",
    "\n",
    "# Loop while\n",
    "while len(fibonacci) < n:\n",
    "    # Adiciona a lista o proximo numero da sequencia de fibonacci\n",
    "    proximo = fibonacci[-1] + fibonacci[-2]\n",
    "    fibonacci.append(proximo)\n",
    "    \n",
    "# Imprime o resultado\n",
    "print(fibonacci)"
   ]
  },
  {
   "attachments": {},
   "cell_type": "markdown",
   "id": "588bcb96",
   "metadata": {},
   "source": [
    "#### Explicando o código 6 Sequencia de Fibonacci\n",
    "\n",
    "    O programa solicita que o usuário digite um número inteiro usando a função e converte o valor para o tipo usando a função .ninput()intint()\n",
    "    O programa cria uma lista chamada com os dois primeiros números da sequência: 0 e 1.fibonacci\n",
    "    Em seguida, o programa entra em um loop que adiciona novos números à lista enquanto seu tamanho for menor do que .whilefibonaccin\n",
    "    Dentro do loop, o programa calcula o próximo número da sequência, que é a soma dos dois números anteriores (armazenados na lista ). Esse novo número é adicionado à lista usando o método .fibonaccifibonacciappend()\n",
    "    Após o loop, o programa exibe a lista completa com os primeiros números da sequência.fibonaccin\n",
    "    A sequência de Fibonacci é uma sequência de números em que cada termo é a soma dos dois anteriores, começando geralmente com 0 e 1. Por exemplo: 0, 1, 1, 2, 3, 5, 8, 13, 21, 34, ... É uma sequência muito utilizada na matemática e na programação, pois possui várias propriedades interessantes."
   ]
  },
  {
   "cell_type": "code",
   "execution_count": null,
   "id": "b65e71c3",
   "metadata": {},
   "outputs": [],
   "source": []
  },
  {
   "attachments": {},
   "cell_type": "markdown",
   "id": "4aacc377",
   "metadata": {},
   "source": [
    "## 7 – Tratando vários valores v1.0\n",
    "Crie um programa que leia vários números inteiros pelo teclado. O programa só vai parar quando o usuário digitar o valor 999, que é a condição de parada. No final, mostre quantos números foram digitados e qual foi a soma entre eles (desconsiderando o flag)."
   ]
  },
  {
   "cell_type": "code",
   "execution_count": 35,
   "id": "0c81d650",
   "metadata": {},
   "outputs": [
    {
     "name": "stdout",
     "output_type": "stream",
     "text": [
      "Digite um numero inteiro [999] Stop: 4\n",
      "Digite um numero inteiro [999] Stop: 5\n",
      "Digite um numero inteiro [999] Stop: 1\n",
      "Digite um numero inteiro [999] Stop: 1\n",
      "Digite um numero inteiro [999] Stop: 6\n",
      "Digite um numero inteiro [999] Stop: 99\n",
      "Digite um numero inteiro [999] Stop: 999\n",
      "Voce digitou 6 numeros e a soma deles e 116\n"
     ]
    }
   ],
   "source": [
    "numero = soma = contador = 0\n",
    "\n",
    "while numero != 999:\n",
    "    numero = int(input(\"Digite um numero inteiro [999] Stop: \"))\n",
    "    if numero != 999:\n",
    "        soma += numero\n",
    "        contador += 1\n",
    "        \n",
    "print(f\"Voce digitou {contador} numeros e a soma deles e {soma}\")"
   ]
  },
  {
   "attachments": {},
   "cell_type": "markdown",
   "id": "ee0731b2",
   "metadata": {},
   "source": [
    "#### Explicando o código 7 Tratando varios valores v1\n",
    "\n",
    "    O programa começa definindo as variáveis 'numero\n",
    "    Em seguida, ele entra em um loop 'while\n",
    "    Se o número digitado pelo usuário for diferente de 999, o programa adiciona o número à variável 'soma\n",
    "    Se o número digitado pelo usuário for igual a 999, o programa não faz nada dentro do loop, simplesmente passa para a próxima iteração.\n",
    "    Quando o loop termina (ou seja, quando o usuário digita 999), o programa exibe uma mensagem na tela informando quantos números foram digitados (que é o valor da variável 'contador\n",
    "    Note que o valor 999 é utilizado como flag para indicar que o usuário quer parar de digitar números. Ele não é incluído na soma final e nem é contado como um número digitado. O loop só termina quando o usuário digita esse valor."
   ]
  },
  {
   "cell_type": "code",
   "execution_count": null,
   "id": "1d5f06e6",
   "metadata": {},
   "outputs": [],
   "source": []
  },
  {
   "attachments": {},
   "cell_type": "markdown",
   "id": "6d5e13b9",
   "metadata": {},
   "source": [
    "## 8 – Maior e Menor valores\n",
    "Crie um programa que leia vários números inteiros pelo teclado. No final da execução, mostre a média entre todos os valores e qual foi o maior e o menor valores lidos. O programa deve perguntar ao usuário se ele quer ou não continuar a digitar valores"
   ]
  },
  {
   "cell_type": "code",
   "execution_count": 37,
   "id": "5c920a8d",
   "metadata": {},
   "outputs": [
    {
     "name": "stdout",
     "output_type": "stream",
     "text": [
      "Digite um numero inteiro: 4\n",
      "Deseja continuar? [S/N]: s\n",
      "Digite um numero inteiro: 5\n",
      "Deseja continuar? [S/N]: s\n",
      "Digite um numero inteiro: 7\n",
      "Deseja continuar? [S/N]: n\n",
      "Voce digitou 3 numeros\n",
      "A Media dos 3 numeros e 5.33\n",
      "O Maior numero digitado foi 7\n",
      "O Menor numero digitado foi 4\n"
     ]
    }
   ],
   "source": [
    "# Inicialização das variaveis\n",
    "soma = contador = media = maior = menor = 0\n",
    "continuar = \"S\"\n",
    "\n",
    "# Loop para receber os numeros ate que o uruario decida\n",
    "while continuar == \"S\":\n",
    "    # Recebe um numero inteiro do usuario\n",
    "    num = int(input(\"Digite um numero inteiro: \"))\n",
    "    \n",
    "    # Soma o numero a variavel soma\n",
    "    soma += num\n",
    "    \n",
    "    # Incrementa o contador de numeros lidos\n",
    "    contador += 1\n",
    "    \n",
    "    # varifica se o numero digitado e o primeiro, para atribuir a ele o valor de maior e menor\n",
    "    if contador == 1:\n",
    "        maior = menor = num\n",
    "        \n",
    "    # Caso contrario, compara o numero com os valores de maior e menor ja encontrados\n",
    "    else:\n",
    "        if num > maior:\n",
    "            maior = num\n",
    "        if num < menor:\n",
    "            menor = num\n",
    "            \n",
    "    # Pergunta ao usuario se ele quer continuar a digita numeros\n",
    "    continuar = input(\"Deseja continuar? [S/N]: \").upper()[0]\n",
    "    \n",
    "# Calcula a media dos numeros lidos, desde que haja pelo menos um numero lido\n",
    "if contador > 0:\n",
    "    media = soma / contador\n",
    "    \n",
    "# Imprime os resultados\n",
    "print(f\"Voce digitou {contador} numeros\")\n",
    "print(f\"A Media dos {contador} numeros e {media:.2f}\")\n",
    "print(f\"O Maior numero digitado foi {maior}\")\n",
    "print(f\"O Menor numero digitado foi {menor}\")"
   ]
  },
  {
   "attachments": {},
   "cell_type": "markdown",
   "id": "9a0026cf",
   "metadata": {},
   "source": [
    "#### Explicando o Codigo 8 Maior e Menor Valores\n",
    "\n",
    "    O programa começa inicializando algumas variáveis: , , , e são todas inicializadas com zero, e a variável é inicializada com \"S\" (indicando que o usuário quer continuar digitando números).somacontadormediamaiormenorcontinuar\n",
    "\n",
    "    Em seguida, o programa entra em um loop , que continuará executando enquanto o valor de for \"S\". Dentro desse loop, o programa recebe um número inteiro do usuário, soma esse número à variável , incrementa o contador de números lidos () e verifica se esse número é o primeiro número digitado (ou seja, se o contador é igual a 1). Se for o primeiro número, ele é atribuído tanto ao maior quanto ao menor número encontrados até então. Caso contrário, o número é comparado com os valores de maior e menor já encontrados, e atualizados se necessário. Depois disso, o programa pergunta ao usuário se ele quer continuar digitando números, e atualiza o valor da variável de acordo.whilecontinuarsomacontadorcontinuar\n",
    "\n",
    "    Após o loop, o programa verifica se pelo menos um número foi lido (ou seja, se o valor de é maior que zero). Se houver pelo menos um número, o programa calcula a média dos valores lidos, dividindo a soma pelo contador. Por fim, o programa imprime na tela os resultados: o número de valores lidos, a média dos valores, o maior valor e o menor valor encontrados.contador\n",
    "\n",
    "\n"
   ]
  },
  {
   "cell_type": "code",
   "execution_count": null,
   "id": "3febe12a",
   "metadata": {},
   "outputs": [],
   "source": []
  },
  {
   "attachments": {},
   "cell_type": "markdown",
   "id": "1a654754",
   "metadata": {},
   "source": [
    "## 9 – Vários números com flag\n",
    "Crie um programa que leia números inteiros pelo teclado. O programa só vai parar quando o usuário digitar o valor 999, que é a condição de parada. No final, mostre quantos números foram digitados e qual foi a soma entre elas (desconsiderando o flag)."
   ]
  },
  {
   "cell_type": "code",
   "execution_count": 2,
   "id": "7b038eaf",
   "metadata": {
    "pycharm": {
     "is_executing": true
    }
   },
   "outputs": [
    {
     "name": "stdout",
     "output_type": "stream",
     "text": [
      "Digite um numero inteiro [999] Stop:  1\n",
      "Digite um numero inteiro [999] Stop:  2\n",
      "Digite um numero inteiro [999] Stop:  3\n",
      "Digite um numero inteiro [999] Stop:  4\n",
      "Digite um numero inteiro [999] Stop:  999\n",
      "Foram digitads 4 numeros e a soma e 10\n"
     ]
    }
   ],
   "source": [
    "# Inicialização das Variaveis\n",
    "soma = 0 # Variavel armazena a soma dos numeros\n",
    "contador = 0 # Variavel para contar os numeros\n",
    "\n",
    "# Loop while para ler os numeros digitados pelo usuario\n",
    "while True:\n",
    "    # Leitura do numero digitado pelo usuario\n",
    "    numero = int(input(\"Digite um numero inteiro [999] Stop:  \"))\n",
    "\n",
    "    # Verifica se o usuario digitou o numero de parada\n",
    "    if numero == 999:\n",
    "        break # Sai do loop se o usuario digita o numero 999\n",
    "\n",
    "    # Incrementa o contador de numeros digitados e adiciona o numero a soma\n",
    "    contador += 1\n",
    "    soma += numero\n",
    "\n",
    "# Exibe o resultado\n",
    "print(f\"Foram digitads {contador} numeros e a soma e {soma}\")"
   ]
  },
  {
   "attachments": {},
   "cell_type": "markdown",
   "id": "082f79d1",
   "metadata": {},
   "source": [
    "#### Explicando o Codigo 9 Varios numeros com flag\n",
    "    Nesse código, a variável é inicializada com zero, e a variável é inicializada com o valor 0. O loop é executado indefinidamente, até que o usuário digite o número 999, que é a condição de saída.somacontadorwhile\n",
    "\n",
    "    Dentro do loop, o programa lê o número digitado pelo usuário usando a função e converte o valor para um número inteiro usando a função . Se o usuário digitar o número 999, o loop é interrompido usando a instrução . Caso contrário, o programa incrementa o valor da variável e adiciona o valor digitado à variável .input()int()breakcontadorsoma\n",
    "\n",
    "    Após sair do loop, o programa exibe a mensagem com a quantidade de números digitados e a soma dos valores, usando a f-string para formatar a string de saída."
   ]
  },
  {
   "cell_type": "code",
   "execution_count": null,
   "id": "d713834d",
   "metadata": {},
   "outputs": [],
   "source": []
  },
  {
   "attachments": {},
   "cell_type": "markdown",
   "id": "8434f651",
   "metadata": {},
   "source": [
    "## 10 – Tabuada v3.0\n",
    "Faça um programa que mostre a tabuada de vários números, um de cada vez, para cada valor digitado pelo usuário. O programa será interrompido quando o número solicitado for negativo."
   ]
  },
  {
   "cell_type": "code",
   "execution_count": 3,
   "id": "a2a60558",
   "metadata": {
    "pycharm": {
     "is_executing": true
    }
   },
   "outputs": [
    {
     "name": "stdout",
     "output_type": "stream",
     "text": [
      "Digite um numero inteiro: 3\n",
      "3 x 1 = 3\n",
      "3 x 2 = 6\n",
      "3 x 3 = 9\n",
      "3 x 4 = 12\n",
      "3 x 5 = 15\n",
      "3 x 6 = 18\n",
      "3 x 7 = 21\n",
      "3 x 8 = 24\n",
      "3 x 9 = 27\n",
      "3 x 10 = 30\n",
      "Digite um numero inteiro: 1\n",
      "1 x 1 = 1\n",
      "1 x 2 = 2\n",
      "1 x 3 = 3\n",
      "1 x 4 = 4\n",
      "1 x 5 = 5\n",
      "1 x 6 = 6\n",
      "1 x 7 = 7\n",
      "1 x 8 = 8\n",
      "1 x 9 = 9\n",
      "1 x 10 = 10\n",
      "Digite um numero inteiro: -1\n"
     ]
    }
   ],
   "source": [
    "# Laço infinito\n",
    "while True:\n",
    "    # Leitura do numero digitado pelo usuario\n",
    "    num = int(input(\"Digite um numero inteiro: \"))\n",
    "\n",
    "    # Condicao de saida do laço\n",
    "    if num < 0:\n",
    "        break\n",
    "\n",
    "    # Laço para apresentar a atbuada do numero digitado\n",
    "    for i in range(1, 11):\n",
    "        print(f\"{num} x {i} = {num * i}\")"
   ]
  },
  {
   "attachments": {},
   "cell_type": "markdown",
   "id": "d0c89680",
   "metadata": {},
   "source": [
    "#### Explicando o codigo 10 Tabuada v3.0 \n",
    "    O programa utiliza um laço infinito para solicitar o número ao usuário e apresentar sua tabuada. A condição de saída do laço é dada pela condição , ou seja, quando o usuário digita um número negativo, o laço é interrompido com a instrução . Dentro do laço, é utilizado um laço para apresentar a tabuada do número digitado, de 1 até 10, utilizando a expressão para o cálculo da multiplicação e a função para apresentar os resultados na tela.while Trueif num < 0: breakbreakfornum * iprint"
   ]
  },
  {
   "cell_type": "code",
   "execution_count": null,
   "id": "8fb754d3",
   "metadata": {},
   "outputs": [],
   "source": []
  },
  {
   "attachments": {},
   "cell_type": "markdown",
   "id": "6d9bc6c5",
   "metadata": {},
   "source": [
    "## 11 – Jogo do Par ou Ímpar\n",
    " Faça um programa que jogue par ou ímpar com o computador. O jogo só será interrompido quando o jogador perder, mostrando o total de vitórias consecutivas que ele conquistou no final do jogo."
   ]
  },
  {
   "attachments": {},
   "cell_type": "markdown",
   "id": "5d77a467",
   "metadata": {},
   "source": [
    "## Explicando o Codigo\n",
    "    Importar a biblioteca 'random\n",
    "    Criar uma variável para armazenar o número de vitórias consecutivas do jogador;\n",
    "    Criar um loop que só será interrompido quando o jogador perder;\n",
    "    Dentro do loop, o jogador deve escolher entre par ou ímpar e digitar um número;\n",
    "    O computador deve gerar um número aleatório;\n",
    "    Verificar se a soma dos números é par ou ímpar;\n",
    "    Se a escolha do jogador for igual ao resultado da verificação, o jogador venceu e sua contagem de vitórias deve ser incrementada;\n",
    "    Se a escolha do jogador for diferente do resultado da verificação, o jogador perdeu e o jogo deve ser interrompido, mostrando o número de vitórias consecutivas que ele conquistou.\n",
    "    Segue abaixo o código em Python com comentários explicativos:"
   ]
  },
  {
   "cell_type": "code",
   "execution_count": 5,
   "id": "0bfedf03",
   "metadata": {},
   "outputs": [
    {
     "name": "stdout",
     "output_type": "stream",
     "text": [
      "Par ou Impar? par\n",
      "Digite um Numero: 4\n",
      "Voce jogou 4 e o computador jogou 9: \n",
      "Voce perdeu. Total de Vitorias consecutivas 0\n"
     ]
    }
   ],
   "source": [
    "import random # Importa a biblioteca random\n",
    "\n",
    "vitorias = 0 # Variavel para armazena as vitorias consecutivas\n",
    "\n",
    "while True: # Loop que so sera interronpido quando o jogador perder\n",
    "    jogador = input(\"Par ou Impar? \").strip().lower() # Jogador escolhe par ou impar\n",
    "    \n",
    "    # Criando a condição\n",
    "    if jogador != 'par' and jogador != 'impar': # Verifica se o jogador digitou corretamente\n",
    "        print(\"Escolha invalida\")\n",
    "        continue # Volta para o inicio do Loop\n",
    "        \n",
    "    num_jogador = int(input(\"Digite um Numero: \")) # Pede para o jogador digita um numero\n",
    "    \n",
    "    num_computador = random.randint(0, 10) # Computador gera um numero aleatorio entre 0 e 10\n",
    "    \n",
    "    soma = num_jogador + num_computador # Soma dos Numeros\n",
    "    \n",
    "    print(f\"Voce jogou {num_jogador} e o computador jogou {num_computador}: \")\n",
    "    \n",
    "    # Condição par ou impa\n",
    "    if soma % 2 == 0: # Verifica se a soma e Par ou Impar\n",
    "        resultado = 'par'\n",
    "    else:\n",
    "        resultado = 'impar'\n",
    "        \n",
    "    # Condição ganhou ou perdeu\n",
    "    if jogador == resultado: # Se o jogador venceu, incrementa sua contagem de vitorias\n",
    "        print(\"Voce venceu\")\n",
    "        vitorias += 1\n",
    "    else: # Se o jogador perdeu, mostra o numero de vitorias consecutivas e interronpe o jogo\n",
    "        print(f\"Voce perdeu. Total de Vitorias consecutivas {vitorias}\")\n",
    "        break"
   ]
  },
  {
   "attachments": {},
   "cell_type": "markdown",
   "id": "caefd071",
   "metadata": {},
   "source": [
    "#### Comentario 11 Par ou impar\n",
    "\n",
    "    Com esse programa, o jogador pode jogar par ou ímpar com o computador, e o jogo só será interrompido quando o jogador perder. A cada vitória consecutiva, sua contagem de vitórias é incrementada e, ao final do jogo, é mostrado o número total de vitórias consecutivas que ele conquistou."
   ]
  },
  {
   "cell_type": "code",
   "execution_count": null,
   "id": "9251858b",
   "metadata": {},
   "outputs": [],
   "source": []
  },
  {
   "attachments": {},
   "cell_type": "markdown",
   "id": "5536d202",
   "metadata": {},
   "source": [
    "## 12 – Análise de dados do grupo\n",
    "Crie um programa que leia a idade e o sexo de várias pessoas. A cada pessoa cadastrada, o programa deverá perguntar se o usuário quer ou não continuar. No final, mostre:\n",
    "\n",
    "A) quantas pessoas tem mais de 18 anos.\n",
    "\n",
    "B) quantos homens foram cadastrados.\n",
    "\n",
    "C) quantas mulheres tem menos de 20 anos."
   ]
  },
  {
   "attachments": {},
   "cell_type": "markdown",
   "id": "918bce54",
   "metadata": {},
   "source": [
    "O programa tem como objetivo ler a idade e o sexo de várias pessoas e, a cada pessoa cadastrada, perguntar se o usuário quer ou não continuar. Sem final\n",
    "\n",
    "Para isso, serão utilizadas variáveis para armazenar as informações de cada pessoa e também serão utilizados loops e condicionais para realizar a contagem e a verificação das informações.\n",
    "\n",
    "Segue abaixo o código com comentários explicando cada parte do programa:"
   ]
  },
  {
   "cell_type": "code",
   "execution_count": 2,
   "id": "108a67c0",
   "metadata": {},
   "outputs": [
    {
     "name": "stdout",
     "output_type": "stream",
     "text": [
      "Digite o Sexo [M/F]: f\n",
      "Digite a idade: 12\n",
      "Deseja continua? [S/N]: s\n",
      "Digite o Sexo [M/F]: m\n",
      "Digite a idade: 34\n",
      "Deseja continua? [S/N]: s\n",
      "Digite o Sexo [M/F]: f\n",
      "Digite a idade: 22\n",
      "Deseja continua? [S/N]: s\n",
      "Digite o Sexo [M/F]: m\n",
      "Digite a idade: 43\n",
      "Deseja continua? [S/N]: n\n",
      "Quantidade de pessoas com mais de 18 anos: 3\n",
      "Quantidade de homens cadastrados 2\n",
      "Quantidade de mulheres com menos de 20 anos: 1\n"
     ]
    }
   ],
   "source": [
    "# Inicializa as variaveis de contagem\n",
    "maiores_de_18 = homens = mulheres_menos_de_20 = 0\n",
    "\n",
    "while True: # Loop Infinito\n",
    "    \n",
    "    # Le a idade e o sexo da pessoa\n",
    "    sexo = str(input(\"Digite o Sexo [M/F]: \")).strip().upper()\n",
    "    idade = int(input(\"Digite a idade: \"))\n",
    "    \n",
    "    # Verifica se a pessoa tem mais de 18 anos e incrementa a variavel de contagem\n",
    "    if idade > 18:\n",
    "        maiores_de_18 += 1\n",
    "        \n",
    "    # Verifica se a pessoa e do sexo Masculino e incrementa a variavel de contagem\n",
    "    if sexo == 'M':\n",
    "        homens += 1\n",
    "        \n",
    "    # Verifica se a pessoa e do sexo Feminino e tem menos de 20 anos e incrementa a contagem\n",
    "    if sexo == 'F' and idade < 20:\n",
    "        mulheres_menos_de_20 += 1\n",
    "        \n",
    "    # Pergunta se o usuario ainda quer continua a digita dados\n",
    "    continuar = input(\"Deseja continua? [S/N]: \").strip().upper()\n",
    "    if continuar == 'N':\n",
    "        break # Encerra o programa\n",
    "        \n",
    "# Imprime os dados na tela\n",
    "print(f\"Quantidade de pessoas com mais de 18 anos: {maiores_de_18}\")\n",
    "print(f\"Quantidade de homens cadastrados {homens}\")\n",
    "print(f\"Quantidade de mulheres com menos de 20 anos: {mulheres_menos_de_20}\")"
   ]
  },
  {
   "attachments": {},
   "cell_type": "markdown",
   "id": "e521992f",
   "metadata": {},
   "source": [
    "#### Comentario codigo 12 Analise de Dados do Grupo\n",
    "    o executar o programa, o usuário deverá informar a idade e o sexo de cada pessoa cadastrada. Após cada cadastro, será perguntado se o usuário deseja continuar ou não. O programa só será encerrado caso o usuário informe que não deseja continuar.\n",
    "\n",
    "    Ao final, serão exibidos os resultados com a quantidade de pessoas com mais de 18 anos, a quantidade de homens cadastrados e a quantidade de mulheres com menos de 20 anos."
   ]
  },
  {
   "cell_type": "code",
   "execution_count": null,
   "id": "f9a7ff93",
   "metadata": {},
   "outputs": [],
   "source": []
  },
  {
   "attachments": {},
   "cell_type": "markdown",
   "id": "4c540188",
   "metadata": {},
   "source": [
    "## 13 – Estatísticas em produtos\n",
    "Crie um programa que leia o nome e o preço de vários produtos. O programa deverá perguntar se o usuário vai continuar ou não. No final, mostre:\n",
    "\n",
    "A) qual é o total gasto na compra.\n",
    "\n",
    "B) quantos produtos custam mais de R$1000.\n",
    "\n",
    "C) qual é o nome do produto mais barato."
   ]
  },
  {
   "cell_type": "code",
   "execution_count": 4,
   "id": "deb890bf",
   "metadata": {},
   "outputs": [
    {
     "name": "stdout",
     "output_type": "stream",
     "text": [
      "Digite o nome do produto: Notebook\n",
      "Preco do Notebook R$: 2500\n",
      "Deseja continua? [S/N]: s\n",
      "Digite o nome do produto: geladeira\n",
      "Preco do geladeira R$: 3000\n",
      "Deseja continua? [S/N]: s\n",
      "Digite o nome do produto: celular\n",
      "Preco do celular R$: 800\n",
      "Deseja continua? [S/N]: n\n",
      "Total gasto na compra: R$ 6300.00\n",
      "2 produtos que custam mais de R$1000\n",
      "O Produto mais barato e: celular\n"
     ]
    }
   ],
   "source": [
    "# Inicializa uma lista vazia para armazena os produtos\n",
    "produtos = []\n",
    "\n",
    "# Define uma variavel para controlar se o usuario ainda quer continua adicionando produtos\n",
    "continuar = 'S'\n",
    "\n",
    "# Loop while para solicitar informações dos produtos ao usuario\n",
    "while continuar == 'S':\n",
    "    # Solicita o nome do produto e o preço ao usuario\n",
    "    nome = str(input(\"Digite o nome do produto: \"))\n",
    "    preco = float(input(f\"Preco do {nome} R$: \"))\n",
    "    \n",
    "    # Adiciona o produto (nome e preco) a lista de produtos\n",
    "    produtos.append((nome, preco))\n",
    "    \n",
    "    # Pergunta ao usuario se deseja continuar adicionando produtos\n",
    "    continuar = str(input(\"Deseja continua? [S/N]: \")).upper()\n",
    "    \n",
    "# Calcula o total gasto na compra somando os precos de todos os produtos\n",
    "total_gasto = sum([produto[1] for produto in produtos])\n",
    "\n",
    "# Conta quantos produtos tem preco superior a 1000R$\n",
    "quantidade_produtos_caros = len([produto for produto in produtos if produto[1] > 1000])\n",
    "\n",
    "# Encontra os produtos mais barato\n",
    "produto_mais_barato = min(produtos, key=lambda produto: produto[1])[0]\n",
    "\n",
    "# Exibe os resultados\n",
    "print(f\"Total gasto na compra: R$ {total_gasto:.2f}\")\n",
    "print(f\"{quantidade_produtos_caros} produtos que custam mais de R$1000\")\n",
    "print(f\"O Produto mais barato e: {produto_mais_barato}\")"
   ]
  },
  {
   "attachments": {},
   "cell_type": "markdown",
   "id": "f8d7d414",
   "metadata": {},
   "source": [
    "#### Explicando o codigo 13 Estatistica com produtos\n",
    "    O código acima começa inicializando uma lista vazia 'produtoscontinuar é definida como ''S''S' para que o loop comece executando. Dentro do loop, são solicitados ao usuário o nome e o preço de cada produto e essas informações são adicionadas à lista 'produtosprodutos. Em seguida, é perguntado ao usuário se ele deseja continuar adicionando produtos. Se a resposta for ''S''S', o loop continua. Caso contrário, o loop é encerrado.\n",
    "\n",
    "    Após o loop, são realizados os cálculos para obter as informações solicitadas no enunciado. O total gasto na compra é calculado somando os preços de todos os produtos na lista 'produtoslen() e uma list comprehension para selecionar apenas os produtos com preço acima de R$1000. Para encontrar o produto mais barato, é usada a função 'minmin() juntamente com uma função lambda para ordenar a lista de produtos pelo preço e retornar o nome do produto com o menor preço.\n",
    "\n",
    "    Por fim, os resultados são exibidos na tela usando a função 'print():.2f é utilizado para formatar o número com duas casas decimais."
   ]
  },
  {
   "cell_type": "code",
   "execution_count": null,
   "id": "9f8ef36a",
   "metadata": {},
   "outputs": [],
   "source": []
  },
  {
   "attachments": {},
   "cell_type": "markdown",
   "id": "426887df",
   "metadata": {},
   "source": [
    "## 14 – Simulador de Caixa Eletrônico\n",
    "Crie um programa que simule o funcionamento de um caixa eletrônico. No início, pergunte ao usuário qual será o valor a ser sacado (número inteiro) e o programa vai informar quantas cédulas de cada valor serão entregues. OBS:\n",
    "\n",
    "considere que o caixa possui cédulas de R$50, R$20, R$10 R$5 e R$1."
   ]
  },
  {
   "cell_type": "code",
   "execution_count": 11,
   "id": "fcbbc94c",
   "metadata": {},
   "outputs": [
    {
     "name": "stdout",
     "output_type": "stream",
     "text": [
      "Digite o valor que deseja sacar: R$ 127\n",
      "Serão entregues 2 Cédulas de R$ \n",
      "Serão entregues 1 Cédulas de R$ \n",
      "Serão entregues 0 Cédulas de R$ \n",
      "Serão entregues 1 Cédulas de R$ \n",
      "Serão entregues 2 Cédulas de R$ \n"
     ]
    }
   ],
   "source": [
    "# Pede ao usuario para informar o valor que deseja sacar\n",
    "valor = int(input(\"Digite o valor que deseja sacar: R$ \"))\n",
    "\n",
    "# Inicializa as variaveis que armazenam a quantidade de cada cedula\n",
    "cedulas_50 = cedulas_20 = cedulas_10 = cedulas_5 = cedulas_1 = 0 \n",
    "\n",
    "# Laço while para calcular a quantidade de cada cedula\n",
    "while valor > 0:\n",
    "    # Codição para notas de 50\n",
    "    if valor >= 50:        # Verifica se o valor e maior ou igual a 50\n",
    "        cedulas_50 += 1    # Incrementa o numero de cedulas de 50 reais\n",
    "        valor -= 50        # Subtrai 50 do valor total\n",
    "    \n",
    "    # Condição para notas de 20\n",
    "    elif valor >= 20:      # Verifica se  valor e maior ou igual a 20\n",
    "        cedulas_20 += 1    # Incrementa o numero de cedulas de 20 reais\n",
    "        valor -= 20        # Subtrai 20 do valor total\n",
    "    \n",
    "    # Condição para notas de 10\n",
    "    elif valor >= 10:      # Verifica se  valor e maior ou igual a 10\n",
    "        cedulas_10 += 1    # Incrementa o numero de cedulas de 10 reais\n",
    "        valor -= 10        # Subtrai 10 do valor total\n",
    "    \n",
    "    # Condição para notas de 5\n",
    "    elif valor >= 5:      # Verifica se  valor e maior ou igual a 5\n",
    "        cedulas_5 += 1    # Incrementa o numero de cedulas de 5 reais\n",
    "        valor -= 5        # Subtrai 5 do valor total\n",
    "    \n",
    "    # Condição para notas de 1\n",
    "    elif valor >= 1:      # Verifica se  valor e maior ou igual a 1\n",
    "        cedulas_1 += 1    # Incrementa o numero de cedulas de 1 reais\n",
    "        valor -= 1        # Subtrai 1 do valor total\n",
    "        \n",
    "# Exibe a quantidade de cada cédula que será entregue pelo Caixa eletronico\n",
    "print(f\"Serão entregues {cedulas_50} Cédulas de R$ \")\n",
    "print(f\"Serão entregues {cedulas_20} Cédulas de R$ \")\n",
    "print(f\"Serão entregues {cedulas_10} Cédulas de R$ \")\n",
    "print(f\"Serão entregues {cedulas_5} Cédulas de R$ \")\n",
    "print(f\"Serão entregues {cedulas_1} Cédulas de R$ \")"
   ]
  },
  {
   "cell_type": "code",
   "execution_count": null,
   "id": "1187ce06",
   "metadata": {},
   "outputs": [],
   "source": []
  }
 ],
 "metadata": {
  "kernelspec": {
   "display_name": "Python 3 (ipykernel)",
   "language": "python",
   "name": "python3"
  },
  "language_info": {
   "codemirror_mode": {
    "name": "ipython",
    "version": 3
   },
   "file_extension": ".py",
   "mimetype": "text/x-python",
   "name": "python",
   "nbconvert_exporter": "python",
   "pygments_lexer": "ipython3",
   "version": "3.10.9"
  }
 },
 "nbformat": 4,
 "nbformat_minor": 5
}

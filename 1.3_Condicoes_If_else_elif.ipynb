{
 "cells": [
  {
   "cell_type": "markdown",
   "metadata": {},
   "source": [
    "## 28 – Jogo da Adivinhação v.1.0\n",
    "Escreva um programa que faça o computador “pensar” em um número inteiro entre 0 e 5 e peça para o usuário tentar descobrir qual foi o número escolhido pelo computador. O programa deverá escrever na tela se o usuário venceu ou perdeu."
   ]
  },
  {
   "cell_type": "code",
   "execution_count": 1,
   "metadata": {},
   "outputs": [
    {
     "name": "stdout",
     "output_type": "stream",
     "text": [
      "Voce errou, eu pensei em 1 e voce pensou em 4\n"
     ]
    }
   ],
   "source": [
    "import random\n",
    "\n",
    "# Escolhe um numero aleatoriamente\n",
    "numero_pensado = random.randint(0, 5)\n",
    "\n",
    "# Palpite\n",
    "palpite_usuario = int(input(\"Tente Advinha o numero que pensei? \"))\n",
    "\n",
    "# Condição\n",
    "if palpite_usuario == numero_pensado:\n",
    "    print(f\"Parabens! Voce acertou, eu pensei em {numero_pensado} e voce pensou em {palpite_usuario}\")\n",
    "else:\n",
    "    print(f\"Voce errou, eu pensei em {numero_pensado} e voce pensou em {palpite_usuario}\")"
   ]
  },
  {
   "attachments": {},
   "cell_type": "markdown",
   "metadata": {},
   "source": [
    "#### Comentario 28 jogo da Advinhação\n",
    "    O programa começa importando a biblioteca para gerar um número aleatório entre 0 e 5. Depois, armazena esse número na variável .randomnumero_pensado\n",
    "\n",
    "    Em seguida, o programa solicita ao usuário que adivinhe qual número o computador está pensando, utilizando a função . O valor de entrada é convertido para inteiro utilizando a função e armazenado na variável .inputint()palpite_usuario\n",
    "\n",
    "    A seguir, o programa verifica se o número adivinhado pelo usuário é igual ao número que o computador pensou. Se for, o programa imprime uma mensagem de parabéns. Se não for, o programa imprime a mensagem com o número que o computador pensou, para que o usuário saiba qual era a resposta correta."
   ]
  },
  {
   "cell_type": "code",
   "execution_count": null,
   "metadata": {},
   "outputs": [],
   "source": []
  },
  {
   "cell_type": "markdown",
   "metadata": {},
   "source": [
    "## 29 – Radar eletrônico\n",
    "Escreva um programa que leia a velocidade de um carro. Se ele ultrapassar 80Km/h, mostre uma mensagem dizendo que ele foi multado. A multa vai custar R$7,00 por cada Km acima do limite."
   ]
  },
  {
   "cell_type": "code",
   "execution_count": 2,
   "metadata": {},
   "outputs": [
    {
     "name": "stdout",
     "output_type": "stream",
     "text": [
      "Voce foi multado em R$ 63.0 por excesso de velocidade 89.0km\n"
     ]
    }
   ],
   "source": [
    "velocidade = float(input(\"Digite a Velocidade do Carro km: \"))\n",
    "\n",
    "# Criando a condição\n",
    "if velocidade > 80:\n",
    "    excesso = velocidade - 80\n",
    "    multa = excesso * 7\n",
    "    print(f\"Voce foi multado em R$ {multa} por excesso de velocidade {velocidade}km\")\n",
    "else:\n",
    "    print(f\"Sua Velocidade de {velocidade}km esta dentro dos limites\")\n"
   ]
  },
  {
   "attachments": {},
   "cell_type": "markdown",
   "metadata": {},
   "source": [
    "#### Comentario 29 Rada Eletronico\n",
    "    O programa começa solicitando que o usuário informe a velocidade do carro utilizando a função  e armazenando o valor digitado na variável .input()velocidade\n",
    "\n",
    "    A seguir, o programa verifica se a velocidade informada é maior que 80 Km/h. Se for, o programa calcula o valor da multa multiplicando a quantidade de Km/h que o motorista excedeu o limite (ou seja, a diferença entre a velocidade informada e 80 Km/h) pelo valor fixo de R$ 7,00 por Km/h excedido. Esse valor é armazenado na variável .multa\n",
    "\n",
    "    Por fim, o programa imprime uma mensagem informando o valor da multa e a quantidade de Km/h que o motorista excedeu o limite. Se a velocidade informada for igual ou menor que 80 Km/h, o programa imprime uma mensagem informando que a velocidade está dentro do limite permitido."
   ]
  },
  {
   "cell_type": "code",
   "execution_count": null,
   "metadata": {},
   "outputs": [],
   "source": []
  },
  {
   "cell_type": "markdown",
   "metadata": {},
   "source": [
    "## 30 – Par ou Ímpar?\n",
    "Crie um programa que leia um número inteiro e mostre na tela se ele é PAR ou ÍMPAR."
   ]
  },
  {
   "cell_type": "code",
   "execution_count": 3,
   "metadata": {},
   "outputs": [
    {
     "name": "stdout",
     "output_type": "stream",
     "text": [
      "O Numero 3 e Impar\n"
     ]
    }
   ],
   "source": [
    "numero = int(input(\"Digite um numero: \"))\n",
    "\n",
    "if numero % 2 == 0:\n",
    "    print(f\"O Numero {numero} e Par\")\n",
    "else:\n",
    "    print(f\"O Numero {numero} e Impar\")"
   ]
  },
  {
   "attachments": {},
   "cell_type": "markdown",
   "metadata": {},
   "source": [
    "#### Comentario 30 Par ou Impar\n",
    "    O programa começa solicitando que o usuário informe um número inteiro utilizando a função e armazenando o valor digitado na variável .input()num\n",
    "\n",
    "    A seguir, o programa verifica se o resto da divisão de por 2 é igual a zero (ou seja, se é divisível por 2). Se for, o programa imprime uma mensagem informando que o número é par. Caso contrário, o programa imprime uma mensagem informando que o número é ímpar.numnum\n",
    "\n",
    "    Essa verificação é feita utilizando o operador (módulo), que retorna o resto da divisão entre dois números. Se o resto da divisão de por 2 for igual a zero, isso significa que é divisível por 2 e, portanto, é par. Caso contrário, não é divisível por 2 e é ímpar.%numnumnum"
   ]
  },
  {
   "cell_type": "code",
   "execution_count": null,
   "metadata": {},
   "outputs": [],
   "source": []
  },
  {
   "cell_type": "markdown",
   "metadata": {},
   "source": [
    "## 31 – Custo da Viagem\n",
    "Desenvolva um programa que pergunte a distância de uma viagem em Km. Calcule o preço da passagem, cobrando R$0,50 por Km para viagens de até 200Km e R$0,45 parta viagens mais longas"
   ]
  },
  {
   "cell_type": "code",
   "execution_count": 4,
   "metadata": {},
   "outputs": [
    {
     "name": "stdout",
     "output_type": "stream",
     "text": [
      "Uma viagem de 245.0km, custara uma passagem de 110.25R$\n"
     ]
    }
   ],
   "source": [
    "distancia = float(input(\"Distancia da Viagem: \"))\n",
    "\n",
    "# Criando a condição\n",
    "if distancia <= 200:\n",
    "    preco = distancia * 0.5\n",
    "else:\n",
    "    preco = distancia * 0.45\n",
    "\n",
    "# Imprime o resultado\n",
    "print(f\"Uma viagem de {distancia}km, custara uma passagem de {preco}R$\")"
   ]
  },
  {
   "attachments": {},
   "cell_type": "markdown",
   "metadata": {},
   "source": [
    "#### Comentario 31 Custo da Viagem\n",
    "    O programa começa solicitando que o usuário informe a distância da viagem em Km utilizando a função e armazenando o valor digitado na variável .input()distancia\n",
    "\n",
    "    A seguir, o programa verifica se a distância informada é menor ou igual a 200 Km. Se for, o programa calcula o preço da passagem multiplicando a distância pelo valor fixo de R$ 0,50 por Km. Esse valor é armazenado na variável .preco\n",
    "\n",
    "    Se a distância informada for maior que 200 Km, o programa calcula o preço da passagem multiplicando a distância pelo valor fixo de R$ 0,45 por Km. Esse valor também é armazenado na variável .preco\n",
    "\n",
    "    Por fim, o programa imprime uma mensagem informando o preço da passagem, formatando o valor da variável para mostrar apenas duas casas decimais utilizando a string .preco\"{:.2f}\"\n",
    "\n",
    "    Essa é uma solução simples para o problema proposto, mas é importante ressaltar que uma aplicação real pode ter regras de precificação mais complexas e que essas regras podem variar de acordo com diversos fatores, como a época do ano, a demanda, a oferta de transporte, entre outros."
   ]
  },
  {
   "cell_type": "code",
   "execution_count": null,
   "metadata": {},
   "outputs": [],
   "source": []
  },
  {
   "cell_type": "markdown",
   "metadata": {},
   "source": [
    "## 32 – Ano Bissexto\n",
    "Faça um programa que leia um ano qualquer e mostre se ele é bissexto."
   ]
  },
  {
   "cell_type": "code",
   "execution_count": 6,
   "metadata": {},
   "outputs": [
    {
     "name": "stdout",
     "output_type": "stream",
     "text": [
      "O Ano 2013 Não e Bissexto\n"
     ]
    }
   ],
   "source": [
    "# Lendo o ano\n",
    "ano = int(input(\"Digite o ano: \"))\n",
    "\n",
    "# Criando a condição\n",
    "if ano % 4 == 0 and (ano % 100 != 0 or ano % 400 == 0):\n",
    "    print(f\"O Ano {ano} e Bissexto\")\n",
    "else:\n",
    "    print(f\"O Ano {ano} Não e Bissexto\")"
   ]
  },
  {
   "attachments": {},
   "cell_type": "markdown",
   "metadata": {},
   "source": [
    "#### Comentario 32 Ano Bissexto\n",
    "    O programa começa solicitando que o usuário informe um ano utilizando a função e convertendo o valor digitado para um número inteiro utilizando a função . O valor digitado é armazenado na variável .input()int()ano\n",
    "\n",
    "    A seguir, o programa verifica se o ano informado é bissexto utilizando uma expressão condicional (). Um ano é bissexto se ele for divisível por 4, com exceção dos anos que são divisíveis por 100 e não são divisíveis por 400. Essa regra é definida pelo calendário gregoriano, que é o calendário utilizado atualmente na maior parte do mundo.if\n",
    "\n",
    "    A expressão condicional utiliza os operadores lógicos e para verificar as duas condições. Se o ano for divisível por 4 e a segunda condição for verdadeira, o programa imprime uma mensagem informando que o ano é bissexto. Caso contrário, o programa imprime uma mensagem informando que o ano não é bissexto.andor\n",
    "\n",
    "    Essa verificação é feita utilizando o operador (módulo), que retorna o resto da divisão entre dois números. Se o resto da divisão de por 4 for igual a zero, isso significa que é divisível por 4. A primeira condição da expressão condicional verifica isso.%anoano\n",
    "\n",
    "    A segunda condição verifica se o ano é divisível por 100 e não é divisível por 400. Se essa condição for verdadeira, o ano não é bissexto, mesmo sendo divisível por 4. Se o ano for divisível por 400, ele é bissexto mesmo sendo divisível por 100."
   ]
  },
  {
   "cell_type": "code",
   "execution_count": null,
   "metadata": {},
   "outputs": [],
   "source": []
  },
  {
   "cell_type": "markdown",
   "metadata": {},
   "source": [
    "## 33 – Maior e menor valores\n",
    "Faça um programa que leia três números e mostre qual é o maior e qual é o menor."
   ]
  },
  {
   "cell_type": "code",
   "execution_count": 7,
   "metadata": {},
   "outputs": [
    {
     "name": "stdout",
     "output_type": "stream",
     "text": [
      "O Maior numero digitado foi 6.0, o menor numero digitado e 2.0\n"
     ]
    }
   ],
   "source": [
    "# Variaveis\n",
    "num1 = float(input(\"Primeiro Valor: \"))\n",
    "num2 = float(input(\"Segundo Valor: \"))\n",
    "num3 = float(input(\"Terceiro Valor: \"))\n",
    "\n",
    "# Definindo o maior valor\n",
    "maior = num1\n",
    "\n",
    "# Criando a condição\n",
    "if num2 > maior:\n",
    "    maior = num2\n",
    "if num3 > maior:\n",
    "    maior = num3\n",
    "\n",
    "# Definindo o menor valor\n",
    "menor = num1\n",
    "\n",
    "# Criano a condição\n",
    "if num2 < menor:\n",
    "    menor = num2\n",
    "if num3 < menor:\n",
    "    menor = num3\n",
    "\n",
    "# Imprime o resultado\n",
    "print(f\"O Maior numero digitado foi {maior}, o menor numero digitado e {menor}\")"
   ]
  },
  {
   "attachments": {},
   "cell_type": "markdown",
   "metadata": {},
   "source": [
    "#### Comentario 33 Maior e menor valor\n",
    "\n",
    "    O programa começa solicitando que o usuário informe três números utilizando a função e convertendo os valores digitados para números de ponto flutuante utilizando a função . Os valores digitados são armazenados nas variáveis , e , respectivamente.input()float()num1num2num3\n",
    "\n",
    "    A seguir, o programa compara os valores das três variáveis para determinar o maior e o menor deles. Isso é feito utilizando quatro variáveis: , , , e . As variáveis e são inicializadas com o valor de .maiormenornum1num2num3maiormenornum1\n",
    "\n",
    "    Em seguida, o programa compara com utilizando uma expressão condicional (). Se for maior que , o valor de é atualizado para . O mesmo processo é repetido com .num2maiorifnum2maiormaiornum2num3\n",
    "\n",
    "    Para determinar o menor número, o programa utiliza a mesma lógica, mas com a operação inversa. As variáveis , , e são comparadas para determinar o menor valor.menornum1num2num3\n",
    "\n",
    "    Por fim, o programa imprime uma mensagem informando qual é o maior e qual é o menor número, utilizando as variáveis e que foram calculadas anteriormente.maiormenor\n",
    "\n",
    "    Essa é uma solução simples para o problema proposto, mas é importante ressaltar que em casos onde há muitos números para comparar, é mais eficiente utilizar outras técnicas de programação, como loops ou estruturas de dados."
   ]
  },
  {
   "cell_type": "code",
   "execution_count": null,
   "metadata": {},
   "outputs": [],
   "source": []
  },
  {
   "cell_type": "markdown",
   "metadata": {},
   "source": [
    "## 34 – Aumentos múltiplos\n",
    "Escreva um programa que pergunte o salário de um funcionário e calcule o valor do seu aumento. Para salários superiores a R$1250,00, calcule um aumento de 10%. Para os inferiores ou iguais, o aumento é de 15%."
   ]
  },
  {
   "cell_type": "code",
   "execution_count": 10,
   "metadata": {},
   "outputs": [
    {
     "name": "stdout",
     "output_type": "stream",
     "text": [
      "O Funcionario ganhava 3456.0R$\n",
      "O Aumento foi de 345.60R$\n",
      "O Novo Salario sera de 3801.60\n"
     ]
    }
   ],
   "source": [
    "salario = float(input(\"Salario do Funcionario R$: \"))\n",
    "\n",
    "if salario > 1250:\n",
    "    novo_salario = salario * 1.1\n",
    "else:\n",
    "    novo_salario = salario * 1.15\n",
    "\n",
    "aumento = novo_salario - salario\n",
    "\n",
    "print(f\"O Funcionario ganhava {salario}R$\")\n",
    "print(f\"O Aumento foi de {aumento:.2f}R$\")\n",
    "print(f\"O Novo Salario sera de {novo_salario:.2f}\")"
   ]
  },
  {
   "attachments": {},
   "cell_type": "markdown",
   "metadata": {},
   "source": [
    "#### Comentario 34 Aumento multiplos\n",
    "    O programa começa solicitando que o usuário informe o valor do salário utilizando a função e convertendo o valor digitado para um número de ponto flutuante utilizando a função . O valor digitado é armazenado na variável .input()float()salario\n",
    "\n",
    "    Em seguida, o programa utiliza uma estrutura condicional () para verificar se o valor do salário é maior que R$1250,00. Se for, o aumento é calculado como 10% do salário original. Caso contrário, o aumento é de 15%.if-else\n",
    "\n",
    "    O valor do aumento é armazenado na variável . O novo salário é calculado somando-se o valor do salário original com o valor do aumento e é armazenado na variável .aumentonovo_salario\n",
    "\n",
    "    Por fim, o programa imprime uma mensagem informando o valor do salário original, o valor do aumento e o novo valor do salário, utilizando as variáveis , e que foram calculadas anteriormente.salarioaumentonovo_salario"
   ]
  },
  {
   "cell_type": "code",
   "execution_count": null,
   "metadata": {},
   "outputs": [],
   "source": []
  },
  {
   "attachments": {},
   "cell_type": "markdown",
   "metadata": {},
   "source": [
    "## 35 – Analisando Triângulo v1.0\n",
    "Desenvolva um programa que leia o comprimento de três retas e diga ao usuário se elas podem ou não formar um triângulo.\n",
    "\n",
    "Para determinar se três retas podem formar um triângulo, é necessário verificar se a soma dos comprimentos de duas das retas é maior do que o comprimento da terceira reta. Caso essa condição seja satisfeita para todas as possíveis pentear"
   ]
  },
  {
   "cell_type": "code",
   "execution_count": 11,
   "metadata": {},
   "outputs": [
    {
     "name": "stdout",
     "output_type": "stream",
     "text": [
      "E possivel forma um triangulo\n"
     ]
    }
   ],
   "source": [
    "# Definindo os lados\n",
    "a = float(input(\"Comprimento 1: \"))\n",
    "b = float(input(\"Comprimento 2: \"))\n",
    "c = float(input(\"Comprimento 3: \"))\n",
    "\n",
    "# Criando a condição\n",
    "if a < b+c and b < a+c and c < a+b:\n",
    "    print(f\"E possivel forma um triangulo\")\n",
    "else:\n",
    "    print(f\"Não e possivel forma um triangulo\")"
   ]
  },
  {
   "attachments": {},
   "cell_type": "markdown",
   "metadata": {},
   "source": [
    "#### Comentario 35 Analisando Triangulo v1.0\n",
    "    O programa começa solicitando ao usuário o comprimento das três retas utilizando a função e convertendo os valores digitados para números de ponto flutuante utilizando a função . Os valores são armazenados nas variáveis , e .input()float()abc\n",
    "\n",
    "    Em seguida, o programa utiliza uma estrutura condicional () para verificar se a soma dos comprimentos de duas das retas é maior do que o comprimento da terceira reta. Caso essa condição seja satisfeita para todas as possíveis combinações de duas retas, o programa informa ao usuário que é possível formar um triângulo. Caso contrário, o programa informa que não é possível formar um triângulo.if-else"
   ]
  },
  {
   "cell_type": "code",
   "execution_count": null,
   "metadata": {},
   "outputs": [],
   "source": []
  },
  {
   "cell_type": "code",
   "execution_count": null,
   "metadata": {},
   "outputs": [],
   "source": []
  },
  {
   "cell_type": "code",
   "execution_count": null,
   "metadata": {},
   "outputs": [],
   "source": []
  },
  {
   "cell_type": "code",
   "execution_count": null,
   "metadata": {},
   "outputs": [],
   "source": []
  },
  {
   "cell_type": "code",
   "execution_count": null,
   "metadata": {},
   "outputs": [],
   "source": []
  },
  {
   "cell_type": "code",
   "execution_count": null,
   "metadata": {},
   "outputs": [],
   "source": []
  },
  {
   "cell_type": "code",
   "execution_count": null,
   "metadata": {},
   "outputs": [],
   "source": []
  },
  {
   "cell_type": "code",
   "execution_count": null,
   "metadata": {},
   "outputs": [],
   "source": []
  }
 ],
 "metadata": {
  "kernelspec": {
   "display_name": "Python 3",
   "language": "python",
   "name": "python3"
  },
  "language_info": {
   "codemirror_mode": {
    "name": "ipython",
    "version": 3
   },
   "file_extension": ".py",
   "mimetype": "text/x-python",
   "name": "python",
   "nbconvert_exporter": "python",
   "pygments_lexer": "ipython3",
   "version": "3.11.3"
  },
  "orig_nbformat": 4
 },
 "nbformat": 4,
 "nbformat_minor": 2
}

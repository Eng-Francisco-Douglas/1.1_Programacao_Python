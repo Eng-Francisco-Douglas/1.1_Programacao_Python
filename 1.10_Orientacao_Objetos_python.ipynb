{
 "cells": [
  {
   "attachments": {},
   "cell_type": "markdown",
   "metadata": {},
   "source": [
    "# POO"
   ]
  },
  {
   "attachments": {},
   "cell_type": "markdown",
   "metadata": {
    "collapsed": true
   },
   "source": [
    "Orientação a Objetos é um paradigma de programação baseado no conceito de Classes e Objetos. Classes podem conter dados e código: Dados na forma de campos (também chamados de atributos ou propriedades) e Código, na forma de procedimentos (frequentemente conhecidos como métodos)². Na POO, os programas são projetados a partir de objetos que interagem uns com os outros. Esse paradigma se concentra nos objetos que os desenvolvedores desejam manipular, ao invés da lógica necessária para manipulá-los².\n",
    "\n",
    "Python já nasceu sendo uma linguagem de programação multi-paradigma, isto é: é possível programar em Python de maneira Imperativa, Funcional e também no paradigma que será abordado nesse post, utilizando conceitos da Programação Orientada a Objetos². Criar e usar Classes e Objetos é muito fácil em Python².\n",
    "\n",
    "Caso queira saber mais sobre algum aspecto específico da Orientação a Objetos em Python?\n",
    "\n",
    "(1) Programação Orientada a Objetos no Python: Introdução. https://pythonacademy.com.br/blog/introducao-a-programacao-orientada-a-objetos-no-python.\n",
    "(2) Orientação a Objetos em Python - O que é? - Hashtag Treinamentos. https://bing.com/search?q=O+que+%c3%a9+Orienta%c3%a7%c3%a3o+a+Objetos+no+Python.\n",
    "(3) Orientação a objetos em Python | Blog TreinaWeb. https://www.treinaweb.com.br/blog/orientacao-a-objetos-em-python/.\n",
    "(4) Orientação a Objetos em Python - O que é? - Hashtag Treinamentos. https://www.hashtagtreinamentos.com/orientacao-a-objetos-em-python.\n",
    "(5) Um Guia para Iniciantes em Programação Orientada a Objetos (POO) Python. https://kinsta.com/pt/blog/programacao-orientada-objetos-python/.\n",
    "(6) Classes e Objetos - Fundamentos — Como pensar como um Cientista da .... https://panda.ime.usp.br/pensepy/static/pensepy/13-Classes/classesintro.html."
   ]
  },
  {
   "cell_type": "code",
   "execution_count": 3,
   "metadata": {},
   "outputs": [
    {
     "name": "stdout",
     "output_type": "stream",
     "text": [
      "Auau\n",
      "True\n",
      "Zzzzzz\n",
      "False\n"
     ]
    }
   ],
   "source": [
    "# Exemplo Classe\n",
    "class Cachorro:\n",
    "    def __init__(self, nome, cor, acordado=True):\n",
    "        self.nome = nome\n",
    "        self.cor = cor\n",
    "        self.acordado = acordado\n",
    "    \n",
    "    def latir(self):\n",
    "        print(\"Auau\")\n",
    "    \n",
    "    def dormir(self):\n",
    "        self.acordado = False\n",
    "        print(\"Zzzzzz\")\n",
    "        \n",
    "# Objeto\n",
    "cao_1 = Cachorro(\"chappie\", 'amarelo', False)\n",
    "cao_2 = Cachorro(\"Aladim\", 'branco e preto')\n",
    "\n",
    "cao_1.latir()\n",
    "print(cao_2.acordado)\n",
    "cao_2.dormir()\n",
    "print(cao_2.acordado)"
   ]
  },
  {
   "cell_type": "code",
   "execution_count": 17,
   "metadata": {},
   "outputs": [
    {
     "name": "stdout",
     "output_type": "stream",
     "text": [
      "Plim Plim....\n",
      "Vrummmmm.....\n",
      "Parando a Bicicleta\n",
      "Bicicleta Parada\n",
      "vermelha caloi 2023 650\n"
     ]
    }
   ],
   "source": [
    "# Classe Bicicleta\n",
    "\n",
    "class Bicicleta:\n",
    "    def __init__(self, cor, modelo, ano, valor):\n",
    "        self.get_cor    = cor\n",
    "        self.modelo = modelo\n",
    "        self.ano    = ano\n",
    "        self.valor  = valor\n",
    "\n",
    "    def buzinar(self):\n",
    "        print(\"Plim Plim....\")\n",
    "\n",
    "    def parar(self):\n",
    "        print(\"Parando a Bicicleta\")\n",
    "        print(\"Bicicleta Parada\")\n",
    "\n",
    "    def correr(self):\n",
    "        print(\"Vrummmmm.....\")\n",
    "\n",
    "\n",
    "    def __str__(self):\n",
    "        return f\"{self.__classe__.__name__}: {[f'{chave}={valor}' for chave, valor in self.__dict__.items()]}\"\n",
    "\n",
    "\n",
    "\n",
    "b1 = Bicicleta('vermelha', 'caloi', 2023, 650)\n",
    "b1.buzinar()\n",
    "b1.correr()\n",
    "b1.parar()\n",
    "print(b1.get_cor, b1.modelo, b1.ano, b1.valor)"
   ]
  },
  {
   "cell_type": "code",
   "execution_count": null,
   "metadata": {},
   "outputs": [],
   "source": []
  },
  {
   "cell_type": "code",
   "execution_count": 6,
   "metadata": {},
   "outputs": [
    {
     "name": "stdout",
     "output_type": "stream",
     "text": [
      "Inicializando a classe...\n",
      "Inicializando a classe...\n",
      "Zeus\n",
      "Removendo a Instancia da classe\n"
     ]
    }
   ],
   "source": [
    "# Construtures e destrutores\n",
    "class Cachorro:\n",
    "    def __init__(self, nome, cor, acordado=True):\n",
    "        print(\"Inicializando a classe...\")\n",
    "        self.nome = nome\n",
    "        self.cor = cor\n",
    "        self.acordado = acordado\n",
    "\n",
    "    def __del__(self):\n",
    "        print(\"Removendo a Instancia da classe\")\n",
    "\n",
    "    def falar(self):\n",
    "        print(\"Auauau\")\n",
    "\n",
    "def criar_cachorro():\n",
    "    c = Cachorro(\"Zeus\", 'Branco e preto', False)\n",
    "    print(c.nome)\n",
    "\n",
    "\n",
    "c = Cachorro(\"Charpie\", 'amarelo')\n",
    "c\n",
    "criar_cachorro()"
   ]
  },
  {
   "cell_type": "code",
   "execution_count": null,
   "metadata": {},
   "outputs": [],
   "source": []
  },
  {
   "attachments": {},
   "cell_type": "markdown",
   "metadata": {},
   "source": [
    "# Herança em Python\n",
    "Herança é um conceito fundamental da programação orientada a objetos. Em Python, herança é uma forma de reutilização de código, onde uma classe é criada herdando atributos e comportamentos (métodos) de outra(s) classe(s)². Isso permite que você crie novas classes com base em classes existentes, sem precisar reescrever o código. As classes em Python oferecem todas as características tradicionais da programação orientada a objetos: o mecanismo de herança permite múltiplas classes base (herança múltipla), uma classe derivada pode sobrescrever quaisquer métodos de uma classe ancestral, e um método pode invocar outro método homônimo de uma classe ancestral⁴.\n",
    "\n",
    "Por exemplo, suponha que você tenha criado uma classe `Veiculo` que representa qualquer tipo de veículo motorizado, como carro, moto, caminhão etc. Essa classe pode ter atributos como rodas, assentos, motor e potência. Você pode então criar classes `Carro` e `Moto` que herdam os atributos da classe `Veiculo`. Assim, automaticamente os atributos rodas, assentos, motor e potência serão herdados pelas classes `Carro` e `Moto`. Além disso, você pode adicionar atributos e comportamentos específicos a cada uma dessas classes².\n",
    "\n",
    "\n",
    "(1) Herança - Orientação a Objetos em Python - Python Progressivo. https://www.pythonprogressivo.net/2018/11/Heranca-Orientacao-Objetos-Python.html.\n",
    "(2) 9. Classes — documentação Python 3.11.3. https://docs.python.org/pt-br/3/tutorial/classes.html.\n",
    "(3) 9. Classes — documentação Python 3.11.3. https://bing.com/search?q=Heran%c3%a7a+em+Programa%c3%a7%c3%a3o+orientada+a+objetos+em+python.\n",
    "(4) Utilizando herança no Python | Blog TreinaWeb. https://www.treinaweb.com.br/blog/utilizando-heranca-no-python/.\n",
    "(5) Herança em Python - Algoritmos em Python. https://algoritmosempython.com.br/cursos/programacao-python/heranca/."
   ]
  },
  {
   "cell_type": "code",
   "execution_count": 3,
   "metadata": {},
   "outputs": [
    {
     "name": "stdout",
     "output_type": "stream",
     "text": [
      "Ligando o motor\n"
     ]
    }
   ],
   "source": [
    "class Veiculo:\n",
    "    def __init__(self, cor, placa, numero_rodas):\n",
    "        self.cor = cor\n",
    "        self.placa = placa\n",
    "        self.numero_rodas = numero_rodas\n",
    "\n",
    "    def ligar_motor(self):\n",
    "        print(\"Ligando o motor\")\n",
    "\n",
    "class Motocicleta(Veiculo):\n",
    "    pass\n",
    "\n",
    "class Carro(Veiculo):\n",
    "    pass\n",
    "\n",
    "class Caminhao(Veiculo):\n",
    "    def __init_(self, cor, placa, numero_rodas, carregado):\n",
    "        super().__init__(cor, placa, numero_rodas)\n",
    "        self.carregado = carregado\n",
    "\n",
    "    def esta_carregado(self):\n",
    "        print(f\"{'Sim' if self.carregado else 'Não estou carregado' }\")\n",
    "\n",
    "\n",
    "\n",
    "moto = Motocicleta(\"preta\", 'abc-1234', 2)\n",
    "moto.ligar_motor()\n"
   ]
  },
  {
   "cell_type": "code",
   "execution_count": 2,
   "metadata": {},
   "outputs": [
    {
     "name": "stdout",
     "output_type": "stream",
     "text": [
      "bar\n"
     ]
    }
   ],
   "source": [
    "class Foo:\n",
    "    def hello(self):\n",
    "        print(self.__class__.__name__.lower())\n",
    "\n",
    "\n",
    "class Bar(Foo):\n",
    "    def hello(self):\n",
    "        return super().hello()\n",
    "\n",
    "\n",
    "bar = Bar()\n",
    "bar.hello()"
   ]
  }
 ],
 "metadata": {
  "kernelspec": {
   "display_name": "Python 3 (ipykernel)",
   "language": "python",
   "name": "python3"
  },
  "language_info": {
   "codemirror_mode": {
    "name": "ipython",
    "version": 3
   },
   "file_extension": ".py",
   "mimetype": "text/x-python",
   "name": "python",
   "nbconvert_exporter": "python",
   "pygments_lexer": "ipython3",
   "version": "3.10.9"
  }
 },
 "nbformat": 4,
 "nbformat_minor": 1
}

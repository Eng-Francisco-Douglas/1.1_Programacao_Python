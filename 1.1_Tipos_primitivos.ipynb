{
 "cells": [
  {
   "cell_type": "markdown",
   "metadata": {},
   "source": [
    "## 1 Primeiro Programa em Python\n",
    "Faça um programa que escreva uma mensagem na tela"
   ]
  },
  {
   "cell_type": "code",
   "execution_count": 1,
   "metadata": {},
   "outputs": [
    {
     "name": "stdout",
     "output_type": "stream",
     "text": [
      "ola mundo\n"
     ]
    }
   ],
   "source": [
    "mensagem = input('Mensagem ')\n",
    "print(mensagem)"
   ]
  },
  {
   "cell_type": "markdown",
   "metadata": {},
   "source": [
    "## 2 – Respondendo ao Usuário\n",
    "Faça um programa que leia o nome de uma pessoa e mostre uma mensagem de boas-vindas."
   ]
  },
  {
   "cell_type": "code",
   "execution_count": 2,
   "metadata": {},
   "outputs": [
    {
     "name": "stdout",
     "output_type": "stream",
     "text": [
      "Ola Francisco Douglas seja bem-vindo\n"
     ]
    }
   ],
   "source": [
    "nome = input('Qual o seu nome? ')\n",
    "print(f'Ola {nome} seja bem-vindo')"
   ]
  },
  {
   "cell_type": "markdown",
   "metadata": {},
   "source": [
    "#### Comentario 2 Respondendo ao Usuario\n",
    "    Ao executar este programa, será exibida a mensagem \"Qual é o seu nome?\", e o usuário poderá digitar o seu nome. Em seguida, o programa irá exibir a mensagem \"Olá, [nome]! Seja bem-vindo!\", onde [nome] é o nome digitado pelo usuário."
   ]
  },
  {
   "cell_type": "code",
   "execution_count": null,
   "metadata": {},
   "outputs": [],
   "source": []
  },
  {
   "cell_type": "markdown",
   "metadata": {},
   "source": [
    "## 3 – Somando dois números\n",
    "Crie um programa que leia dois números e mostre a soma entre eles."
   ]
  },
  {
   "cell_type": "code",
   "execution_count": 1,
   "metadata": {},
   "outputs": [
    {
     "name": "stdout",
     "output_type": "stream",
     "text": [
      "A Soma de (4.0, 5.0) = 9.0\n"
     ]
    }
   ],
   "source": [
    "# Le o primeiro numero\n",
    "num1 = float(input('Digite o Primeiro Numero: '))\n",
    "\n",
    "# Le o Segundo numero\n",
    "num2 = float(input('Digite o Segundo Numero: '))\n",
    "\n",
    "# Calcula a Soma\n",
    "soma = num1 + num2 \n",
    "\n",
    "# Exibe o resultado\n",
    "print(f'A Soma de {num1, num2} = {soma}')\n"
   ]
  },
  {
   "cell_type": "markdown",
   "metadata": {},
   "source": [
    "#### Comentario 3 Somando dois numeros\n",
    "    Ao executar este programa, será exibida a mensagem \"Digite o primeiro número:\", e o usuário poderá digitar o primeiro número. Em seguida, será exibida a mensagem \"Digite o segundo número:\", e o usuário poderá digitar o segundo número. O programa irá calcular a soma entre os dois números informados e exibir a mensagem \"A soma de [num1] e [num2] é [soma]\", onde [num1], [num2] e [soma] são os valores digitados pelo usuário e a soma calculada pelo programa."
   ]
  },
  {
   "cell_type": "code",
   "execution_count": null,
   "metadata": {},
   "outputs": [],
   "source": []
  },
  {
   "cell_type": "markdown",
   "metadata": {},
   "source": [
    "## 4 – Dissecando uma Variável\n",
    "Faça um programa que leia algo pelo teclado e mostre na tela o seu tipo primitivo e todas as informações possíveis sobre ele."
   ]
  },
  {
   "cell_type": "code",
   "execution_count": 4,
   "metadata": {},
   "outputs": [
    {
     "name": "stdout",
     "output_type": "stream",
     "text": [
      "O Tipo primitivo de Abraço e <class 'str'>\n",
      "O Valor Abraço não e numerico\n",
      "O Valor Abraço e Alfabetico\n",
      "O Valor Abraço e Alfanumerico\n",
      "O Valor Abraço esta em Minusculas\n"
     ]
    }
   ],
   "source": [
    "# Le um valor informado pelo usuario\n",
    "valor = input('Digite Algo: ')\n",
    "\n",
    "# Mostra o tipo primitivo do valor\n",
    "print(f'O Tipo primitivo de {valor} e {type(valor)}')\n",
    "\n",
    "# Verificando se e numerico\n",
    "if valor.isnumeric():\n",
    "    print(f'O Valor {valor} e Numerico.')\n",
    "else:\n",
    "    print(f'O Valor {valor} não e numerico')\n",
    "\n",
    "# Verificando se o valor e Alfabetico\n",
    "if valor.isalpha():\n",
    "    print(f'O Valor {valor} e Alfabetico')\n",
    "else:\n",
    "    print(f'O Valor {valor} não e alfabetico')\n",
    "\n",
    "# Verificando se o Valor e Alfanumerico:\n",
    "if valor.isalnum():\n",
    "    print(f'O Valor {valor} e Alfanumerico')\n",
    "else:\n",
    "    print(f'O Valor {valor} não e Alfanumerico')\n",
    "\n",
    "# Verificando se o valor esta em maiusculas\n",
    "if valor.isupper():\n",
    "    print(f'O Valor {valor} esta em Maiusculas')\n",
    "# Ao mesmo tempo que verificamos se esta em maiusculas, caso seja falso o valor esta em minusculas\n",
    "# Para verifica se esta em maiusculas utilizo o (upper) minusculas utilizo o (lower)\n",
    "else:\n",
    "    print(f'O Valor {valor} esta em Minusculas')"
   ]
  },
  {
   "cell_type": "markdown",
   "metadata": {},
   "source": [
    "#### Comentario 4 Dissecando Uma Variavel\n",
    "    Ao executar este programa, será exibida a mensagem \"Digite algo:\", e o usuário poderá digitar um valor qualquer. O programa irá mostrar na tela o tipo primitivo do valor, bem como todas as informações possíveis sobre ele, como se é numérico, alfabético, alfanumérico, está em maiuscula  ou caixa minusculo."
   ]
  },
  {
   "cell_type": "code",
   "execution_count": null,
   "metadata": {},
   "outputs": [],
   "source": []
  },
  {
   "cell_type": "markdown",
   "metadata": {},
   "source": [
    "## 5 – Antecessor e Sucessor\n",
    "Faça um programa que leia um número Inteiro e mostre na tela o seu sucessor e seu antecessor."
   ]
  },
  {
   "cell_type": "code",
   "execution_count": 1,
   "metadata": {},
   "outputs": [
    {
     "name": "stdout",
     "output_type": "stream",
     "text": [
      "Digite um numero: 6\n",
      "O Sucessor de 6 e 7\n",
      "O Antecessor de 6 e 5\n"
     ]
    }
   ],
   "source": [
    "# Le o numero inteiro\n",
    "numero = int(input('Digite um numero: '))\n",
    "\n",
    "# Calcula o Sucessor e Antecessor\n",
    "sucessor = numero + 1\n",
    "antecessor = numero - 1\n",
    "\n",
    "# Mostra na tela o Resultado\n",
    "print(f\"O Sucessor de {numero} e {sucessor}\")\n",
    "print(f\"O Antecessor de {numero} e {antecessor}\")"
   ]
  },
  {
   "cell_type": "markdown",
   "metadata": {},
   "source": [
    "#### Comentario 5 Antecessor e Sucessor\n",
    "    Ao executar este programa, será exibida a mensagem \"Digite um número inteiro:\", e o usuário poderá digitar um número inteiro qualquer. O programa irá calcular o sucessor e o antecessor desse número e mostrar na tela as mensagens \"O sucessor de [número] é [sucessor]\" e \"O antecessor de [número] é [antecessor]\", onde [número], [sucessor] e [antecessor] são os valores informados e calculados pelo programa."
   ]
  },
  {
   "cell_type": "code",
   "execution_count": null,
   "metadata": {},
   "outputs": [],
   "source": []
  },
  {
   "cell_type": "markdown",
   "metadata": {},
   "source": [
    "## 6 – Dobro, Triplo, Raiz Quadrada\n",
    "Crie um algoritmo que leia um número e mostre o seu dobro, triplo e raiz quadrada."
   ]
  },
  {
   "cell_type": "code",
   "execution_count": 3,
   "metadata": {},
   "outputs": [
    {
     "name": "stdout",
     "output_type": "stream",
     "text": [
      "Digite o Numero: 34\n",
      "O Dobro de 34.0 e 68.0\n",
      "O Triplo de 34.0 e 102.0\n",
      "A Raiz de 34.0 e 5.83\n"
     ]
    }
   ],
   "source": [
    "# Importa a biblioteca de Funções matematicas\n",
    "from math import sqrt\n",
    "\n",
    "# Lendo o Numero\n",
    "numero = float(input(\"Digite o Numero: \"))\n",
    "\n",
    "# Calculando o Dobro, triplo e raiz\n",
    "dobro = numero * 2\n",
    "triplo = numero * 3\n",
    "raiz = sqrt(numero)\n",
    "\n",
    "# Mostrando o resultado na tela\n",
    "print(f\"O Dobro de {numero} e {dobro}\")\n",
    "print(f\"O Triplo de {numero} e {triplo}\")\n",
    "print(f\"A Raiz de {numero} e {raiz:.2f}\")"
   ]
  },
  {
   "cell_type": "markdown",
   "metadata": {},
   "source": [
    "#### 6 Comentario\n",
    "    Ao executar este programa, será exibida a mensagem \"Digite um número:\", e o usuário poderá digitar um número qualquer. O programa irá calcular o dobro, o triplo e a raiz quadrada desse número e mostrar na tela as mensagens \"O dobro de [número] é [dobro]\", \"O triplo de [número] é [triplo]\" e \"A raiz quadrada de [número] é [raiz_quadrada]\", onde [número], [dobro], [triplo] e [raiz_quadrada] são os valores informados e calculados pelo programa."
   ]
  },
  {
   "cell_type": "code",
   "execution_count": null,
   "metadata": {},
   "outputs": [],
   "source": []
  },
  {
   "cell_type": "markdown",
   "metadata": {},
   "source": [
    "## 7 – Média Aritmética\n",
    "Desenvolva um programa que leia as duas notas de um aluno, calcule e mostre a sua média."
   ]
  },
  {
   "cell_type": "code",
   "execution_count": 5,
   "metadata": {},
   "outputs": [
    {
     "name": "stdout",
     "output_type": "stream",
     "text": [
      "Digite a primeira Nota: 8.6\n",
      "Digite a segunda Nota: 7.8\n",
      "A Media do aluno e de 8.20 pontos\n"
     ]
    }
   ],
   "source": [
    "# Lendo as notas do aluno\n",
    "nota1 = float(input(\"Digite a primeira Nota: \"))\n",
    "nota2 = float(input(\"Digite a segunda Nota: \"))\n",
    "\n",
    "# Calcula a Média das duas Notas\n",
    "media = (nota1 + nota2) / 2\n",
    "\n",
    "# Mostra a Media na Tela\n",
    "print(f\"A Media do aluno e de {media:.2f} pontos\")"
   ]
  },
  {
   "cell_type": "markdown",
   "metadata": {},
   "source": [
    "#### Comentario 7 Media Aritmetica\n",
    "    Ao executar este programa, será exibida a mensagem \"Digite a primeira nota:\" e o usuário poderá digitar a primeira nota do aluno. Em seguida, será exibida a mensagem \"Digite a segunda nota:\" e o usuário poderá digitar a segunda nota do aluno. O programa irá calcular a média das duas notas e mostrar na tela a mensagem \"A média do aluno é: [media]\", onde [media] é o valor calculado pelo programa."
   ]
  },
  {
   "cell_type": "code",
   "execution_count": null,
   "metadata": {},
   "outputs": [],
   "source": []
  },
  {
   "cell_type": "markdown",
   "metadata": {},
   "source": [
    "## 8 – Conversor de Medidas\n",
    "Escreva um programa que leia um valor em metros e o exiba convertido em quilometro, hectometro, decametro, decimetro, centímetros e milímetros."
   ]
  },
  {
   "cell_type": "code",
   "execution_count": 6,
   "metadata": {},
   "outputs": [
    {
     "name": "stdout",
     "output_type": "stream",
     "text": [
      "Digite o valor em metros: 45\n",
      "45.0 metros equivalem a:\n",
      "0.045 quilômetros\n",
      "0.45 hectômetros\n",
      "4.5 decâmetros\n",
      "450.0 decímetros\n",
      "4500.0 centímetros\n",
      "45000.0 milímetros\n"
     ]
    }
   ],
   "source": [
    "# Lendo o Valor em Metros\n",
    "metros = float(input(\"Digite o valor em metros: \"))\n",
    "\n",
    "# Converte para as unidades de medida\n",
    "quilometros = metros / 1000\n",
    "hectometros = metros / 100\n",
    "decametros  = metros / 10\n",
    "decimetros  = metros * 10\n",
    "centimetros = metros * 100\n",
    "milimetros  = metros * 1000\n",
    "\n",
    "# Exibindo o Resultado\n",
    "print(metros, \"metros equivalem a:\")\n",
    "print(quilometros, \"quilômetros\")\n",
    "print(hectometros, \"hectômetros\")\n",
    "print(decametros, \"decâmetros\")\n",
    "print(decimetros, \"decímetros\")\n",
    "print(centimetros, \"centímetros\")\n",
    "print(milimetros, \"milímetros\")"
   ]
  },
  {
   "cell_type": "markdown",
   "metadata": {},
   "source": [
    "#### Comentario 8 Conversor de Medidas\n",
    "    Ao executar este programa, será exibida a mensagem \"Digite o valor em metros:\" e o usuário poderá digitar um valor em metros. O programa irá converter esse valor para outras unidades de medida e mostrar na tela os resultados em quilômetros, hectômetros, decâmetros, decímetros, centímetros e milímetros."
   ]
  },
  {
   "cell_type": "code",
   "execution_count": null,
   "metadata": {},
   "outputs": [],
   "source": []
  },
  {
   "cell_type": "markdown",
   "metadata": {},
   "source": [
    "## 9 – Tabuada\n",
    "Faça um programa que leia um número Inteiro qualquer e mostre na tela a sua tabuada."
   ]
  },
  {
   "cell_type": "code",
   "execution_count": 7,
   "metadata": {},
   "outputs": [
    {
     "name": "stdout",
     "output_type": "stream",
     "text": [
      "Digite um Numero: 4\n",
      "4 + 1 = 5\n",
      "4 + 2 = 6\n",
      "4 + 3 = 7\n",
      "4 + 4 = 8\n",
      "4 + 5 = 9\n",
      "4 + 6 = 10\n",
      "4 + 7 = 11\n",
      "4 + 8 = 12\n",
      "4 + 9 = 13\n",
      "4 + 10 = 14\n"
     ]
    }
   ],
   "source": [
    "# Lendo o numero\n",
    "num = int(input('Digite um Numero: '))\n",
    "\n",
    "# Exibindo o Resultado\n",
    "print(f'{num} + {1} = {num+1}')\n",
    "print(f'{num} + {2} = {num+2}')\n",
    "print(f'{num} + {3} = {num+3}')\n",
    "print(f'{num} + {4} = {num+4}')\n",
    "print(f'{num} + {5} = {num+5}')\n",
    "print(f'{num} + {6} = {num+6}')\n",
    "print(f'{num} + {7} = {num+7}')\n",
    "print(f'{num} + {8} = {num+8}')\n",
    "print(f'{num} + {9} = {num+9}')\n",
    "print(f'{num} + {10} = {num+10}')"
   ]
  },
  {
   "cell_type": "markdown",
   "metadata": {},
   "source": [
    "#### Comentario 9 Tabuada\n",
    "    Ao executar este programa, será exibida a mensagem \"Digite um número inteiro:\" e o usuário poderá digitar um número inteiro. O programa irá exibir a tabuada desse número na tela, mostrando o resultado da soma desse número pelos números de 1 a 10."
   ]
  },
  {
   "cell_type": "code",
   "execution_count": null,
   "metadata": {},
   "outputs": [],
   "source": []
  },
  {
   "cell_type": "markdown",
   "metadata": {},
   "source": [
    "## 10 – Conversor de Moedas\n",
    "Crie um programa que leia quanto dinheiro uma pessoa tem na carteira e mostre quantos dólares ela pode comprar."
   ]
  },
  {
   "cell_type": "code",
   "execution_count": 9,
   "metadata": {},
   "outputs": [
    {
     "name": "stdout",
     "output_type": "stream",
     "text": [
      "Digite o Valor em reais: 4500\n",
      "Com R$ 4500.0, voce podera compra 818.18 U$ dolares\n"
     ]
    }
   ],
   "source": [
    "# Le o valor em reais\n",
    "reais = float(input(\"Digite o Valor em reais: \"))\n",
    "\n",
    "# Converte para Dolares\n",
    "cotacao = 5.50\n",
    "dolares = reais / cotacao\n",
    "\n",
    "# Exibindo o Resultado\n",
    "print(f\"Com R$ {reais}, voce podera compra {dolares:.2f} U$ dolares\")"
   ]
  },
  {
   "cell_type": "markdown",
   "metadata": {},
   "source": [
    "#### Comentario 10 Conversor de Moedas\n",
    "    Neste exemplo, a cotação do dólar é fixa em R$ 5,50. O programa lê o valor em reais, converte para dólares dividindo pelo valor da cotação e mostra na tela a mensagem \"Com R$ [valor em reais] você pode comprar US$ [valor em dólares]\"."
   ]
  },
  {
   "cell_type": "code",
   "execution_count": null,
   "metadata": {},
   "outputs": [],
   "source": []
  },
  {
   "cell_type": "markdown",
   "metadata": {},
   "source": [
    "## 11 – Pintando Parede\n",
    "Faça um programa que leia a largura e a altura de uma parede em metros, calcule a sua área e a quantidade de tinta necessária para pintá-la, sabendo que cada litro de tinta pinta uma área de 2 metros quadrados."
   ]
  },
  {
   "cell_type": "code",
   "execution_count": 15,
   "metadata": {},
   "outputs": [
    {
     "name": "stdout",
     "output_type": "stream",
     "text": [
      "Largura da Parede em Metros: 4\n",
      "Altura da Parede em Metros: 6\n",
      "A Area da parede e de 24.00 M² metros quadrados\n",
      "Sera preciso 12.0 litros de tinta para pinta a parede\n"
     ]
    }
   ],
   "source": [
    "# Introduzindo os Dados \n",
    "largura = float(input(\"Largura da Parede em Metros: \"))\n",
    "altura  = float(input(\"Altura da Parede em Metros: \"))\n",
    "\n",
    "# Calculando \n",
    "area = largura * altura\n",
    "q_tinta = area / 2\n",
    "\n",
    "# Imprimindo o Resultado\n",
    "print(f\"A Area da parede e de {area:.2f} M² metros quadrados\")\n",
    "print(f\"Sera preciso {q_tinta} litros de tinta para pinta a parede\")"
   ]
  },
  {
   "cell_type": "markdown",
   "metadata": {},
   "source": [
    "#### Comentario 11 Pintando uma Parede\n",
    "    No código acima, primeiro é feita a leitura da largura e da altura da parede em metros. Em seguida, a área é calculada multiplicando-se a largura pela altura. Por fim, é calculada a quantidade de tinta necessária dividindo-se a área por 2 (já que cada litro de tinta pinta 2 metros quadrados), e o resultado é exibido na tela utilizando a função print()."
   ]
  },
  {
   "cell_type": "code",
   "execution_count": null,
   "metadata": {},
   "outputs": [],
   "source": []
  },
  {
   "cell_type": "markdown",
   "metadata": {},
   "source": [
    "## 12 – Calculando Descontos\n",
    "Faça um algoritmo que leia o preço de um produto e mostre seu novo preço, com 5% de desconto."
   ]
  },
  {
   "cell_type": "code",
   "execution_count": 16,
   "metadata": {},
   "outputs": [
    {
     "name": "stdout",
     "output_type": "stream",
     "text": [
      "Digite o Preco do Produto: 4567\n",
      "O Produto que custava 4567.0 R$ com 5% de desconto custara apenas 4338.65 R$\n"
     ]
    }
   ],
   "source": [
    "# Inserindo o dado\n",
    "preco = float(input(\"Digite o Preco do Produto: \"))\n",
    "novo_preco = preco * 0.95 # Calcula o novo preco com 5% de desconto\n",
    "\n",
    "# Imprimindo o Resultado\n",
    "print(f\"O Produto que custava {preco} R$ com 5% de desconto custara apenas {novo_preco} R$\")"
   ]
  },
  {
   "cell_type": "markdown",
   "metadata": {},
   "source": [
    "#### Comentario 12 Calculando Descontos\n",
    "    No código acima, primeiro é feita a leitura do preço do produto em uma variável . Em seguida, o novo preço é calculado multiplicando-se o preço original por 0.95, que é o mesmo que subtrair 5% do valor original. O resultado é armazenado na variável , e exibido na tela utilizando a função . Note que foi utilizado o formato dentro da função , que formata o número com duas casas decimais.preconovo_precoprint()'{:.2f}'format()"
   ]
  },
  {
   "cell_type": "code",
   "execution_count": null,
   "metadata": {},
   "outputs": [],
   "source": []
  },
  {
   "cell_type": "markdown",
   "metadata": {},
   "source": [
    "## 13 – Reajuste Salarial\n",
    "Faça um algoritmo que leia o salário de um funcionário e mostre seu novo salário, com 15% de aumento."
   ]
  },
  {
   "cell_type": "code",
   "execution_count": 17,
   "metadata": {},
   "outputs": [
    {
     "name": "stdout",
     "output_type": "stream",
     "text": [
      "Digite o Salario do Funcionario: 2500\n",
      "O Novo salario do Funcionario com 15% de aumento sera de 2875.0 R$\n"
     ]
    }
   ],
   "source": [
    "# Lendo o valor do salario\n",
    "salario = float(input(\"Digite o Salario do Funcionario: \"))\n",
    "novo_salario = salario * 1.15\n",
    "\n",
    "# Imprimindo o Resultado\n",
    "print(f\"O Novo salario do Funcionario com 15% de aumento sera de {novo_salario} R$\")"
   ]
  },
  {
   "cell_type": "markdown",
   "metadata": {},
   "source": [
    "#### Comentario 13 Reajuste Salarial\n",
    "    No código acima, primeiro é feita a leitura do salário do funcionário em uma variável . Em seguida, o novo salário é calculado multiplicando-se o salário original por 1.15, que é o mesmo que aumentar o valor original em 15%. O resultado é armazenado na variável , e exibido na tela utilizando a função . Note que foi utilizado o formato dentro da função , que formata o número com duas casas decimais.salarionovo_salarioprint()'{:.2f}'format()"
   ]
  },
  {
   "cell_type": "code",
   "execution_count": null,
   "metadata": {},
   "outputs": [],
   "source": []
  },
  {
   "cell_type": "markdown",
   "metadata": {},
   "source": [
    "## 14 – Conversor de Temperaturas\n",
    "Escreva um programa que converta uma temperatura digitando em graus Celsius e converta para graus Fahrenheit."
   ]
  },
  {
   "cell_type": "code",
   "execution_count": 18,
   "metadata": {},
   "outputs": [
    {
     "name": "stdout",
     "output_type": "stream",
     "text": [
      "Digite a Temperatura em Graus Celsius: 34\n",
      "34.00 Graus Celsius equivalem a 93.20 Graus Fharenheit\n"
     ]
    }
   ],
   "source": [
    "# Introduzindo os dados\n",
    "celsius = float(input(\"Digite a Temperatura em Graus Celsius: \"))\n",
    "fharenheit = (celsius * 1.8) + 32\n",
    "\n",
    "# Imprimento o Resultado\n",
    "print(f\"{celsius:.2f} Graus Celsius equivalem a {fharenheit:.2f} Graus Fharenheit\")"
   ]
  },
  {
   "cell_type": "markdown",
   "metadata": {},
   "source": [
    "#### Comentario 14 Conversor de Temperaturas\n",
    "    No código acima, primeiro é feita a leitura da temperatura em graus Celsius, utilizando a função para ler um número em ponto flutuante digitado pelo usuário.float(input())\n",
    "\n",
    "    Em seguida, é feito o cálculo para converter a temperatura em graus Celsius para Fahrenheit, utilizando a fórmula:\n",
    "        F = (c * 1.8) + 32\n",
    "\n",
    "        O resultado é armazenado na variável .fahrenheit\n",
    "\n",
    "    Por fim, é exibida uma mensagem na tela com o resultado da conversão, utilizando a função e a função para formatar a saída com duas casas decimais.print()format()"
   ]
  },
  {
   "cell_type": "code",
   "execution_count": null,
   "metadata": {},
   "outputs": [],
   "source": []
  },
  {
   "cell_type": "markdown",
   "metadata": {},
   "source": [
    "## 15 – Aluguel de Carros\n",
    "Escreva um programa que pergunte a quantidade de Km percorridos por um carro alugado e a quantidade de dias pelos quais ele foi alugado. Calcule o preço a pagar, sabendo que o carro custa R$60 por dia e R$0,15 por Km rodado."
   ]
  },
  {
   "cell_type": "code",
   "execution_count": 19,
   "metadata": {},
   "outputs": [
    {
     "name": "stdout",
     "output_type": "stream",
     "text": [
      "Quantos km foram percorridos: 450\n",
      "Por quantos dias ficou alugado: 5\n",
      "O Preço total a paga e de R$ 367.5\n"
     ]
    }
   ],
   "source": [
    "# Inserção dos dados\n",
    "km_percorrido = float(input(\"Quantos km foram percorridos: \"))\n",
    "dias_alugado = int(input(\"Por quantos dias ficou alugado: \"))\n",
    "\n",
    "# Calculando o custo total\n",
    "custo_total = (km_percorrido * 0.15) + (dias_alugado * 60)\n",
    "\n",
    "# Imprimento o Resultado\n",
    "print(f\"O Preço total a paga e de R$ {custo_total}\")"
   ]
  },
  {
   "cell_type": "markdown",
   "metadata": {},
   "source": [
    "#### Comentario 15 Aluguel de Carros\n",
    "    Primeiro, pedimos ao usuário para digitar a quantidade de Km percorridos e a quantidade de dias de aluguel do carro.\n",
    "    Depois, armazenamos esses valores nas variáveis e , respectivamente.km_percorridosdias_aluguel\n",
    "    Calculamos o preço total a pagar, somando o valor dos dias de aluguel (R$60 por dia) com o valor dos Km percorridos (R$0,15 por Km).\n",
    "    Por fim, exibimos na tela o preço total a pagar."
   ]
  },
  {
   "cell_type": "code",
   "execution_count": null,
   "metadata": {},
   "outputs": [],
   "source": []
  }
 ],
 "metadata": {
  "kernelspec": {
   "display_name": "Python 3 (ipykernel)",
   "language": "python",
   "name": "python3"
  },
  "language_info": {
   "codemirror_mode": {
    "name": "ipython",
    "version": 3
   },
   "file_extension": ".py",
   "mimetype": "text/x-python",
   "name": "python",
   "nbconvert_exporter": "python",
   "pygments_lexer": "ipython3",
   "version": "3.10.9"
  }
 },
 "nbformat": 4,
 "nbformat_minor": 2
}

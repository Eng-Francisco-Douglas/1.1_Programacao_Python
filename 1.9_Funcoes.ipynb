{
 "cells": [
  {
   "attachments": {},
   "cell_type": "markdown",
   "id": "c3d29f00",
   "metadata": {},
   "source": [
    "# Funções em Python\n",
    "Funções em Python são blocos de código que realizam uma tarefa específica e podem ser reutilizados em diferentes partes do programa. As funções são definidas usando a palavra-chave def seguida pelo nome da função e pelos parâmetros entre parênteses. O código da função é indentado e vem após os dois pontos.\n",
    "\n",
    "Aqui está um exemplo de uma função simples em Python que recebe dois números como parâmetros e retorna a soma deles:"
   ]
  },
  {
   "cell_type": "code",
   "execution_count": 1,
   "id": "6fbcc373",
   "metadata": {},
   "outputs": [],
   "source": [
    "def soma(x, y):\n",
    "    resultado = x + y\n",
    "    return resultado"
   ]
  },
  {
   "attachments": {},
   "cell_type": "markdown",
   "id": "27025bb3",
   "metadata": {},
   "source": [
    "Neste exemplo, a função soma é definida com dois parâmetros: x e y. O código da função calcula a soma desses dois números e armazena o resultado na variável resultado. A palavra-chave return é usada para retornar o valor da variável resultado para o código que chamou a função.\n",
    "\n",
    "Para chamar uma função em Python, basta usar o nome da função seguido pelos argumentos entre parênteses. Por exemplo, para chamar a função soma definida acima e passar os números 3 e 4 como argumentos, você pode usar o seguinte código:"
   ]
  },
  {
   "cell_type": "code",
   "execution_count": 2,
   "id": "0f6fbef0",
   "metadata": {},
   "outputs": [],
   "source": [
    "resultado = soma(3, 4)"
   ]
  },
  {
   "attachments": {},
   "cell_type": "markdown",
   "id": "e16e37b1",
   "metadata": {},
   "source": [
    "Neste exemplo, a função soma é chamada com os argumentos 3 e 4. O valor retornado pela função (que é a soma desses dois números) é atribuído à variável resultado.\n",
    "\n",
    "As funções são uma parte importante da programação em Python (e em outras linguagens de programação) porque permitem que você organize seu código em blocos reutilizáveis e fáceis de entender. Elas também ajudam a evitar a repetição de código e tornam seu programa mais fácil de manter e modificar.\n",
    "\n",
    "Espero que isso ajude! Você tem alguma outra pergunta?"
   ]
  },
  {
   "cell_type": "code",
   "execution_count": null,
   "id": "f8a9bd7d",
   "metadata": {},
   "outputs": [],
   "source": []
  },
  {
   "attachments": {},
   "cell_type": "markdown",
   "id": "8f5ac099",
   "metadata": {},
   "source": [
    "## 1 – Função que calcula área\n",
    "Faça um programa que tenha uma função chamada área(), que receba as dimensões de um terreno retangular (largura e comprimento) e mostre a área do terreno."
   ]
  },
  {
   "cell_type": "code",
   "execution_count": 4,
   "id": "0328ae03",
   "metadata": {},
   "outputs": [
    {
     "name": "stdout",
     "output_type": "stream",
     "text": [
      "Digite a largura do terreno (em metros): 45.6\n",
      "Digite o comprimento do terreno (em metros): 78.8\n",
      "A Area do terreno e de 3593.28 metros quadrados.\n"
     ]
    }
   ],
   "source": [
    "# Criando a Função\n",
    "def area(largura, comprimento):\n",
    "    '''Calcula a area de um terreno retangular'''\n",
    "    return largura * comprimento\n",
    "\n",
    "# Le as dimensoes do terreno\n",
    "largura = float(input(\"Digite a largura do terreno (em metros): \"))\n",
    "comprimento = float(input(\"Digite o comprimento do terreno (em metros): \"))\n",
    "\n",
    "# Calcula a area do terreno\n",
    "a = area(largura, comprimento)\n",
    "\n",
    "# Mostra o resultado\n",
    "print(f\"A Area do terreno e de {a:.2f} metros quadrados.\")"
   ]
  },
  {
   "attachments": {},
   "cell_type": "markdown",
   "id": "87144c11",
   "metadata": {},
   "source": [
    "#### Explicando o codigo 1 Função que calcula area\n",
    "    Neste código, definimos uma função chamada area que recebe dois parâmetros: largura e comprimento. A função calcula a área do terreno multiplicando a largura pelo comprimento e retorna o resultado usando a palavra-chave return.\n",
    "\n",
    "    Depois de definir a função, o código lê as dimensões do terreno usando a função input e convertendo os valores para float. Em seguida, chama a função area passando esses valores como argumentos e armazena o resultado na variável a. Por fim, o código mostra o resultado na tela usando a função print."
   ]
  },
  {
   "cell_type": "code",
   "execution_count": null,
   "id": "40cdb8b7",
   "metadata": {},
   "outputs": [],
   "source": []
  },
  {
   "attachments": {},
   "cell_type": "markdown",
   "id": "2d14abdf",
   "metadata": {},
   "source": [
    "## 2 – Um print especial\n",
    "Faça um programa que tenha uma função chamada escreva(), que receba um texto qualquer como parâmetro e mostre uma mensagem com tamanho adaptável.                                  Ex:\n",
    "escreva(‘Olá, Mundo!’) Saída:\n",
    "\n",
    "\n",
    "        ~~~~~~~~~\n",
    "        Olá, Mundo!\n",
    "        ~~~~~~~~~~"
   ]
  },
  {
   "cell_type": "code",
   "execution_count": 3,
   "id": "1adae5d0",
   "metadata": {},
   "outputs": [
    {
     "name": "stdout",
     "output_type": "stream",
     "text": [
      "~~~~~~~~~~~~~~~\n",
      "  Olá, Mundo!\n",
      "~~~~~~~~~~~~~~~\n"
     ]
    }
   ],
   "source": [
    "def escreva(texto):\n",
    "    # Calcula o tamanho da linha com base no tamanho do texto\n",
    "    tamanho = len(texto) + 4\n",
    "    # Imprime a linha superior\n",
    "    print('~' * tamanho)\n",
    "    # Imprime o texto centralizado\n",
    "    print(f'  {texto}')\n",
    "    # Imprime a linha inferior\n",
    "    print('~' * tamanho)\n",
    "\n",
    "# Chama a função escreva com o texto 'Olá, Mundo!'\n",
    "escreva('Olá, Mundo!')"
   ]
  },
  {
   "attachments": {},
   "cell_type": "markdown",
   "id": "6c151884",
   "metadata": {},
   "source": [
    "#### Explicando o codigo 2\n",
    "    Esse programa define uma função chamada escreva que recebe um parâmetro texto. Dentro da função, primeiro calculamos o tamanho da linha com base no tamanho do texto. Em seguida, imprimimos a linha superior usando o caractere ~ repetido pelo tamanho calculado. Depois, imprimimos o texto centralizado usando uma f-string. Por fim, imprimimos a linha inferior usando o mesmo método da linha superior."
   ]
  },
  {
   "cell_type": "code",
   "execution_count": null,
   "id": "a1f52f7f",
   "metadata": {},
   "outputs": [],
   "source": []
  },
  {
   "attachments": {},
   "cell_type": "markdown",
   "id": "8550d1f0",
   "metadata": {},
   "source": [
    "## 3 – Função que calcula área\n",
    "Faça um programa que tenha uma função chamada área(), que receba as dimensões de um terreno retangular (largura e comprimento) e mostre a área do terreno."
   ]
  },
  {
   "cell_type": "code",
   "execution_count": 4,
   "id": "91b8e80e",
   "metadata": {},
   "outputs": [
    {
     "name": "stdout",
     "output_type": "stream",
     "text": [
      "Digite a largura do terreno (em metros): 45.6\n",
      "Digite o comprimento do terreno (em metros): 10\n",
      "A Area do terreno e de 456.00 metros quadrados.\n"
     ]
    }
   ],
   "source": [
    "# Criando a Função\n",
    "def area(largura, comprimento):\n",
    "    '''Calcula a area de um terreno retangular'''\n",
    "    return largura * comprimento\n",
    "\n",
    "# Le as dimensoes do terreno\n",
    "largura = float(input(\"Digite a largura do terreno (em metros): \"))\n",
    "comprimento = float(input(\"Digite o comprimento do terreno (em metros): \"))\n",
    "\n",
    "# Calcula a area do terreno\n",
    "a = area(largura, comprimento)\n",
    "\n",
    "# Mostra o resultado\n",
    "print(f\"A Area do terreno e de {a:.2f} metros quadrados.\")"
   ]
  },
  {
   "attachments": {},
   "cell_type": "markdown",
   "id": "6bba4e2d",
   "metadata": {},
   "source": [
    "#### Explicando o codigo 3 Função que calcula area\n",
    "    Neste código, definimos uma função chamada area que recebe dois parâmetros: largura e comprimento. A função calcula a área do terreno multiplicando a largura pelo comprimento e retorna o resultado usando a palavra-chave return.\n",
    "\n",
    "    Depois de definir a função, o código lê as dimensões do terreno usando a função input e convertendo os valores para float. Em seguida, chama a função area passando esses valores como argumentos e armazena o resultado na variável a. Por fim, o código mostra o resultado na tela usando a função print."
   ]
  },
  {
   "cell_type": "code",
   "execution_count": null,
   "id": "fed01341",
   "metadata": {},
   "outputs": [],
   "source": []
  },
  {
   "attachments": {},
   "cell_type": "markdown",
   "id": "22886ed0",
   "metadata": {},
   "source": [
    "## 4 – Um print especial\n",
    "Faça um programa que tenha uma função chamada escreva(), que receba um texto qualquer como parâmetro e mostre uma mensagem com tamanho adaptável.\n",
    "Ex:\n",
    "    escreva(‘Olá, Mundo!’) Saída:\n",
    "    ~~~~~~~~~\n",
    "    Olá, Mundo!\n",
    "    ~~~~~~~~~"
   ]
  },
  {
   "cell_type": "code",
   "execution_count": 1,
   "id": "a6f3eb61",
   "metadata": {
    "ExecuteTime": {
     "end_time": "2023-05-06T05:39:07.324149Z",
     "start_time": "2023-05-06T05:39:00.189197Z"
    }
   },
   "outputs": [
    {
     "name": "stdout",
     "output_type": "stream",
     "text": [
      "~~~~~~~~~~~~~~~~~~~~~\n",
      "  Francisco Douglas\n",
      "~~~~~~~~~~~~~~~~~~~~~\n"
     ]
    }
   ],
   "source": [
    "# Programa\n",
    "def escreva(texto):\n",
    "    # Calcula o tamanho da linha com base no tamanho do texto\n",
    "    tamanho = len(texto) + 4\n",
    "    # Imprime a linha superior\n",
    "    print(\"~\" * tamanho)\n",
    "    # Imprime o texto centralizado\n",
    "    print(f\"  {texto}\")\n",
    "    # Imprime a linha inferior\n",
    "    print(\"~\" * tamanho)\n",
    "\n",
    "\n",
    "# Chama a função escreva com o texto\n",
    "palavra = str(input(\"Digite uma palavra: \"))\n",
    "escreva(palavra)"
   ]
  },
  {
   "attachments": {},
   "cell_type": "markdown",
   "id": "8c851bb0",
   "metadata": {},
   "source": [
    "#### Explicando o codigo 4\n",
    "    Esse programa define uma função chamada escreva que recebe um parâmetro texto. Dentro da função, primeiro calculamos o tamanho da linha com base no tamanho do texto. Em seguida, imprimimos a linha superior usando o caractere ~ repetido pelo tamanho calculado. Depois, imprimimos o texto centralizado usando uma f-string. Por fim, imprimimos a linha inferior usando o mesmo método da linha superior."
   ]
  },
  {
   "cell_type": "code",
   "execution_count": null,
   "id": "67957745",
   "metadata": {},
   "outputs": [],
   "source": []
  },
  {
   "attachments": {},
   "cell_type": "markdown",
   "id": "b7997e97",
   "metadata": {},
   "source": [
    "## 5 – Função de Contador\n",
    "Faça um programa que tenha uma função chamada contador(), que receba três parâmetros: início, fim e passo. Seu programa tem que realizar três contagens através da função criada:\n",
    "a) de 1 até 10, de 1 em 1\n",
    "b) de 10 até 0, de 2 em 2\n",
    "c) uma contagem personalizada"
   ]
  },
  {
   "cell_type": "code",
   "execution_count": 6,
   "id": "5c333bd4",
   "metadata": {
    "ExecuteTime": {
     "end_time": "2023-05-06T05:52:16.841777Z",
     "start_time": "2023-05-06T05:52:13.698442Z"
    }
   },
   "outputs": [
    {
     "name": "stdout",
     "output_type": "stream",
     "text": [
      "a) Contagem de 1 até 10 de 1 em 1\n",
      "1 2 3 4 5 6 7 8 9 10 \n",
      "b) Contagem de 10 até 0 de 2 em 2\n",
      "10 8 6 4 2 0 \n",
      "c) Contagem personalizada\n",
      "2 4 6 8 10 12 14 16 18 20 22 24 26 28 30 32 34 \n"
     ]
    }
   ],
   "source": [
    "# Programa\n",
    "def contador(inicio, fim, passo):\n",
    "    # Verifica se o passo é igual a zero e o define como um se for o caso\n",
    "    if passo == 0:\n",
    "        passo = 1\n",
    "    # Verifica se o passo é negativo e o torna positivo se for o caso\n",
    "    if passo < 0:\n",
    "        passo *= -1\n",
    "    # Verifica se o início é menor que o fim\n",
    "    if inicio < fim:\n",
    "        # Usa um loop for com a função range para imprimir os números do intervalo com o passo especificado\n",
    "        for i in range(inicio, fim + 1, passo):\n",
    "            print(i, end=' ')\n",
    "    else:\n",
    "        # Usa um loop for com a função range para imprimir os números do intervalo em ordem decrescente com o passo especificado\n",
    "        for i in range(inicio, fim - 1, -passo):\n",
    "            print(i, end=' ')\n",
    "    # Imprime uma linha em branco para separar as contagens\n",
    "    print()\n",
    "\n",
    "# Realiza a primeira contagem de 1 até 10 de 1 em 1\n",
    "print('a) Contagem de 1 até 10 de 1 em 1')\n",
    "contador(1, 10, 1)\n",
    "\n",
    "# Realiza a segunda contagem de 10 até 0 de 2 em 2\n",
    "print('b) Contagem de 10 até 0 de 2 em 2')\n",
    "contador(10, 0, 2)\n",
    "\n",
    "# Realiza a terceira contagem personalizada\n",
    "print('c) Contagem personalizada')\n",
    "i = int(input('Início: '))\n",
    "f = int(input('Fim: '))\n",
    "p = int(input('Passo: '))\n",
    "contador(i, f, p)"
   ]
  },
  {
   "attachments": {},
   "cell_type": "markdown",
   "id": "229f5075",
   "metadata": {},
   "source": [
    "#### Explicando o codigo 5 Função de contador\n",
    "    Esse programa define uma função chamada contador que recebe três parâmetros: inicio, fim e passo. Dentro da função, primeiro verificamos se o passo é igual a zero e o definimos como um se for o caso. Em seguida, verificamos se o passo é negativo e o tornamos positivo se for o caso. Depois disso, verificamos se o inicio é menor que o fim e usamos um loop for com a função range para imprimir os números do intervalo com o passo especificado. Caso contrário (se o inicio for maior que o fim), usamos um loop for com a função range para imprimir os números do intervalo em ordem decrescente com o passo especificado. Por fim, imprimimos uma linha em branco para separar as contagens.\n",
    "\n",
    "    Depois de definir a função contador, chamamos ela três vezes com os parâmetros especificados para realizar as três contagens solicitadas. A primeira contagem é de 1 até 10 de 1 em 1. A segunda contagem é de 10 até 0 de 2 em 2. A terceira contagem é personalizada e pede ao usuário para inserir os valores de início, fim e passo."
   ]
  },
  {
   "cell_type": "code",
   "execution_count": null,
   "id": "cb53c039",
   "metadata": {},
   "outputs": [],
   "source": []
  },
  {
   "attachments": {},
   "cell_type": "markdown",
   "id": "dbec85f1",
   "metadata": {},
   "source": [
    "## 6 – Função que descobre o maior\n",
    "Faça um programa que tenha uma função chamada maior(), que receba vários parâmetros com valores inteiros. Seu programa tem que analisar todos os valores e dizer qual deles é o maior."
   ]
  },
  {
   "cell_type": "code",
   "execution_count": 15,
   "id": "640f7353",
   "metadata": {
    "ExecuteTime": {
     "end_time": "2023-05-06T06:11:29.449301Z",
     "start_time": "2023-05-06T06:11:26.430965Z"
    }
   },
   "outputs": [
    {
     "name": "stdout",
     "output_type": "stream",
     "text": [
      "O Maior valor informado foi 7\n",
      "O Maior valor informado foi 9\n",
      "O Maior valor informado foi (2, 3, 7, 4, 8)\n",
      "O Maior valor informado foi (3, 5, 1, 2)\n"
     ]
    }
   ],
   "source": [
    "def maior(*numeros):\n",
    "    # Verifica se nenhum valor foi informado\n",
    "    if len(numeros) == 0:\n",
    "        print(\"Não foram informados valores.\")\n",
    "        return\n",
    "    # Define o primeiro valor como o maior valor inicial\n",
    "    maior_valor = numeros[0]\n",
    "    # Percorre todos os valores informados\n",
    "    for numero in numeros:\n",
    "        # Atualiza o maior valor se encontra um valor maior\n",
    "        if numero > maior_valor:\n",
    "            maior_valor = numero\n",
    "    # Imprime o maior valor encontrado\n",
    "    print(f\"O Maior valor informado foi {maior_valor}\")\n",
    "\n",
    "# Chama a função maior com diferentes conjuntos de valores para demonstrar seu funcionamento\n",
    "maior(1, 2, 3, 4, 5, 6, 7)\n",
    "maior(5, 8, 2, 4, 9)\n",
    "\n",
    "# Gerando numero aleatorio\n",
    "from random import sample\n",
    "#numeros = tuple(sample(range(1, 10), 5))\n",
    "valores = tuple(int(input(f\"Digite o {i + 1} valor: \")) for i in range(4))\n",
    "numeros = tuple(sample(range(1, 10), 5))\n",
    "maior(numeros)\n",
    "maior(valores)"
   ]
  },
  {
   "attachments": {},
   "cell_type": "markdown",
   "id": "37ab2ea8",
   "metadata": {},
   "source": [
    "#### Explicando o codigo 6 Função que descobre o maior\n",
    "    Esse programa define uma função chamada maior que recebe vários parâmetros com valores inteiros usando a sintaxe *numeros. Dentro da função, primeiro verificamos se nenhum valor foi informado e imprimimos uma mensagem se for o caso. Em seguida, definimos o primeiro valor como o maior valor inicial. Depois disso, usamos um loop for para percorrer todos os valores informados e atualizamos o maior valor se encontrarmos um valor maior. Por fim, imprimimos o maior valor encontrado.\n",
    "\n",
    "    Depois de definir a função maior, chamamos ela três vezes com diferentes conjuntos de valores para demonstrar seu funcionamento. A primeira chamada passa os valores 1, 2, 3, 4 e 5 e deve imprimir que o maior valor é 5. A segunda chamada passa os valores 5, 4, 3, 2 e 1 e também deve imprimir que o maior valor é 5. A terceira chamada não passa nenhum valor e deve imprimir que nenhum valor foi informado."
   ]
  },
  {
   "cell_type": "code",
   "execution_count": null,
   "id": "85f2d5c6",
   "metadata": {},
   "outputs": [],
   "source": []
  },
  {
   "attachments": {},
   "cell_type": "markdown",
   "id": "f1ab4b8e",
   "metadata": {},
   "source": [
    "## 7 – Funções para sortear e somar\n",
    "Faça um programa que tenha uma lista chamada números e duas funções chamadas sorteia() e somaPar(). A primeira função vai sortear 5 números e vai colocá-los dentro da lista e a segunda função vai mostrar a soma entre todos os valores pares sorteados pela função anterior."
   ]
  },
  {
   "cell_type": "code",
   "execution_count": 7,
   "id": "9e27f631",
   "metadata": {},
   "outputs": [
    {
     "name": "stdout",
     "output_type": "stream",
     "text": [
      "Numeros Sorteados: [6, 8, 7, 5, 9]\n",
      "A Soma dos valores pares e 14\n"
     ]
    }
   ],
   "source": [
    "from random import randint\n",
    "\n",
    "# Define uma lista chamada numeros\n",
    "numeros = []\n",
    "\n",
    "# Define a função sorteia\n",
    "def sorteia():\n",
    "    # Usa um loop for para sortear 5 numeros\n",
    "    for i in range(5):\n",
    "        # Sorteia um numero aleatorio entre 1 e 10 e adiciona ele a lista numeros\n",
    "        numeros.append(randint(1, 10))\n",
    "        \n",
    "# Define a função somaPar\n",
    "def somaPar():\n",
    "    # Define uma variavel soma inicialmente igual a zero\n",
    "    soma = 0\n",
    "    # Usa um loop for para percorrer todos os numeros da lista numeros\n",
    "    for numero in numeros:\n",
    "        # Verifica se o numero e par usadno o operador %\n",
    "        if numero % 2 == 0:\n",
    "            # Adiciona o numero a variavel soma\n",
    "            soma += numero\n",
    "    \n",
    "    # Imprime a soma dos valores pares\n",
    "    print(f\"A Soma dos valores pares e {soma}\")\n",
    "    \n",
    "# Chama a função sorteia para sortear os numeros e adiciona_los a lista numeros\n",
    "sorteia()\n",
    "\n",
    "# Imprime os numeros sorteados\n",
    "print(f\"Numeros Sorteados: {numeros}\")\n",
    "# Chama a função somaPar para calcular e imprimir a soma dos valores pares\n",
    "somaPar()"
   ]
  },
  {
   "attachments": {},
   "cell_type": "markdown",
   "id": "bd748e1c",
   "metadata": {},
   "source": [
    "#### Explicando o codigo 7 Funções para sortear e somar\n",
    "    Esse programa define uma lista chamada numeros e duas funções chamadas sorteia e somaPar. A função sorteia usa um loop for e a função randint do módulo random para sortear 5 números aleatórios entre 1 e 10 e adicioná-los à lista numeros. A função somaPar define uma variável soma inicialmente igual a zero e usa um loop for para percorrer todos os números da lista numeros. Dentro do loop, verificamos se o número é par usando o operador % e, se for o caso, adicionamos ele à variável soma. Por fim, imprimimos a soma dos valores pares.\n",
    "\n",
    "    Depois de definir as funções sorteia e somaPar, chamamos a função sorteia para sortear os números e adicioná-los à lista numeros. Em seguida, imprimimos os números sorteados. Por fim, chamamos a função somaPar para calcular e imprimir a soma dos valores pares."
   ]
  },
  {
   "attachments": {},
   "cell_type": "markdown",
   "id": "32b0e598",
   "metadata": {},
   "source": [
    "## 8 – Funções para votação\n",
    "\n",
    "Crie um programa que tenha uma função chamada voto() que vai receber como parâmetro o ano de nascimento de uma pessoa, retornando um valor literal indicando se uma pessoa tem voto NEGADO, OPCIONAL e OBRIGATÓRIO nas eleições."
   ]
  },
  {
   "cell_type": "code",
   "execution_count": 10,
   "id": "d0a53f9a",
   "metadata": {},
   "outputs": [
    {
     "name": "stdout",
     "output_type": "stream",
     "text": [
      "Obrigatorio\n",
      "Obrigatorio\n",
      "Opcional\n"
     ]
    }
   ],
   "source": [
    "from datetime import date\n",
    "\n",
    "def voto(ano_nascimento):\n",
    "    # Calcula a idade da pessoa com base no ano atual e no ano de nascimento\n",
    "    idade = date.today().year - ano_nascimento\n",
    "    # Verifica se a idade e menor que 16 anos\n",
    "    if idade < 16:\n",
    "        # Retorna que o voto e negado\n",
    "        return 'Negado'\n",
    "    # Verifica se a idade esta entre 16 e 18 anos ou e maior ou igual a 70 anos\n",
    "    elif 16 <= idade < 18 or idade >= 70:\n",
    "        # Retorna que o voto e opcional\n",
    "        return 'Opcional'\n",
    "    else:\n",
    "        # Retorna que o voto e obrigatorio\n",
    "        return 'Obrigatorio'\n",
    "    \n",
    "# Testa a função voto com diferentes valores de ano de nascimento\n",
    "print(voto(2005))\n",
    "print(voto(2003))\n",
    "print(voto(1950))"
   ]
  },
  {
   "attachments": {},
   "cell_type": "markdown",
   "id": "fad4500e",
   "metadata": {},
   "source": [
    "#### Explicando o Codigo 8 Funcoes para votação\n",
    "    Esse programa define uma função chamada voto que recebe como parâmetro o ano de nascimento de uma pessoa. Dentro da função, primeiro calculamos a idade da pessoa com base no ano atual e no ano de nascimento usando a classe date do módulo datetime. Depois disso, usamos uma estrutura condicional if/elif/else para verificar se a idade da pessoa é menor que 16 anos, está entre 16 e 18 anos ou é maior ou igual a 70 anos. Se a idade for menor que 16 anos, retornamos que o voto é negado. Se a idade estiver entre 16 e 18 anos ou for maior ou igual a 70 anos, retornamos que o voto é opcional. Caso contrário (se a idade não se enquadrar em nenhum dos casos anteriores), retornamos que o voto é obrigatório.\n",
    "\n",
    "    Depois de definir a função voto, chamamos ela três vezes com diferentes valores de ano de nascimento para testar seu funcionamento. A primeira chamada passa o valor 2005 e deve retornar que o voto é negado. A segunda chamada passa o valor 2003 e deve retornar que o voto é opcional. A terceira chamada passa o valor 1950 e também deve retornar que o voto é opcional."
   ]
  },
  {
   "cell_type": "code",
   "execution_count": null,
   "id": "7f0c05a4",
   "metadata": {},
   "outputs": [],
   "source": []
  },
  {
   "attachments": {},
   "cell_type": "markdown",
   "id": "54cd5ace",
   "metadata": {},
   "source": [
    "## 9 – Função para Fatorial\n",
    "Crie um programa que tenha uma função fatorial() que receba dois parâmetros: o primeiro que indique o número a calcular e outro chamado show, que será um valor lógico (opcional) indicando se será mostrado ou não na tela o processo de cálculo do fatorial."
   ]
  },
  {
   "cell_type": "code",
   "execution_count": 2,
   "id": "034b9921",
   "metadata": {},
   "outputs": [
    {
     "name": "stdout",
     "output_type": "stream",
     "text": [
      "5 x 4 x 3 x 2 x 1 = 120\n",
      "10 x 9 x 8 x 7 x 6 x 5 x 4 x 3 x 2 x 1 = 3628800\n"
     ]
    }
   ],
   "source": [
    "def fatorial(n, show=False):\n",
    "    '''\n",
    "    -> Calcula o Fatorial de un numero.\n",
    "    :param n: O numero a ser calculado\n",
    "    :param show: (opcional) Mostra ou não a conta, Default = False.\n",
    "    :return: O Valor do Fatorial de um numero n.\n",
    "    '''\n",
    "\n",
    "    f = 1\n",
    "    for c in range(n, 0, -1):\n",
    "        if show:\n",
    "            print(c, end='')\n",
    "            if c > 1:\n",
    "                print(\" x \", end='')\n",
    "            else:\n",
    "                print(\" = \", end='')\n",
    "        f *= c\n",
    "    return f\n",
    "\n",
    "print(fatorial(5, True))\n",
    "print(fatorial(10, True))"
   ]
  },
  {
   "attachments": {},
   "cell_type": "markdown",
   "id": "04a93bf1",
   "metadata": {},
   "source": [
    "#### Comentario 9\n",
    "    Neste exemplo, a função fatorial() recebe dois parâmetros: n e show. O primeiro é o número a ser calculado e o segundo é um valor lógico (opcional) indicando se será mostrado ou não na tela o processo de cálculo do fatorial. O valor padrão para show é False.\n",
    "\n",
    "    A função usa um loop for para calcular o fatorial do número fornecido. Se show for verdadeiro, a função mostrará o processo de cálculo do fatorial na tela."
   ]
  },
  {
   "cell_type": "code",
   "execution_count": null,
   "id": "0760cc6e",
   "metadata": {},
   "outputs": [],
   "source": []
  },
  {
   "attachments": {},
   "cell_type": "markdown",
   "id": "0a98327a",
   "metadata": {},
   "source": [
    "## 10 – Ficha do Jogador\n",
    "Faça um programa que tenha uma função chamada ficha(), que receba dois parâmetros opcionais: o nome de um jogador e quantos gols ele marcou. O programa deverá ser capaz de mostrar a ficha do jogador, mesmo que algum dado não tenha sido informado corretamente."
   ]
  },
  {
   "cell_type": "code",
   "execution_count": 9,
   "id": "75057114",
   "metadata": {},
   "outputs": [
    {
     "name": "stdout",
     "output_type": "stream",
     "text": [
      "O Jogador Marcio fez 2 gol(s) no campeonato. \n"
     ]
    }
   ],
   "source": [
    "# Função\n",
    "def ficha(jog='<desconhecido', gol=0):\n",
    "    '''\n",
    "    -> Função que mostra a ficha de um jogador.\n",
    "    :param jog: Nome do Jogador\n",
    "    :param gol: Quantidade de gols marcados.\n",
    "    :return: Não tem retorno.\n",
    "    '''\n",
    "    print(f\"O Jogador {jog} fez {gol} gol(s) no campeonato. \")\n",
    "\n",
    "# Programa principal\n",
    "n = str(input(\"Nome do Jogador: \")).strip().title()\n",
    "g = str(input(f\"Numero de gols que o jogador {n} fez: \"))\n",
    "\n",
    "if g.isnumeric():\n",
    "    g = int(g)\n",
    "else:\n",
    "    g = 0\n",
    "\n",
    "if n == '':\n",
    "    ficha(gol=g)\n",
    "else:\n",
    "    ficha(n, g)\n"
   ]
  },
  {
   "attachments": {},
   "cell_type": "markdown",
   "id": "9451a7c4",
   "metadata": {},
   "source": [
    "#### Explicando 10 Ficha do Jogador\n",
    "    Neste exemplo, a função ficha() recebe dois parâmetros opcionais: jog e gol. O primeiro é o nome do jogador e o segundo é a quantidade de gols marcados. O valor padrão para jog é <desconhecido> e o valor padrão para gol é 0.\n",
    "\n",
    "    O programa principal pede ao usuário o nome do jogador e o número de gols marcados. Se o usuário não fornecer um nome, a função ficha() será chamada com apenas o parâmetro gol. Se o usuário fornecer um nome e um número de gols marcados, a função ficha() será chamada com ambos os parâmetros."
   ]
  },
  {
   "cell_type": "code",
   "execution_count": null,
   "id": "cd062c4e",
   "metadata": {},
   "outputs": [],
   "source": []
  },
  {
   "attachments": {},
   "cell_type": "markdown",
   "id": "25172c3f",
   "metadata": {},
   "source": [
    "## 11 – Validando entrada de dados em Python\n",
    "Crie um programa que tenha a função leiaInt(), que vai funcionar de forma semelhante ‘a função input() do Python, só que fazendo a validação para aceitar apenas um valor numérico. Ex: n = leiaInt(‘Digite um n: ‘)"
   ]
  },
  {
   "cell_type": "code",
   "execution_count": 11,
   "id": "cf75f2d5",
   "metadata": {},
   "outputs": [
    {
     "name": "stdout",
     "output_type": "stream",
     "text": [
      "\u001b[31mUsuario Preferiu não digitar esse numero. \u001b[m\n",
      "\u001b[31mUsuario Preferiu não digitar esse numero. \u001b[m\n",
      "Voce acabou de digita o numero 4\n"
     ]
    }
   ],
   "source": [
    "def leiaInt(msg):\n",
    "    '''\n",
    "    -> Função que le um numero inteiro.\n",
    "    :param msg: Mensagem a ser exibida\n",
    "    :return: O valor inteiro digitado.\n",
    "    '''\n",
    "\n",
    "    while True:\n",
    "        try:\n",
    "            n = int(input(msg))\n",
    "        except(ValueError, TypeError):\n",
    "            print(\"\\33[31mUsuario Preferiu não digitar esse numero. \\33[m\")\n",
    "            continue\n",
    "        except (KeyboardInterrupt):\n",
    "            print('\\33[31mUsuario Preferiu não digitar esse numero.\\33[m')\n",
    "            return 0\n",
    "        else:\n",
    "            return n\n",
    "        \n",
    "# Programa principal\n",
    "n = leiaInt('Digite um numero: ')\n",
    "print(f\"Voce acabou de digita o numero {n}\")"
   ]
  },
  {
   "attachments": {},
   "cell_type": "markdown",
   "id": "0577179f",
   "metadata": {},
   "source": [
    "#### Comentario 11\n",
    "    Neste exemplo, a função leiaInt() recebe uma mensagem como parâmetro e retorna um valor inteiro. O programa principal pede ao usuário para digitar um número e chama a função leiaInt() para validar a entrada do usuário."
   ]
  },
  {
   "cell_type": "code",
   "execution_count": null,
   "id": "26aa7c54",
   "metadata": {},
   "outputs": [],
   "source": []
  },
  {
   "attachments": {},
   "cell_type": "markdown",
   "id": "6f22a38e",
   "metadata": {},
   "source": [
    "## 12 – Analisando e gerando Dicionários\n",
    "Faça um programa que tenha uma função notas() que pode receber várias notas de alunos e vai retornar um dicionário com as seguintes informações:\n",
    "\n",
    "    – Quantidade de notas \n",
    "    – A maior nota\n",
    "    – A menor nota\n",
    "    – A média da turma\n",
    "    – A situação\n"
   ]
  },
  {
   "cell_type": "code",
   "execution_count": 22,
   "metadata": {},
   "outputs": [
    {
     "data": {
      "text/plain": [
       "{'Quantidade de notas': 2,\n",
       " 'Maior nota': 10,\n",
       " 'Menor nota': 6,\n",
       " 'Media da turma': 8.0,\n",
       " 'Situacao': 'Aprovado'}"
      ]
     },
     "execution_count": 22,
     "metadata": {},
     "output_type": "execute_result"
    }
   ],
   "source": [
    "def notas(*notas_alunos):\n",
    "    '''\n",
    "    Esta função recebe várias notas de alunos e retorna um dicionário com informações sobre as notas.\n",
    "    '''\n",
    "\n",
    "    resultado = {}\n",
    "\n",
    "    # Quantidade de notas\n",
    "    resultado['Quantidade de notas'] = len(notas_alunos)\n",
    "\n",
    "    # Maior nota\n",
    "    resultado['Maior nota'] = max(notas_alunos)\n",
    "\n",
    "    # Menor nota\n",
    "    resultado['Menor nota'] = min(notas_alunos)\n",
    "\n",
    "    # Media da Turma\n",
    "    resultado['Media da turma'] = sum(notas_alunos) / len(notas_alunos)\n",
    "\n",
    "    # Situacao\n",
    "    if resultado['Media da turma'] >= 7:\n",
    "        resultado['Situacao'] = 'Aprovado'\n",
    "    elif resultado['Media da turma'] >= 5:\n",
    "        resultado['Situacao'] = 'Recuperacao'\n",
    "    else:\n",
    "        resultado['Situacao'] = 'Reprovado'\n",
    "\n",
    "    return resultado\n",
    "\n",
    "notas(10, 6)"
   ]
  },
  {
   "attachments": {},
   "cell_type": "markdown",
   "id": "f619a33c",
   "metadata": {},
   "source": [
    "#### Explicando o codigo 12 Analisando e gerando dicionario\n",
    "    O programa define uma função notas que recebe um número variável de argumentos (notas dos alunos). Em seguida, cria um dicionário chamado resultado que armazenará as informações das notas.\n",
    "\n",
    "    A primeira informação que o programa calcula é a quantidade de notas, que é adicionada ao dicionário usando a chave 'Quantidade de notas' e o valor len(notas_alunos). A função len é usada para obter o comprimento da sequência notas_alunos.\n",
    "\n",
    "    A segunda informação que a função calcula é a maior nota, que é adicionada ao dicionário usando a chave 'Maior nota' e o valor max(notas_alunos). A função max é usada para obter o maior valor da sequência notas_alunos.\n",
    "\n",
    "    A terceira informação que a função calcula é a menor nota, que é adicionada ao dicionário usando a chave 'Menor nota' e o valor min(notas_alunos). A função min é usada para obter o menor valor da sequência notas_alunos.\n",
    "\n",
    "    A quarta informação que a função calcula é a média da turma, que é adicionada ao dicionário usando a chave 'Média da turma' e o valor sum(notas_alunos) / len(notas_alunos). A função sum é usada para obter a soma da sequência notas_alunos.\n",
    "\n",
    "    Finalmente, a função calcula a situação dos alunos com base na média da turma. Se a média for maior ou igual a 7, a situação é 'Aprovado', se for maior ou igual a 5 e menor que 7, a situação é 'Recuperação' e, caso contrário, a situação é 'Reprovado'. A situação é adicionada ao dicionário usando a chave 'Situação'.\n",
    "\n",
    "    Por fim, a função retorna o dicionário resultado."
   ]
  },
  {
   "cell_type": "code",
   "execution_count": null,
   "metadata": {},
   "outputs": [],
   "source": []
  },
  {
   "attachments": {},
   "cell_type": "markdown",
   "id": "ee2090af",
   "metadata": {},
   "source": [
    "## 13 – Interactive helping system in Python\n",
    "Faça um mini-sistema que utilize o Interactive Help do Python. O usuário vai digitar o comando e o manual vai aparecer. Quando o usuário digitar a palavra ‘FIM’, o programa se encerrará. Importante: use cores."
   ]
  },
  {
   "cell_type": "code",
   "execution_count": 35,
   "id": "56f7dcd8",
   "metadata": {},
   "outputs": [
    {
     "name": "stdout",
     "output_type": "stream",
     "text": [
      "Help on built-in function print in module builtins:\n",
      "\n",
      "print(...)\n",
      "    print(value, ..., sep=' ', end='\\n', file=sys.stdout, flush=False)\n",
      "    \n",
      "    Prints the values to a stream, or to sys.stdout by default.\n",
      "    Optional keyword arguments:\n",
      "    file:  a file-like object (stream); defaults to the current sys.stdout.\n",
      "    sep:   string inserted between values, default a space.\n",
      "    end:   string appended after the last value, default a newline.\n",
      "    flush: whether to forcibly flush the stream.\n",
      "\n",
      "\u001b[33mNone\u001b[m\n",
      "Encerrando o programa...\n"
     ]
    }
   ],
   "source": [
    "# Cria um loop infinito que solicita a entrada do usuario e imprie a documentação\n",
    "while True:\n",
    "    # Solicita a entrada do usuario\n",
    "    comando = input(\"Digite o comando ou 'Fim' para sair: \")\n",
    "\n",
    "    # Verifica se o usuario digitou 'Fim' para encerra o programa\n",
    "    if comando.upper() == 'FIM':\n",
    "        print('Encerrando o programa...')\n",
    "        break # Interropne o loop e encerra o programa\n",
    "\n",
    "    # Imprime a documentação do comando correspondente\n",
    "    print(f'\\33[33m{help(comando)}\\33[m')\n"
   ]
  },
  {
   "attachments": {},
   "cell_type": "markdown",
   "id": "7f3e4ac6",
   "metadata": {},
   "source": [
    "#### Explicando\n",
    "    Neste programa, o loop while True é usado para receber os comandos do usuário. O comando é lido usando a função input() do Python.\n",
    "\n",
    "    Se o comando for \"FIM\" (em letras maiúsculas ou minúsculas), o programa encerra o loop e imprime uma mensagem de encerramento em vermelho usando o código \"\\033[31m\".\n",
    "\n",
    "    Se o comando não for \"FIM\", o programa imprime uma mensagem em amarelo usando o código \"\\033[33m\", informando que está mostrando ajuda para o comando digitado. Em seguida, a função help() é chamada com o comando como argumento, mostrando a documentação do Python para aquele comando.\n",
    "\n",
    "    Por fim, o código \"\\033[m\" é usado para resetar a cor do texto, garantindo que o restante do texto do terminal seja impresso normalmente.\n",
    "\n",
    "    Com este programa, o usuário pode digitar comandos do Python e receber ajuda sobre como usá-los. A interface é colorida para tornar a interação mais agradável e intuitiva. Quando o usuário digita \"FIM\", o programa é encerrado."
   ]
  },
  {
   "cell_type": "code",
   "execution_count": null,
   "id": "bf23c175",
   "metadata": {},
   "outputs": [],
   "source": []
  }
 ],
 "metadata": {
  "kernelspec": {
   "display_name": "Python 3 (ipykernel)",
   "language": "python",
   "name": "python3"
  },
  "language_info": {
   "codemirror_mode": {
    "name": "ipython",
    "version": 3
   },
   "file_extension": ".py",
   "mimetype": "text/x-python",
   "name": "python",
   "nbconvert_exporter": "python",
   "pygments_lexer": "ipython3",
   "version": "3.10.9"
  }
 },
 "nbformat": 4,
 "nbformat_minor": 5
}

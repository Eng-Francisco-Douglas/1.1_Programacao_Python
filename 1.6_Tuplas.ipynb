{
 "cells": [
  {
   "attachments": {},
   "cell_type": "markdown",
   "metadata": {
    "collapsed": false
   },
   "source": [
    "# Tuplas\n",
    "Uma tupla é uma estrutura de dados em Python que permite armazenar um conjunto ordenado de valores de diferentes tipos. A principal diferença entre uma tupla e uma lista é que as tuplas são imutáveis, ou seja, após criadas, não é possível adicionar, remover ou alterar elementos.\n",
    "\n",
    "As tuplas são definidas utilizando parênteses () e os elementos são separados por vírgulas. Por exemplo, uma tupla com três elementos pode ser definida da seguinte forma:\n",
    "\n",
    "EX:\n",
    "**tupla_exemplo = (1, \"texto\", True)**\n",
    "\n",
    "Para acessar um elemento específico de uma tupla, é necessário utilizar seu índice, começando em zero. Por exemplo, para acessar o segundo elemento da tupla acima, podemos utilizar:\n",
    "\n",
    "**print(tupla_exemplo[1])  # imprime \"texto\"**\n",
    "\n",
    "As tuplas são úteis para armazenar um conjunto de valores relacionados, que não precisarão ser alterados posteriormente, ou para retornar múltiplos valores de uma função em Python.\n"
   ]
  },
  {
   "cell_type": "code",
   "execution_count": null,
   "metadata": {
    "collapsed": false
   },
   "outputs": [],
   "source": []
  },
  {
   "attachments": {},
   "cell_type": "markdown",
   "metadata": {
    "collapsed": false
   },
   "source": [
    "## 1 – Número por Extenso\n",
    "Crie um programa que tenha uma dupla totalmente preenchida com uma contagem por extenso, de zero até vinte. Seu programa deverá ler um número pelo teclado (entre 0 e 20) e mostrá-lo por extenso."
   ]
  },
  {
   "cell_type": "code",
   "execution_count": 1,
   "metadata": {
    "ExecuteTime": {
     "end_time": "2023-05-04T07:26:38.710706Z",
     "start_time": "2023-05-04T07:26:37.699626Z"
    },
    "collapsed": false
   },
   "outputs": [
    {
     "name": "stdout",
     "output_type": "stream",
     "text": [
      "O Numero 2 por extenso e: dois\n"
     ]
    }
   ],
   "source": [
    "# Criando tupla totanlemnte preenchida com contagem por extenso\n",
    "numeros_por_extenso = ('zero', 'um', 'dois', 'três', 'quatro', 'cinco', 'seis',\n",
    "                       'sete', 'oito', 'nove', 'dez', 'onze', 'doze', 'treze',\n",
    "                       'quatorze', 'quinze', 'dezesseis', 'dezessete', 'dezoito',\n",
    "                       'dezenove', 'vinte')\n",
    "\n",
    "# Solicita ao usuario que insira um numero entre 0 e 20\n",
    "numero = int(input(\"Digite um numero entre 0 e 20: \"))\n",
    "\n",
    "# Verifica se o numero esta dentro do intervalo correspondente\n",
    "if numero < 0 or numero > 20:\n",
    "    print(\"Numero invalido. Tente novamente\")\n",
    "else:\n",
    "    # Imprime o valor por extenso correspondente ao numero digitado\n",
    "    print(f\"O Numero {numero} por extenso e: {numeros_por_extenso[numero]}\")"
   ]
  },
  {
   "attachments": {},
   "cell_type": "markdown",
   "metadata": {
    "collapsed": false
   },
   "source": [
    "#### Explicando o Codigo 1 Numero por Extenso\n",
    "    A primeira linha do código cria uma tupla com os valores de zero a vinte por extenso. Em seguida, o programa solicita ao usuário que insira um número e armazena esse valor na variável . A terceira linha utiliza uma estrutura condicional \"if-else\" para verificar se o número inserido está dentro do intervalo permitido (0 a 20). Se o número estiver for a desse intervalo, o programa imprime uma mensagem de erro. Caso contrário, o programa utiliza o valor de como índice para acessar o valor por extenso correspondente na tupla e imprime essa informação na tela.numeros_por_extensonumeronumeronumeros_por_extenso\n",
    "\n",
    "    Por exemplo, se o usuário digitar o número 7, o programa irá imprimir \"O número 7 por extenso é sete\"."
   ]
  },
  {
   "cell_type": "code",
   "execution_count": null,
   "metadata": {
    "collapsed": false
   },
   "outputs": [],
   "source": []
  },
  {
   "attachments": {},
   "cell_type": "markdown",
   "metadata": {
    "collapsed": false
   },
   "source": [
    "## 2 – Tuplas com Times de Futebol\n",
    "Crie uma tupla preenchida com os 20 primeiros colocados da Tabela do Campeonato Brasileiro de Futebol, na ordem de colocação. Depois mostre:\n",
    "\n",
    "a) Os 5 primeiros times.\n",
    "\n",
    "b) Os últimos 4 colocados.\n",
    "\n",
    "c) Times em ordem alfabética.\n",
    "\n",
    "d) Em que posição está o time da Flamengo."
   ]
  },
  {
   "cell_type": "code",
   "execution_count": 4,
   "metadata": {
    "ExecuteTime": {
     "end_time": "2023-05-04T07:35:06.959307Z",
     "start_time": "2023-05-04T07:35:06.895682Z"
    },
    "collapsed": false
   },
   "outputs": [
    {
     "name": "stdout",
     "output_type": "stream",
     "text": [
      "Os 5 primeiros colocados são: ('Palmeiras', 'Atlético-MG', 'Fortaleza', 'Bragantino', 'Athletico-PR')\n",
      "Os ultimos 4 colocados são: ('Sport Recife', 'América-MG', 'Grêmio', 'Chapecoense')\n",
      "Times em Ordem alfabetica: ['América-MG', 'Athletico-PR', 'Atlético-GO', 'Atlético-MG', 'Bahia', 'Bragantino', 'Ceará', 'Chapecoense', 'Corinthians', 'Cuiabá', 'Flamengo', 'Fluminense', 'Fortaleza', 'Grêmio', 'Internacional', 'Juventude', 'Palmeiras', 'Santos', 'Sport Recife', 'São Paulo']\n",
      "O Flamengo esta na posição: 6\n"
     ]
    }
   ],
   "source": [
    "# Cria uma tupla com os 20 primeiros colocados no Campeonato brasileiro de Futebol\n",
    "brasileirao = ('Palmeiras', 'Atlético-MG', 'Fortaleza', 'Bragantino', 'Athletico-PR',\n",
    "               'Flamengo', 'Ceará', 'Santos', 'Atlético-GO', 'Bahia', 'Corinthians',\n",
    "               'Fluminense', 'Juventude', 'Internacional', 'Cuiabá', 'São Paulo',\n",
    "               'Sport Recife', 'América-MG', 'Grêmio', 'Chapecoense')\n",
    "\n",
    "# Exibe os 5 primeiros colocados\n",
    "print(f\"Os 5 primeiros colocados são: {brasileirao[:5]}\")\n",
    "\n",
    "# Exibe os ultimos 4 colocados\n",
    "print(f\"Os ultimos 4 colocados são: {brasileirao[-4:]}\")\n",
    "\n",
    "# Exibe os times em ordem alfabetica\n",
    "print(f\"Times em Ordem alfabetica: {sorted(brasileirao)}\")\n",
    "\n",
    "# Verifica em que posição esta o time do flamengo\n",
    "posicao_flamengo = brasileirao.index(\"Flamengo\")\n",
    "print(f\"O Flamengo esta na posição: {posicao_flamengo+1}\")"
   ]
  },
  {
   "attachments": {},
   "cell_type": "markdown",
   "metadata": {
    "collapsed": false
   },
   "source": [
    "#### Explicando o Codigo 2 Tuplas com times de futebol\n",
    "    A primeira linha cria a tupla com os 20 primeiros colocados da tabela do Campeonato Brasileiro de Futebol.brasileirao\n",
    "\n",
    "    A segunda linha utiliza a sintaxe de slicing para imprimir os cinco primeiros elementos da tupla.\n",
    "\n",
    "    A terceira linha utiliza novamente a sintaxe de slicing para imprimir os quatro últimos elementos da tupla.\n",
    "\n",
    "    A quarta linha utiliza a função para exibir a tupla ordenada em ordem alfabética.sorted\n",
    "\n",
    "    A quinta linha utiliza o método para buscar o índice do elemento \"Flamengo\" na tupla e adiciona 1 à posição (já que as posições em Python começam em 0) para exibir a posição ocupada pelo Flamengo na tabela.index"
   ]
  },
  {
   "cell_type": "code",
   "execution_count": null,
   "metadata": {
    "collapsed": false
   },
   "outputs": [],
   "source": []
  },
  {
   "attachments": {},
   "cell_type": "markdown",
   "metadata": {
    "collapsed": false
   },
   "source": [
    "## 3 – Maior e menor valores em Tupla\n",
    "Crie um programa que vai gerar cinco números aleatórios e colocar em uma tupla. Depois disso, mostre a listagem de números gerados e também indique o menor e o maior valor que estão na tupla."
   ]
  },
  {
   "cell_type": "code",
   "execution_count": 11,
   "metadata": {
    "ExecuteTime": {
     "end_time": "2023-05-04T07:40:00.480441Z",
     "start_time": "2023-05-04T07:40:00.440600Z"
    },
    "collapsed": false
   },
   "outputs": [
    {
     "name": "stdout",
     "output_type": "stream",
     "text": [
      "Os NUmeros gerados foram: (8, 7, 4, 9, 3)\n",
      "Os Menor Valor da Tupla e: 3, o Maior valor da Tupla e 9\n"
     ]
    }
   ],
   "source": [
    "from random import sample\n",
    "\n",
    "# Gera cinco numeros aleatorios e coloca em uma tupla\n",
    "numeros = tuple(sample(range(1, 10), 5))\n",
    "\n",
    "# Exibe a listagem dos numeros gerados\n",
    "print(f\"Os NUmeros gerados foram: {numeros}\")\n",
    "\n",
    "# Encontra o menor valor da tupla\n",
    "menor_valor = min(numeros)\n",
    "\n",
    "# Encontra o maior valor da tupla\n",
    "maior_valor = max(numeros)\n",
    "\n",
    "# Exibe o resultado final\n",
    "print(f\"Os Menor Valor da Tupla e: {menor_valor}, o Maior valor da Tupla e {maior_valor}\")"
   ]
  },
  {
   "attachments": {},
   "cell_type": "markdown",
   "metadata": {
    "collapsed": false
   },
   "source": [
    "#### Explicando o Codigo 3 Maior e Menor valor em tupla\n",
    "    A primeira linha do código importa o módulo , que será usado para gerar números aleatórios.random\n",
    "\n",
    "    A segunda linha utiliza a função para gerar cinco números aleatórios entre 1 e 100 e colocá-los em uma tupla.random.sample\n",
    "\n",
    "    A terceira linha exibe a listagem dos números gerados.\n",
    "\n",
    "    A quarta e quinta linhas utilizam as funções e, respectivamente, para encontrar o menor e o maior valor presentes na tupla.minmax\n",
    "\n",
    "    Por fim, a sexta linha exibe o menor e o maior valor encontrados."
   ]
  },
  {
   "cell_type": "code",
   "execution_count": null,
   "metadata": {
    "collapsed": false
   },
   "outputs": [],
   "source": []
  },
  {
   "attachments": {},
   "cell_type": "markdown",
   "metadata": {
    "collapsed": false
   },
   "source": [
    "## 4 – Análise de dados em uma Tupla\n",
    "Desenvolva um programa que leia quatro valores pelo teclado e guarde-os em uma tupla. No final, mostre:\n",
    "\n",
    "A) Quantas vezes apareceu o valor 9.\n",
    "\n",
    "B) Em que posição foi digitado o primeiro valor 3.\n",
    "\n",
    "C) Quais foram os números pares."
   ]
  },
  {
   "cell_type": "code",
   "execution_count": 14,
   "metadata": {
    "ExecuteTime": {
     "end_time": "2023-05-04T07:46:36.633891Z",
     "start_time": "2023-05-04T07:46:33.592830Z"
    },
    "collapsed": false
   },
   "outputs": [
    {
     "name": "stdout",
     "output_type": "stream",
     "text": [
      "Os valores digitados foram: (1, 2, 3, 4) \n",
      "O Valor 9 Apareceu: 0 vezes\n",
      "O Valor 3 apareceu na 3 posição. \n",
      "Os numeros pares são [2, 4]\n"
     ]
    }
   ],
   "source": [
    "# Le quatro valores pelo teclado e armazena em uma tupla\n",
    "valores = tuple(int(input(f\"Digite o {i + 1} valor: \")) for i in range(4))\n",
    "\n",
    "# Exibe a tupla\n",
    "print(f\"Os valores digitados foram: {valores} \")\n",
    "\n",
    "# Exibe a quantidade de vezes que o valor 9 apareceu\n",
    "print(f\"O Valor 9 Apareceu: {valores.count(9)} vezes\")\n",
    "\n",
    "# Encontra a posição do primeiro valor 3\n",
    "if 3 in valores:\n",
    "    posicao_3 = valores.index(3) + 1\n",
    "    print(f\"O Valor 3 apareceu na {posicao_3} posição. \")\n",
    "else:\n",
    "    print(\"O Valor 3 não foi digitado.\")\n",
    "\n",
    "# Exibe os numeros pares na tupla\n",
    "pares = [num for num in valores if num % 2 == 0]\n",
    "if pares:\n",
    "    print(f\"Os numeros pares são {pares}\")\n",
    "else:\n",
    "    print(\"Não foi digitado nenhum numero Par\")"
   ]
  },
  {
   "attachments": {},
   "cell_type": "markdown",
   "metadata": {
    "collapsed": false
   },
   "source": [
    "#### Explicando o Codigo 4 Analise de dados em uma tupla\n",
    "    A primeira linha do código lê quatro valores digitados pelo usuário e utiliza a função para transformá-los em uma tupla.tuple\n",
    "\n",
    "    A segunda linha exibe a tupla com os valores digitados.\n",
    "\n",
    "    A terceira linha utiliza o método da tupla para contar quantas vezes o valor 9 apareceu.count\n",
    "\n",
    "    A quarta e quinta linhas verificam se o valor 3 foi digitado na tupla. Se sim, utiliza o método para encontrar a posição em que o valor 3 apareceu pela primeira vez. Caso contrário, exibe uma mensagem informando que o valor 3 não foi digitado.index\n",
    "\n",
    "    A sexta e sétima linhas utilizam uma lista de compreensão para encontrar os números pares na tupla. Em seguida, verifica se a lista não está vazia e exibe os números pares encontrados. Caso contrário, exibe uma mensagem informando que não há números pares na tupla."
   ]
  },
  {
   "cell_type": "code",
   "execution_count": null,
   "metadata": {
    "collapsed": false
   },
   "outputs": [],
   "source": []
  },
  {
   "attachments": {},
   "cell_type": "markdown",
   "metadata": {
    "collapsed": false
   },
   "source": [
    "## 5 – Lista de Preços com Tupla\n",
    "Crie um programa que tenha uma tupla única com nomes de produtos e seus respectivos preços, na sequência. No final, mostre uma listagem de preços, organizando os dados em forma tabular."
   ]
  },
  {
   "cell_type": "code",
   "execution_count": 26,
   "metadata": {
    "ExecuteTime": {
     "end_time": "2023-05-04T08:00:32.533856Z",
     "start_time": "2023-05-04T08:00:32.482597Z"
    },
    "collapsed": false
   },
   "outputs": [
    {
     "name": "stdout",
     "output_type": "stream",
     "text": [
      "========================================\n",
      "           Listagem de Preços           \n",
      "========================================\n",
      "Produto A                    R$    9.99\n",
      "Produto B                    R$   19.99\n",
      "Produto C                    R$   29.99\n",
      "Produto D                    R$   39.99\n",
      "========================================\n"
     ]
    }
   ],
   "source": [
    "# Define a tupla com os produtos e seus preços\n",
    "produtos = (\n",
    "    ('Produto A', 9.99),\n",
    "    ('Produto B', 19.99),\n",
    "    ('Produto C', 29.99),\n",
    "    ('Produto D', 39.99),\n",
    ")\n",
    "\n",
    "# Exibe a listagem de preços organizada em forma tabula\n",
    "print('='*40)\n",
    "print(f'{\"Listagem de Preços\":^40}')\n",
    "print('='*40)\n",
    "\n",
    "# Iterando com um laço for\n",
    "for produto, preco in produtos:\n",
    "    print(f\"{produto:<28} R${preco:>8.2f}\")\n",
    "print('='*40)"
   ]
  },
  {
   "attachments": {},
   "cell_type": "markdown",
   "metadata": {
    "collapsed": false
   },
   "source": [
    "#### Comentario 5 Listas de Preços com tupla\n",
    "    O programa começa definindo a tupla , que contém cada produto como uma tupla contendo seu nome e seu preço. Em seguida, ele exibe uma listagem de preços organizada em forma tabular, usando o método para formatar os dados de cada produto na linha. O resultado será algo como:produtosformat()"
   ]
  },
  {
   "cell_type": "code",
   "execution_count": null,
   "metadata": {
    "collapsed": false
   },
   "outputs": [],
   "source": []
  },
  {
   "attachments": {},
   "cell_type": "markdown",
   "metadata": {
    "collapsed": false
   },
   "source": [
    "## 6 – Contando vogais em Tupla\n",
    "Crie um programa que tenha uma tupla com várias palavras (não usar acentos). Depois disso, você deve mostrar, para cada palavra, quais são as suas vogais."
   ]
  },
  {
   "cell_type": "code",
   "execution_count": 34,
   "metadata": {
    "ExecuteTime": {
     "end_time": "2023-05-04T08:08:15.374225Z",
     "start_time": "2023-05-04T08:08:15.350510Z"
    },
    "collapsed": false
   },
   "outputs": [
    {
     "name": "stdout",
     "output_type": "stream",
     "text": [
      "As vogais da Palavra: PYTHON               são ['o']\n",
      "As vogais da Palavra: PROGRAMACAO          são ['o', 'a', 'a', 'a', 'o']\n",
      "As vogais da Palavra: COMPUTADOR           são ['o', 'u', 'a', 'o']\n",
      "As vogais da Palavra: ALGORITMO            são ['a', 'o', 'i', 'o']\n",
      "As vogais da Palavra: LINGUAGEM            são ['i', 'u', 'a', 'e']\n",
      "As vogais da Palavra: ENGENHARIACOMPUTAÇÃO são ['e', 'a', 'i', 'a', 'o', 'u', 'a', 'o']\n",
      "As vogais da Palavra: DATA SCIENCE         são ['a', 'a', 'i', 'e', 'e']\n",
      "As vogais da Palavra: ANALISE DE DADOS     são ['a', 'i', 'e', 'e', 'a', 'o']\n",
      "As vogais da Palavra: ENGENHEIRO DE DADOS  são ['e', 'e', 'i', 'o', 'e', 'a', 'o']\n",
      "As vogais da Palavra: MERCADO FINANCEIRO   são ['e', 'a', 'o', 'i', 'a', 'e', 'i', 'o']\n"
     ]
    }
   ],
   "source": [
    "# Define a tupla com as palavras\n",
    "palavras = ('python', 'programacao', 'computador', 'algoritmo', 'linguagem', 'Engenharia'\n",
    "            'computação', 'Data Science', 'Analise de Dados', 'Engenheiro de Dados',\n",
    "            'Mercado Financeiro')\n",
    "\n",
    "# Definindo uma funçao para encontrar as vogais de uma palavra\n",
    "def encontra_vogais(palavra):\n",
    "    vogais = set('aeiou')\n",
    "    return [letra for letra in palavra if letra in vogais]\n",
    "\n",
    "# Exibe as vogais de cada palavra\n",
    "for palavra in palavras:\n",
    "    print(f\"As vogais da Palavra: {palavra.upper():<20} são {encontra_vogais(palavra)}\")"
   ]
  },
  {
   "attachments": {},
   "cell_type": "markdown",
   "metadata": {
    "collapsed": false
   },
   "source": [
    "#### Comentario 6 contador de vogais\n",
    "    O programa começa definindo a tupla , que contém várias palavras em minúsculas. Em seguida, ele define a função que recebe uma palavra como parâmetro e retorna uma lista contendo as vogais da palavra. A função utiliza um conjunto () para armazenar as vogais e depois percorre cada letra da palavra, verificando se ela está no conjunto de vogais. Por fim, o programa itera sobre todas as palavras da tupla e utiliza a função para exibir as vogais de cada palavra em letras maiúsculas. O resultado será algo como:palavrasencontrar_vogaissetencontrar_vogais"
   ]
  },
  {
   "cell_type": "code",
   "execution_count": null,
   "metadata": {
    "collapsed": false
   },
   "outputs": [],
   "source": []
  }
 ],
 "metadata": {
  "kernelspec": {
   "display_name": "Python 3 (ipykernel)",
   "language": "python",
   "name": "python3"
  },
  "language_info": {
   "codemirror_mode": {
    "name": "ipython",
    "version": 3
   },
   "file_extension": ".py",
   "mimetype": "text/x-python",
   "name": "python",
   "nbconvert_exporter": "python",
   "pygments_lexer": "ipython3",
   "version": "3.10.9"
  }
 },
 "nbformat": 4,
 "nbformat_minor": 5
}

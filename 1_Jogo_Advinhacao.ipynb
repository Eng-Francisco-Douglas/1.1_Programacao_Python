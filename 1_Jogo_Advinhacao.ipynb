{
 "cells": [
  {
   "cell_type": "code",
   "execution_count": 7,
   "metadata": {},
   "outputs": [
    {
     "name": "stdout",
     "output_type": "stream",
     "text": [
      "====================\n",
      "Jogo da Advinhação\n",
      "====================\n",
      "Maior\n",
      "Maior\n",
      "Maior\n",
      "Voce Acertou depois de 4 Tentativas\n",
      "Programa Encerrado Com Sucesso\n"
     ]
    }
   ],
   "source": [
    "print(\"=\"*20)\n",
    "print(\"Jogo da Advinhação\")\n",
    "print(\"=\"*20)\n",
    "\n",
    "from random import randint\n",
    "numero_secreto = randint(1, 10)\n",
    "\n",
    "chute = ''\n",
    "total_tentativas = 0\n",
    "contador = 0\n",
    "\n",
    "while chute != numero_secreto:\n",
    "   chute = input(\"Digite um numero: \")\n",
    "   contador += 1\n",
    "   try:\n",
    "       chute = int(chute)\n",
    "       if chute == numero_secreto:\n",
    "           print(f\"Voce Acertou depois de {contador} Tentativas\")\n",
    "       else:\n",
    "           if chute > numero_secreto:\n",
    "               print(\"Menor\")\n",
    "           elif chute < numero_secreto:\n",
    "               print(\"Maior\")\n",
    "   except:\n",
    "       print(\"Erro!\")\n",
    "print(\"Programa Encerrado Com Sucesso\")\n"
   ]
  },
  {
   "cell_type": "code",
   "execution_count": null,
   "metadata": {},
   "outputs": [],
   "source": []
  },
  {
   "attachments": {},
   "cell_type": "markdown",
   "metadata": {},
   "source": [
    "## Explicando Passo a Passo o Codigo"
   ]
  },
  {
   "attachments": {},
   "cell_type": "markdown",
   "metadata": {},
   "source": [
    "Esse código é um jogo de adivinhação em que o jogador precisa tentar adivinhar um número secreto escolhido aleatoriamente pelo computador. Vamos analisar passo a passo o que acontece no programa:\n",
    "\n",
    "1. A linha `print(\"=\"*20)` é responsável por imprimir uma linha de igualdades para criar uma divisória visual no console.\n",
    "\n",
    "2. Em seguida, o programa imprime a mensagem \"Jogo da Advinhação\" usando `print(\"Jogo da Advinhação\")`.\n",
    "\n",
    "3. Novamente, a linha `print(\"=\"*20)` é executada para criar outra linha de igualdades como divisória.\n",
    "\n",
    "4. A próxima linha `from random import randint` importa a função `randint` do módulo `random`. Essa função será usada para gerar um número inteiro aleatório.\n",
    "\n",
    "5. O programa chama a função `randint(1, 10)` para gerar um número inteiro aleatório entre 1 e 10, inclusive. O número gerado é armazenado na variável `numero_secreto`.\n",
    "\n",
    "6. O programa inicializa a variável `chute` como uma string vazia. Essa variável será usada para armazenar os valores digitados pelo jogador.\n",
    "\n",
    "7. O programa inicializa a variável `total_tentativas` como 0. Essa variável será usada para contar o número total de tentativas feitas pelo jogador.\n",
    "\n",
    "8. O programa inicializa a variável `contador` como 0. Essa variável será usada para contar o número de tentativas até acertar o número secreto.\n",
    "\n",
    "9. Em seguida, o programa entra em um loop `while` que continua até que o chute seja igual ao número secreto. Isso significa que o loop será repetido até que o jogador adivinhe corretamente o número.\n",
    "\n",
    "10. Dentro do loop, o programa solicita ao jogador que digite um número através da linha `chute = input(\"Digite um número: \")`. O número digitado pelo jogador será armazenado na variável `chute`.\n",
    "\n",
    "11. A variável `contador` é incrementada em 1 a cada iteração do loop usando o operador `+=`.\n",
    "\n",
    "12. Em seguida, o programa tenta converter o valor digitado pelo jogador em um número inteiro usando `chute = int(chute)`. Se o valor não puder ser convertido em um número inteiro, uma exceção será gerada e o programa passará para o bloco `except`.\n",
    "\n",
    "13. Dentro do bloco `try`, o programa verifica se o valor do chute é igual ao número secreto gerado aleatoriamente. Se for igual, imprime a mensagem \"Você Acertou depois de X Tentativas\", onde X é o valor armazenado na variável `contador`.\n",
    "\n",
    "14. Caso o chute não seja igual ao número secreto, o programa verifica se o chute é maior ou menor do que o número secreto e imprime a mensagem correspondente. Se o chute for maior, imprime \"Menor\", e se for menor, imprime \"Maior\".\n",
    "\n",
    "15. Se ocorrer algum erro ao converter o valor do chute em um número inteiro, o programa irá para o bloco `except` e imprimirá a mensagem \"Erro!\".\n",
    "\n",
    "16. Após sair do loop `while`, o programa imprime a mensagem \"Programa Encerrado Com Sucesso\".\n",
    "\n",
    "O jogo continuará repetindo o processo até que o jogador adivinhe corretamente o número secreto. A cada tentativa\n",
    "\n",
    ", o programa informará se o chute é maior ou menor que o número secreto."
   ]
  },
  {
   "attachments": {},
   "cell_type": "markdown",
   "metadata": {},
   "source": []
  }
 ],
 "metadata": {
  "kernelspec": {
   "display_name": "base",
   "language": "python",
   "name": "python3"
  },
  "language_info": {
   "codemirror_mode": {
    "name": "ipython",
    "version": 3
   },
   "file_extension": ".py",
   "mimetype": "text/x-python",
   "name": "python",
   "nbconvert_exporter": "python",
   "pygments_lexer": "ipython3",
   "version": "3.10.9"
  },
  "orig_nbformat": 4
 },
 "nbformat": 4,
 "nbformat_minor": 2
}

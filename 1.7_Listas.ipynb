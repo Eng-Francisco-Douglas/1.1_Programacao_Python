{
 "cells": [
  {
   "attachments": {},
   "cell_type": "markdown",
   "metadata": {
    "collapsed": false
   },
   "source": [
    "## Listas\n",
    "Em Python, uma lista é uma coleção ordenada de itens que pode conter qualquer tipo de dado, como números, strings e objetos. As listas são uma das estruturas de dados mais utilizadas em Python e são muito versáteis e poderosas.\n",
    "\n",
    "As listas são criadas usando colchetes () e os itens são separados por vírgulas. Por exemplo, a lista abaixo contém três números inteiros:[]\n",
    "\n",
    "**numeros = [1, 2, 3]**\n",
    "\n",
    "As listas podem ser acessadas e modificadas por meio de seus índices, que começam em 0. Por exemplo, para acessar o primeiro item da lista acima, usamos . Para modificar o segundo item, usamos .numeros[0]numeros[1] = 5\n",
    "\n",
    "Além disso, as listas têm muitos métodos úteis, como para adicionar um item ao final da lista, para remover um item específico, para ordenar a lista e para obter o tamanho da lista.append()remove()sort()len()\n",
    "\n",
    "As listas em Python são mutáveis, o que significa que podemos alterar sua estrutura e conteúdo, adicionando ou removendo itens. Isso as torna muito flexíveis e úteis em diversas situações, como na criação de algoritmos e programas complexos."
   ]
  },
  {
   "attachments": {},
   "cell_type": "markdown",
   "metadata": {
    "collapsed": false
   },
   "source": [
    "## 1 – Maior e Menor valores na Lista\n",
    "\n",
    "Faça um programa que leia 5 valores numéricos e guarde-os em uma lista. No final, mostre qual foi o maior e o menor valor digitado e as suas respectivas posições na lista."
   ]
  },
  {
   "cell_type": "code",
   "execution_count": 3,
   "metadata": {
    "ExecuteTime": {
     "end_time": "2023-05-04T08:23:14.350656Z",
     "start_time": "2023-05-04T08:23:08.132865Z"
    },
    "collapsed": false
   },
   "outputs": [
    {
     "name": "stdout",
     "output_type": "stream",
     "text": [
      "Voce digitou os numeros: [2, 8, 1, 9, 4]\n",
      "O Maior numero digitado foi: 9, na Posição 3\n",
      "O Menor numero digitado foi: 1, na Posição 2\n"
     ]
    }
   ],
   "source": [
    "# Definindo uma lista vazia\n",
    "numeros = []\n",
    "\n",
    "# Lendo 5 valores numericos e adiciona-os a lista\n",
    "for i in range(5):\n",
    "    numero = int(input(f\"Digite o {i+1} numero: \"))\n",
    "    numeros.append(numero)\n",
    "\n",
    "# Definindo o maior e o menor valor como o primeiro numero\n",
    "maior = numeros[0]\n",
    "menor = numeros[0]\n",
    "\n",
    "# Definindo a posição dos maior e do menor numero\n",
    "pos_maior = 0\n",
    "pos_menor = 0\n",
    "\n",
    "# Criando o Laço for para itera sobre os numeros\n",
    "for i in range(1, len(numeros)):\n",
    "    if numeros[i] > maior:\n",
    "        maior = numeros[i]\n",
    "        pos_maior = i\n",
    "    if numeros[i] < menor:\n",
    "        menor = numeros[i]\n",
    "        pos_menor = i\n",
    "\n",
    "# Exibindo o resultado\n",
    "print(f\"Voce digitou os numeros: {numeros}\")\n",
    "print(f\"O Maior numero digitado foi: {maior}, na Posição {pos_maior}\")\n",
    "print(f\"O Menor numero digitado foi: {menor}, na Posição {pos_menor}\")\n"
   ]
  },
  {
   "attachments": {},
   "cell_type": "markdown",
   "metadata": {
    "collapsed": false
   },
   "source": [
    "#### Explicando o codigo 1 Maior e Menor Valores\n",
    "    O programa começa definindo uma lista vazia . Em seguida, ele utiliza um loop para ler 5 valores numéricos digitados pelo usuário e adicioná-los à lista.numerosfor\n",
    "\n",
    "    Depois disso, ele utiliza outro loop para percorrer a lista e encontrar o maior e o menor valor digitado, juntamente com suas posições. Para isso, ele utiliza condições para comparar os valores atuais com os valores anteriores.for\n",
    "\n",
    "    Por fim, o programa exibe o resultado para o usuário, mostrando os valores digitados, o maior e o menor valor e suas respectivas posições na lista. O resultado será algo como:"
   ]
  },
  {
   "cell_type": "code",
   "execution_count": null,
   "metadata": {
    "collapsed": false
   },
   "outputs": [],
   "source": []
  },
  {
   "attachments": {},
   "cell_type": "markdown",
   "metadata": {
    "collapsed": false
   },
   "source": [
    "## 2 – Valores únicos em uma Lista\n",
    "Crie um programa onde o usuário possa digitar vários valores numéricos e cadastre-os em uma lista. Caso o número já exista lá dentro, ele não será adicionado. No final, serão exibidos todos os valores únicos digitados, em ordem crescente."
   ]
  },
  {
   "cell_type": "code",
   "execution_count": 4,
   "metadata": {
    "ExecuteTime": {
     "end_time": "2023-05-04T08:30:21.954276Z",
     "start_time": "2023-05-04T08:30:11.192344Z"
    },
    "collapsed": false
   },
   "outputs": [
    {
     "name": "stdout",
     "output_type": "stream",
     "text": [
      "Valor 4 adicionado a lista com sucesso\n",
      "Valor 2 adicionado a lista com sucesso\n",
      "Valor 7 adicionado a lista com sucesso\n",
      "Valor 6 adicionado a lista com sucesso\n",
      "O Valor 4 ja existe na lista e não sera adicionado!\n",
      "Valor 3 adicionado a lista com sucesso\n",
      "O Valor 2 ja existe na lista e não sera adicionado!\n",
      "Valor 1 adicionado a lista com sucesso\n",
      "\n",
      "Os valores digitados, em ordem crescente foram: [1, 2, 3, 4, 6, 7] \n"
     ]
    }
   ],
   "source": [
    "# Cria uma lista vazia\n",
    "lista = []\n",
    "\n",
    "# loop para adicionar os valores\n",
    "while True:\n",
    "    valor = int(input(\"Digite um valor 0 Stop: \"))\n",
    "\n",
    "    # Condição de Parada\n",
    "    if valor == 0:\n",
    "        break\n",
    "\n",
    "    # Condição para ver se o numero ja esta na lista\n",
    "    if valor not in lista:\n",
    "        lista.append(valor)\n",
    "        print(f\"Valor {valor} adicionado a lista com sucesso\")\n",
    "    else:\n",
    "        print(f\"O Valor {valor} ja existe na lista e não sera adicionado!\")\n",
    "\n",
    "# Ordenando a lista em ordem crescente\n",
    "lista.sort()\n",
    "\n",
    "# Imprimindo o resultado\n",
    "print(f\"\\nOs valores digitados, em ordem crescente foram: {lista} \")"
   ]
  },
  {
   "attachments": {},
   "cell_type": "markdown",
   "metadata": {
    "collapsed": false
   },
   "source": [
    "#### Explicando o codigo 2 Valores unicos em uma lista\n",
    "    O programa começa criando uma lista vazia . Em seguida, ele utiliza um loop para ler os valores numéricos digitados pelo usuário e adicioná-los à lista. O loop irá parar quando o usuário digitar zero.listawhile\n",
    "\n",
    "    Dentro do loop, o programa verifica se o valor digitado já existe na lista. Caso não exista, ele é adicionado à lista e uma mensagem de sucesso é exibida. Caso contrário, uma mensagem de aviso é exibida informando que o valor já existe na lista.\n",
    "\n",
    "    Depois de todos os valores terem sido digitados e adicionados à lista, o programa ordena a lista em ordem crescente utilizando o método .sort()\n",
    "\n",
    "    Por fim, o programa exibe a lista final contendo todos os valores únicos digitados em ordem crescente. O resultado será algo como:"
   ]
  },
  {
   "attachments": {},
   "cell_type": "markdown",
   "metadata": {
    "collapsed": false
   },
   "source": [
    "## 3 – Lista ordenada sem repetições\n",
    "Crie um programa onde o usuário possa digitar cinco valores numéricos e cadastre-os em uma lista, já na posição correta de inserção (sem usar o sort()). No final, mostre a lista ordenada na tela."
   ]
  },
  {
   "cell_type": "code",
   "execution_count": 5,
   "metadata": {
    "ExecuteTime": {
     "end_time": "2023-05-04T08:37:26.823716Z",
     "start_time": "2023-05-04T08:37:23.018813Z"
    },
    "collapsed": false
   },
   "outputs": [
    {
     "name": "stdout",
     "output_type": "stream",
     "text": [
      "Lista ordenada [1, 2, 4, 5, 7]\n"
     ]
    }
   ],
   "source": [
    "# Criando a lista vazia\n",
    "lista = []\n",
    "\n",
    "# Lendo os valores do usuario e inserindo na posição digitada\n",
    "for i in range(5):\n",
    "    valor = int(input(f\"Digite o {i} valor: \"))\n",
    "\n",
    "    # Condição e adicionando os valores a lista\n",
    "    if i == 0:\n",
    "        lista.append(valor)\n",
    "    else:\n",
    "        posicao = 0\n",
    "        while posicao < len(lista) and valor > lista[posicao]:\n",
    "            posicao += 1\n",
    "        lista.insert(posicao, valor)\n",
    "\n",
    "# Exibindo a lista ordenada\n",
    "print(f\"Lista ordenada {lista}\")"
   ]
  },
  {
   "attachments": {},
   "cell_type": "markdown",
   "metadata": {
    "collapsed": false
   },
   "source": [
    "#### Explicando o codigo 3 lista ordenada sem repetições\n",
    "\n",
    "    No exemplo acima, a lista é inicializada vazia. Em seguida, um loop é usado para ler os valores digitados pelo usuário e inseri-los na posição correta na lista.lista\n",
    "\n",
    "    O primeiro valor digitado é adicionado à lista diretamente, já que não há nenhum valor anterior para compará-lo.\n",
    "\n",
    "    Para os demais valores, usamos um loop para encontrar a posição correta do valor na lista, comparando-o com cada valor já existente. A posição correta é encontrada quando o valor digitado for menor ou igual ao valor da lista na posição atual. Em seguida, o método é usado para inserir o valor na posição correta.whileinsert\n",
    "\n",
    "    Por fim, a lista ordenada é exibida na tela.\n",
    "\n",
    "    Note que, embora este método funcione para listas pequenas, ele pode ser menos eficiente do que o uso de bibliotecas como para ordenar listas maiores, pois a complexidade do algoritmo é maior.bisect"
   ]
  },
  {
   "cell_type": "code",
   "execution_count": null,
   "metadata": {
    "collapsed": false
   },
   "outputs": [],
   "source": []
  },
  {
   "attachments": {},
   "cell_type": "markdown",
   "metadata": {
    "collapsed": false
   },
   "source": [
    "## 4 – Extraindo dados de uma Lista\n",
    "Crie um programa e comentários que vai ler vários números e colocar em uma lista.\n",
    "Depois disso, mostre.\n",
    "A) Quantos números foram digitados\n",
    "B) A lista de valores, ordenada de forma decrescente\n",
    "C) Se o valor 5 foi digitado e está ou não na lista.\n"
   ]
  },
  {
   "cell_type": "code",
   "execution_count": 7,
   "metadata": {
    "ExecuteTime": {
     "end_time": "2023-05-04T08:49:10.869154Z",
     "start_time": "2023-05-04T08:49:04.140235Z"
    },
    "collapsed": false
   },
   "outputs": [
    {
     "name": "stdout",
     "output_type": "stream",
     "text": [
      "Voce digitou 7 numeros\n",
      "Lista em Ordem Descrescente: [9, 7, 6, 4, 3, 2, 1]\n",
      "O Numero 5 Não esta na lista\n"
     ]
    }
   ],
   "source": [
    "# Criando uma lista vazia para armazena os numeros\n",
    "numeros = []\n",
    "\n",
    "# Inicia um loop infinito para ler os numeros\n",
    "while True:\n",
    "    # le um numero inteiro do usuario\n",
    "    num = int(input(\"Digite um numero, [0 Para encerra o programa]: \"))\n",
    "\n",
    "    # Se o numero for 0, encerre o programa\n",
    "    if num == 0:\n",
    "        break\n",
    "\n",
    "    # Adiciona o numero a lista\n",
    "    numeros.append(num)\n",
    "\n",
    "# Exibe o numero de elementos na lista\n",
    "print(f\"Voce digitou {len(numeros)} numeros\")\n",
    "\n",
    "# Exibe a lista em ordem decrescente\n",
    "numeros.sort(reverse=True)\n",
    "print(f\"Lista em Ordem Descrescente: {numeros}\")\n",
    "\n",
    "# Verifica se o numero 5 esta na lista e exibe o resultado\n",
    "if 5 in numeros:\n",
    "    print(\"O Numero 5 esta na lista\")\n",
    "else:\n",
    "    print(\"O Numero 5 Não esta na lista\")"
   ]
  },
  {
   "attachments": {},
   "cell_type": "markdown",
   "metadata": {
    "collapsed": false
   },
   "source": [
    "#### Explicando 4 – Extraindo dados de uma Lista\n",
    "\n",
    "    O programa começa criando uma lista vazia para armazenar os números digitados pelo usuário. Em seguida, inicia um loop infinito que só será interrompido quando o usuário digitar o número 0.numeros\n",
    "\n",
    "    Dentro do loop, o programa lê um número inteiro do usuário e verifica se ele é igual a zero. Se for, o loop é interrompido. Caso contrário, o número é adicionado à lista .numeros\n",
    "\n",
    "        Após o loop, o programa exibe o número de elementos na lista usando a função . Em seguida, a lista é ordenada em ordem decrescente usando o método com o parâmetro . Por fim, o programa verifica se o número 5 está na lista usando o operador e exibe uma mensagem apropriada.'len()'sort()reverse=True in"
   ]
  },
  {
   "attachments": {},
   "cell_type": "markdown",
   "metadata": {
    "collapsed": false
   },
   "source": [
    "## 5 – Dividindo valores em várias listas\n",
    "Crie um programa que vai ler vários números e colocar em uma lista. Depois disso, crie duas listas extras que vão conter apenas os valores pares e os valores ímpares digitados, respectivamente. Ao final, mostre o conteúdo das três listas geradas."
   ]
  },
  {
   "cell_type": "code",
   "execution_count": 8,
   "metadata": {
    "ExecuteTime": {
     "end_time": "2023-05-04T08:54:39.153965Z",
     "start_time": "2023-05-04T08:54:33.264086Z"
    },
    "collapsed": false
   },
   "outputs": [
    {
     "name": "stdout",
     "output_type": "stream",
     "text": [
      "Ao todo foram [2, 4, 5, 6, 7, 4] digitados\n",
      "Os numeros PARES digitados foram [2, 4, 6, 4]\n",
      "Os numeros IMPARES digitados foram [5, 7]\n"
     ]
    }
   ],
   "source": [
    "# Criando uma lista vazia para armazena os numeros\n",
    "numeros = []\n",
    "\n",
    "# Le os numeros digitados e adiciona a lista\n",
    "while True:\n",
    "    num = int(input(\"Digite um numero [0 Stop]: \"))\n",
    "    if num == 0:\n",
    "        break\n",
    "    numeros.append(num)\n",
    "\n",
    "# Criando as listas vazias para armazena os numeros PARES e IMPARES\n",
    "pares = []\n",
    "impares = []\n",
    "\n",
    "# Percorre a lista de numeros e adiciona os pares e impares em suas listas\n",
    "for num in numeros:\n",
    "    if num % 2 == 0:\n",
    "        pares.append(num)\n",
    "    else:\n",
    "        impares.append(num)\n",
    "\n",
    "# Exibe o conteudo das tres listas\n",
    "print(f\"Ao todo foram {numeros} digitados\")\n",
    "print(f\"Os numeros PARES digitados foram {pares}\")\n",
    "print(f\"Os numeros IMPARES digitados foram {impares}\")"
   ]
  },
  {
   "attachments": {},
   "cell_type": "markdown",
   "metadata": {
    "collapsed": false
   },
   "source": [
    "#### Explicando o codigo 5 – Dividindo valores em várias listas\n",
    "\n",
    "    O programa começa criando uma lista vazia para armazenar os números digitados pelo usuário. Em seguida, o programa entra em um loop que só é interrompido quando o usuário digita 0. Dentro do loop, o programa lê um número inteiro do usuário e adiciona à lista .numerosnumeros\n",
    "\n",
    "    Depois de ter lido todos os números, o programa cria duas listas vazias, e , que vão conter os números pares e ímpares, respectivamente. O programa percorre a lista com um loop , verificando se cada número é par ou ímpar. Se for par, ele é adicionado à lista , caso contrário, é adicionado à lista .paresimparesnumerosforparesimpares\n",
    "\n",
    "    Por fim, o programa exibe o conteúdo das três listas usando a função .print()"
   ]
  },
  {
   "cell_type": "code",
   "execution_count": null,
   "metadata": {
    "collapsed": false
   },
   "outputs": [],
   "source": []
  },
  {
   "attachments": {},
   "cell_type": "markdown",
   "metadata": {
    "collapsed": false
   },
   "source": [
    "## 6 – Validando expressões matemáticas\n",
    "Crie um programa onde o usuário digite uma expressão qualquer que use parênteses. Seu aplicativo deverá analisar se a expressão passada está com os parênteses abertos e fechados na ordem correta."
   ]
  },
  {
   "cell_type": "code",
   "execution_count": 9,
   "metadata": {
    "ExecuteTime": {
     "end_time": "2023-05-04T09:21:00.459138Z",
     "start_time": "2023-05-04T09:20:58.661284Z"
    },
    "collapsed": false
   },
   "outputs": [
    {
     "name": "stdout",
     "output_type": "stream",
     "text": [
      "A expressao e invalida\n"
     ]
    }
   ],
   "source": [
    "# Solicita que o usuario digite uma expressao Matematica\n",
    "expressao = input(\"Digite a expressão: \")\n",
    "\n",
    "# Cria uma lista vazia para armazena os parametros da lista\n",
    "pilha = []\n",
    "\n",
    "# Percorre cada cacatere da expressao\n",
    "for caracter in expressao:\n",
    "    # Se o caractere for parentese de abertura, adicione na lista pilha\n",
    "    if caracter == '(':\n",
    "        pilha.append(caracter)\n",
    "\n",
    "    # Se o caractere for um parêntese de fechamento e a lista pilha estiver vazia, significa que a expressão está incorreta\n",
    "    elif caracter == ')' and len(pilha) == 0:\n",
    "        pilha.append(caracter)\n",
    "        break\n",
    "\n",
    "\n",
    "    # Se o caractere for um parêntese de fechamento e o último parêntese adicionado na lista pilha for um\n",
    "    # parêntese de abertura, remove o parêntese de abertura da lista pilha\n",
    "    elif caracter == ')' and pilha[-1] == '(':\n",
    "        pilha.pop()\n",
    "\n",
    "    # Se o caractere for diferente de parênteses, segue para o próximo caractere\n",
    "    else:\n",
    "        continue\n",
    "\n",
    "# Se a lista pilha estiver vazia, significa que a expressão está correta\n",
    "if len(pilha) == 0:\n",
    "    print(f\"A expressão e valida\")\n",
    "\n",
    "# Caso contrario, a expresso esta incorreta\n",
    "print(\"A expressao e invalida\")\n",
    "\n"
   ]
  },
  {
   "attachments": {},
   "cell_type": "markdown",
   "metadata": {
    "collapsed": false
   },
   "source": [
    "#### Explicando 6 – Validando expressões matemáticas\n",
    "\n",
    "\n",
    "Passo a passo:\n",
    "\n",
    "* Solicita ao usuário que digite uma expressão matemática que contenha parênteses e armazena na variável .expressao\n",
    "* Cria uma lista vazia chamada  para armazenar os parênteses da expressão.pilha\n",
    "* Percorre cada caractere da expressão utilizando um loop .for\n",
    "* Se o caractere for um parêntese de abertura, adiciona na lista .pilha\n",
    "* Se o caractere for um parêntese de fechamento e a lista  estiver vazia, adiciona o parêntese de fechamento na lista  e sai do loop , indicando que a expressão está incorreta.pilhapilhafor\n",
    "* Se o caractere for um parêntese de fechamento e o último parêntese adicionado na lista  for um parêntese de abertura, remove o parêntese de abertura da lista .pilhapilha\n",
    "* Se o caractere for diferente de parênteses, segue para o próximo caractere.\n",
    "* Após percorrer todos os caracteres da expressão, verifica se a lista  está vazia.pilha\n",
    "* Se a lista  estiver vazia, significa que a expressão está correta e exibe a mensagem \"A expressão é válida!\".pilha\n",
    "* Caso contrário, a lista  ainda contém parênteses que não foram fechados na ordem correta e exibe a mensagem \"A expressão é inválida!\".pilha\n"
   ]
  },
  {
   "cell_type": "code",
   "execution_count": null,
   "metadata": {
    "collapsed": false
   },
   "outputs": [],
   "source": []
  },
  {
   "attachments": {},
   "cell_type": "markdown",
   "metadata": {
    "collapsed": false
   },
   "source": [
    "## 7 – Lista composta e análise de dados\n",
    "Faça um programa que leia nome e peso de várias pessoas, guardando tudo em uma lista. No final, mostre\n",
    "A) Quantas pessoas foram cadastradas\n",
    "B) Uma listagem com as pessoas mais pesadas\n",
    "C) Uma listagem com as pessoas mais leves\n"
   ]
  },
  {
   "cell_type": "code",
   "execution_count": null,
   "metadata": {
    "collapsed": false
   },
   "outputs": [],
   "source": [
    "# Criando uma lista para armazena os dados das pessoas\n",
    "pessoas = []\n",
    "\n",
    "while True:\n",
    "    # Lendo o nome e o peso da pessoa\n",
    "    nome = str(input(\"Digite o nome da pessoa: \")).title()\n",
    "    peso = float(input(f\"Digite o peso do(a) {nome:>12}: \"))\n",
    "\n",
    "    # Adicionando os dados da pessoa a lista\n",
    "    pessoas.append([nome, peso])\n",
    "\n",
    "    # Perguntando ao usuario se ele deseja continuar\n",
    "    resp = input(\"Deseja continuar? [S/N]: \")\n",
    "\n",
    "    # caso a resposta seja diferente de \"S\", saímos do loop\n",
    "    if resp != 'Ss':\n",
    "        break\n",
    "\n",
    "# Imprimindo a quantidade de pessoas cadastradas\n",
    "print(f\"Foram cadastradas {len(pessoas)} pessoas\")\n",
    "\n",
    "# Ordenando a lista de pessoas pelo peso (do maior para o menor)\n",
    "pessoas.sort(key=lambda x: x[1], reverse=True)\n",
    "\n",
    "# Imprimindo as pessoas mais pesadas (considerando ate 3 pessoas com o maior peso)\n",
    "print(\"As 3 pessoa mais pesadas são:\")\n",
    "for i, pessoa in enumerate(pessoas[:3]):\n",
    "    print(f\"{i+1}. Nome: {pessoa[0]} | Peso: {pessoa[1]} kg\")\n",
    "\n",
    "# imprimindo as pessoas mais leves (considerando até 3 pessoas com o menor peso)#%% md"
   ]
  },
  {
   "attachments": {},
   "cell_type": "markdown",
   "metadata": {
    "collapsed": false
   },
   "source": [
    "## 8 – Maior e Menor valores na Lista\n",
    "\n",
    "Faça um programa que leia 5 valores numéricos e guarde-os em uma lista. No final, mostre qual foi o maior e o menor valor digitado e as suas respectivas posições na lista."
   ]
  },
  {
   "cell_type": "code",
   "execution_count": null,
   "metadata": {
    "collapsed": false
   },
   "outputs": [],
   "source": [
    "# Definindo uma lista vazia\n",
    "numeros = []\n",
    "\n",
    "# Lendo 5 valores numericos e adiciona-os a lista\n",
    "for i in range(5):\n",
    "    numero = int(input(f\"Digite o {i+1} numero: \"))\n",
    "    numeros.append(numero)\n",
    "\n",
    "# Definindo o maior e o menor valor como o primeiro numero\n",
    "maior = numeros[0]\n",
    "menor = numeros[0]\n",
    "\n",
    "# Definindo a posição dos maior e do menor numero\n",
    "pos_maior = 0\n",
    "pos_menor = 0\n",
    "\n",
    "# Criando o Laço for para itera sobre os numeros\n",
    "for i in range(1, len(numeros)):\n",
    "    if numeros[i] > maior:\n",
    "        maior = numeros[i]\n",
    "        pos_maior = i\n",
    "    if numeros[i] < menor:\n",
    "        menor = numeros[i]\n",
    "        pos_menor = i\n",
    "\n",
    "# Exibindo o resultado\n",
    "print(f\"Voce digitou os numeros: {numeros}\")\n",
    "print(f\"O Maior numero digitado foi: {maior}, na Posição {pos_maior}\")\n",
    "print(f\"O Menor numero digitado foi: {menor}, na Posição {pos_menor}\")\n"
   ]
  },
  {
   "attachments": {},
   "cell_type": "markdown",
   "metadata": {
    "collapsed": false
   },
   "source": [
    "#### Explicando o codigo 8 Maior e Menor Valores\n",
    "    O programa começa definindo uma lista vazia . Em seguida, ele utiliza um loop para ler 5 valores numéricos digitados pelo usuário e adicioná-los à lista.numerosfor\n",
    "\n",
    "    Depois disso, ele utiliza outro loop para percorrer a lista e encontrar o maior e o menor valor digitado, juntamente com suas posições. Para isso, ele utiliza condições para comparar os valores atuais com os valores anteriores.for\n",
    "\n",
    "    Por fim, o programa exibe o resultado para o usuário, mostrando os valores digitados, o maior e o menor valor e suas respectivas posições na lista. O resultado será algo como:"
   ]
  },
  {
   "cell_type": "code",
   "execution_count": null,
   "metadata": {
    "collapsed": false
   },
   "outputs": [],
   "source": []
  },
  {
   "attachments": {},
   "cell_type": "markdown",
   "metadata": {
    "collapsed": false
   },
   "source": [
    "## 9 – Valores únicos em uma Lista\n",
    "Crie um programa onde o usuário possa digitar vários valores numéricos e cadastre-os em uma lista. Caso o número já exista lá dentro, ele não será adicionado. No final, serão exibidos todos os valores únicos digitados, em ordem crescente."
   ]
  },
  {
   "cell_type": "code",
   "execution_count": 2,
   "metadata": {
    "collapsed": false
   },
   "outputs": [
    {
     "ename": "ValueError",
     "evalue": "invalid literal for int() with base 10: ''",
     "output_type": "error",
     "traceback": [
      "\u001b[1;31m---------------------------------------------------------------------------\u001b[0m",
      "\u001b[1;31mValueError\u001b[0m                                Traceback (most recent call last)",
      "Cell \u001b[1;32mIn[2], line 6\u001b[0m\n\u001b[0;32m      4\u001b[0m \u001b[38;5;66;03m# loop para adicionar os valores\u001b[39;00m\n\u001b[0;32m      5\u001b[0m \u001b[38;5;28;01mwhile\u001b[39;00m \u001b[38;5;28;01mTrue\u001b[39;00m:\n\u001b[1;32m----> 6\u001b[0m     valor \u001b[38;5;241m=\u001b[39m \u001b[38;5;28;43mint\u001b[39;49m\u001b[43m(\u001b[49m\u001b[38;5;28;43minput\u001b[39;49m\u001b[43m(\u001b[49m\u001b[38;5;124;43m\"\u001b[39;49m\u001b[38;5;124;43mDigite um valor 0 Stop: \u001b[39;49m\u001b[38;5;124;43m\"\u001b[39;49m\u001b[43m)\u001b[49m\u001b[43m)\u001b[49m\n\u001b[0;32m      8\u001b[0m     \u001b[38;5;66;03m# Condição de Parada\u001b[39;00m\n\u001b[0;32m      9\u001b[0m     \u001b[38;5;28;01mif\u001b[39;00m valor \u001b[38;5;241m==\u001b[39m \u001b[38;5;241m0\u001b[39m:\n",
      "\u001b[1;31mValueError\u001b[0m: invalid literal for int() with base 10: ''"
     ]
    }
   ],
   "source": [
    "# Cria uma lista vazia\n",
    "lista = []\n",
    "\n",
    "# loop para adicionar os valores\n",
    "while True:\n",
    "    valor = int(input(\"Digite um valor 0 Stop: \"))\n",
    "\n",
    "    # Condição de Parada\n",
    "    if valor == 0:\n",
    "        break\n",
    "\n",
    "    # Condição para ver se o numero ja esta na lista\n",
    "    if valor not in lista:\n",
    "        lista.append(valor)\n",
    "        print(f\"Valor {valor} adicionado a lista com sucesso\")\n",
    "    else:\n",
    "        print(f\"O Valor {valor} ja existe na lista e não sera adicionado!\")\n",
    "\n",
    "# Ordenando a lista em ordem crescente\n",
    "lista.sort()\n",
    "\n",
    "# Imprimindo o resultado\n",
    "print(f\"\\nOs valores digitados, em ordem crescente foram: {lista} \")"
   ]
  },
  {
   "attachments": {},
   "cell_type": "markdown",
   "metadata": {
    "collapsed": false
   },
   "source": [
    "#### Explicando o codigo 9 Valores unicos em uma lista\n",
    "    O programa começa criando uma lista vazia . Em seguida, ele utiliza um loop para ler os valores numéricos digitados pelo usuário e adicioná-los à lista. O loop irá parar quando o usuário digitar zero.listawhile\n",
    "\n",
    "    Dentro do loop, o programa verifica se o valor digitado já existe na lista. Caso não exista, ele é adicionado à lista e uma mensagem de sucesso é exibida. Caso contrário, uma mensagem de aviso é exibida informando que o valor já existe na lista.\n",
    "\n",
    "    Depois de todos os valores terem sido digitados e adicionados à lista, o programa ordena a lista em ordem crescente utilizando o método .sort()\n",
    "\n",
    "    Por fim, o programa exibe a lista final contendo todos os valores únicos digitados em ordem crescente. O resultado será algo como:"
   ]
  },
  {
   "attachments": {},
   "cell_type": "markdown",
   "metadata": {
    "collapsed": false
   },
   "source": [
    "## 10 – Lista ordenada sem repetições\n",
    "Crie um programa onde o usuário possa digitar cinco valores numéricos e cadastre-os em uma lista, já na posição correta de inserção (sem usar o sort()). No final, mostre a lista ordenada na tela."
   ]
  },
  {
   "cell_type": "code",
   "execution_count": null,
   "metadata": {
    "collapsed": false
   },
   "outputs": [],
   "source": [
    "# Criando a lista vazia\n",
    "lista = []\n",
    "\n",
    "# Lendo os valores do usuario e inserindo na posição digitada\n",
    "for i in range(5):\n",
    "    valor = int(input(f\"Digite o {i} valor: \"))\n",
    "\n",
    "    # Condição e adicionando os valores a lista\n",
    "    if i == 0:\n",
    "        lista.append(valor)\n",
    "    else:\n",
    "        posicao = 0\n",
    "        while posicao < len(lista) and valor > lista[posicao]:\n",
    "            posicao += 1\n",
    "        lista.insert(posicao, valor)\n",
    "\n",
    "# Exibindo a lista ordenada\n",
    "print(f\"Lista ordenada {lista}\")"
   ]
  },
  {
   "attachments": {},
   "cell_type": "markdown",
   "metadata": {
    "collapsed": false
   },
   "source": [
    "#### Explicando o codigo 10 lista ordenada sem repetições\n",
    "\n",
    "    No exemplo acima, a lista é inicializada vazia. Em seguida, um loop é usado para ler os valores digitados pelo usuário e inseri-los na posição correta na lista.lista\n",
    "\n",
    "    O primeiro valor digitado é adicionado à lista diretamente, já que não há nenhum valor anterior para compará-lo.\n",
    "\n",
    "    Para os demais valores, usamos um loop para encontrar a posição correta do valor na lista, comparando-o com cada valor já existente. A posição correta é encontrada quando o valor digitado for menor ou igual ao valor da lista na posição atual. Em seguida, o método é usado para inserir o valor na posição correta.whileinsert\n",
    "\n",
    "    Por fim, a lista ordenada é exibida na tela.\n",
    "\n",
    "    Note que, embora este método funcione para listas pequenas, ele pode ser menos eficiente do que o uso de bibliotecas como para ordenar listas maiores, pois a complexidade do algoritmo é maior.bisect"
   ]
  },
  {
   "cell_type": "code",
   "execution_count": null,
   "metadata": {
    "collapsed": false
   },
   "outputs": [],
   "source": []
  },
  {
   "attachments": {},
   "cell_type": "markdown",
   "metadata": {
    "collapsed": false
   },
   "source": [
    "## 11 – Extraindo dados de uma Lista\n",
    "Crie um programa e comentários que vai ler vários números e colocar em uma lista.\n",
    "Depois disso, mostre.\n",
    "A) Quantos números foram digitados\n",
    "B) A lista de valores, ordenada de forma decrescente\n",
    "C) Se o valor 5 foi digitado e está ou não na lista.\n"
   ]
  },
  {
   "cell_type": "code",
   "execution_count": null,
   "metadata": {
    "collapsed": false
   },
   "outputs": [],
   "source": [
    "# Criando uma lista vazia para armazena os numeros\n",
    "numeros = []\n",
    "\n",
    "# Inicia um loop infinito para ler os numeros\n",
    "while True:\n",
    "    # le um numero inteiro do usuario\n",
    "    num = int(input(\"Digite um numero, [0 Para encerra o programa]: \"))\n",
    "\n",
    "    # Se o numero for 0, encerre o programa\n",
    "    if num == 0:\n",
    "        break\n",
    "\n",
    "    # Adiciona o numero a lista\n",
    "    numeros.append(num)\n",
    "\n",
    "# Exibe o numero de elementos na lista\n",
    "print(f\"Voce digitou {len(numeros)} numeros\")\n",
    "\n",
    "# Exibe a lista em ordem decrescente\n",
    "numeros.sort(reverse=True)\n",
    "print(f\"Lista em Ordem Descrescente: {numeros}\")\n",
    "\n",
    "# Verifica se o numero 5 esta na lista e exibe o resultado\n",
    "if 5 in numeros:\n",
    "    print(\"O Numero 5 esta na lista\")\n",
    "else:\n",
    "    print(\"O Numero 5 Não esta na lista\")"
   ]
  },
  {
   "attachments": {},
   "cell_type": "markdown",
   "metadata": {
    "collapsed": false
   },
   "source": [
    "#### Explicando 11 – Extraindo dados de uma Lista\n",
    "\n",
    "    O programa começa criando uma lista vazia para armazenar os números digitados pelo usuário. Em seguida, inicia um loop infinito que só será interrompido quando o usuário digitar o número 0.numeros\n",
    "\n",
    "    Dentro do loop, o programa lê um número inteiro do usuário e verifica se ele é igual a zero. Se for, o loop é interrompido. Caso contrário, o número é adicionado à lista .numeros\n",
    "\n",
    "        Após o loop, o programa exibe o número de elementos na lista usando a função . Em seguida, a lista é ordenada em ordem decrescente usando o método com o parâmetro . Por fim, o programa verifica se o número 5 está na lista usando o operador e exibe uma mensagem apropriada.'len()'sort()reverse=True in"
   ]
  },
  {
   "attachments": {},
   "cell_type": "markdown",
   "metadata": {
    "collapsed": false
   },
   "source": [
    "## 12 – Dividindo valores em várias listas\n",
    "Crie um programa que vai ler vários números e colocar em uma lista. Depois disso, crie duas listas extras que vão conter apenas os valores pares e os valores ímpares digitados, respectivamente. Ao final, mostre o conteúdo das três listas geradas."
   ]
  },
  {
   "cell_type": "code",
   "execution_count": null,
   "metadata": {
    "collapsed": false
   },
   "outputs": [],
   "source": [
    "# Criando uma lista vazia para armazena os numeros\n",
    "numeros = []\n",
    "\n",
    "# Le os numeros digitados e adiciona a lista\n",
    "while True:\n",
    "    num = int(input(\"Digite um numero [0 Stop]: \"))\n",
    "    if num == 0:\n",
    "        break\n",
    "    numeros.append(num)\n",
    "\n",
    "# Criando as listas vazias para armazena os numeros PARES e IMPARES\n",
    "pares = []\n",
    "impares = []\n",
    "\n",
    "# Percorre a lista de numeros e adiciona os pares e impares em suas listas\n",
    "for num in numeros:\n",
    "    if num % 2 == 0:\n",
    "        pares.append(num)\n",
    "    else:\n",
    "        impares.append(num)\n",
    "\n",
    "# Exibe o conteudo das tres listas\n",
    "print(f\"Ao todo foram {numeros} digitados\")\n",
    "print(f\"Os numeros PARES digitados foram {pares}\")\n",
    "print(f\"Os numeros IMPARES digitados foram {impares}\")"
   ]
  },
  {
   "attachments": {},
   "cell_type": "markdown",
   "metadata": {
    "collapsed": false
   },
   "source": [
    "#### Explicando o codigo 12 – Dividindo valores em várias listas\n",
    "\n",
    "    O programa começa criando uma lista vazia para armazenar os números digitados pelo usuário. Em seguida, o programa entra em um loop que só é interrompido quando o usuário digita 0. Dentro do loop, o programa lê um número inteiro do usuário e adiciona à lista .numerosnumeros\n",
    "\n",
    "    Depois de ter lido todos os números, o programa cria duas listas vazias, e , que vão conter os números pares e ímpares, respectivamente. O programa percorre a lista com um loop , verificando se cada número é par ou ímpar. Se for par, ele é adicionado à lista , caso contrário, é adicionado à lista .paresimparesnumerosforparesimpares\n",
    "\n",
    "    Por fim, o programa exibe o conteúdo das três listas usando a função .print()"
   ]
  },
  {
   "cell_type": "code",
   "execution_count": null,
   "metadata": {
    "collapsed": false
   },
   "outputs": [],
   "source": []
  },
  {
   "attachments": {},
   "cell_type": "markdown",
   "metadata": {
    "collapsed": false
   },
   "source": [
    "## 13 – Validando expressões matemáticas\n",
    "Crie um programa onde o usuário digite uma expressão qualquer que use parênteses. Seu aplicativo deverá analisar se a expressão passada está com os parênteses abertos e fechados na ordem correta."
   ]
  },
  {
   "cell_type": "code",
   "execution_count": null,
   "metadata": {
    "collapsed": false
   },
   "outputs": [],
   "source": [
    "# Solicita que o usuario digite uma expressao Matematica\n",
    "expressao = input(\"Digite a expressão: \")\n",
    "\n",
    "# Cria uma lista vazia para armazena os parametros da lista\n",
    "pilha = []\n",
    "\n",
    "# Percorre cada cacatere da expressao\n",
    "for caracter in expressao:\n",
    "    # Se o caractere for parentese de abertura, adicione na lista pilha\n",
    "    if caracter == '(':\n",
    "        pilha.append(caracter)\n",
    "\n",
    "    # Se o caractere for um parêntese de fechamento e a lista pilha estiver vazia, significa que a expressão está incorreta\n",
    "    elif caracter == ')' and len(pilha) == 0:\n",
    "        pilha.append(caracter)\n",
    "        break\n",
    "\n",
    "\n",
    "    # Se o caractere for um parêntese de fechamento e o último parêntese adicionado na lista pilha for um\n",
    "    # parêntese de abertura, remove o parêntese de abertura da lista pilha\n",
    "    elif caracter == ')' and pilha[-1] == '(':\n",
    "        pilha.pop()\n",
    "\n",
    "    # Se o caractere for diferente de parênteses, segue para o próximo caractere\n",
    "    else:\n",
    "        continue\n",
    "\n",
    "# Se a lista pilha estiver vazia, significa que a expressão está correta\n",
    "if len(pilha) == 0:\n",
    "    print(f\"A expressão e valida\")\n",
    "\n",
    "# Caso contrario, a expresso esta incorreta\n",
    "print(\"A expressao e invalida\")\n",
    "\n"
   ]
  },
  {
   "attachments": {},
   "cell_type": "markdown",
   "metadata": {
    "collapsed": false
   },
   "source": [
    "#### Explicando 13 – Validando expressões matemáticas\n",
    "\n",
    "\n",
    "Passo a passo:\n",
    "\n",
    "* Solicita ao usuário que digite uma expressão matemática que contenha parênteses e armazena na variável .expressao\n",
    "* Cria uma lista vazia chamada  para armazenar os parênteses da expressão.pilha\n",
    "* Percorre cada caractere da expressão utilizando um loop .for\n",
    "* Se o caractere for um parêntese de abertura, adiciona na lista .pilha\n",
    "* Se o caractere for um parêntese de fechamento e a lista  estiver vazia, adiciona o parêntese de fechamento na lista  e sai do loop , indicando que a expressão está incorreta.pilhapilhafor\n",
    "* Se o caractere for um parêntese de fechamento e o último parêntese adicionado na lista  for um parêntese de abertura, remove o parêntese de abertura da lista .pilhapilha\n",
    "* Se o caractere for diferente de parênteses, segue para o próximo caractere.\n",
    "* Após percorrer todos os caracteres da expressão, verifica se a lista  está vazia.pilha\n",
    "* Se a lista  estiver vazia, significa que a expressão está correta e exibe a mensagem \"A expressão é válida!\".pilha\n",
    "* Caso contrário, a lista  ainda contém parênteses que não foram fechados na ordem correta e exibe a mensagem \"A expressão é inválida!\".pilha\n"
   ]
  },
  {
   "cell_type": "code",
   "execution_count": null,
   "metadata": {
    "collapsed": false
   },
   "outputs": [],
   "source": []
  },
  {
   "attachments": {},
   "cell_type": "markdown",
   "metadata": {
    "collapsed": false
   },
   "source": [
    "## 14 – Lista composta e análise de dados\n",
    "Faça um programa que leia nome e peso de várias pessoas, guardando tudo em uma lista. No final, mostre\n",
    "A) Quantas pessoas foram cadastradas\n",
    "B) Uma listagem com as pessoas mais pesadas\n",
    "C) Uma listagem com as pessoas mais leves\n"
   ]
  },
  {
   "cell_type": "code",
   "execution_count": 6,
   "metadata": {
    "ExecuteTime": {
     "end_time": "2023-05-04T20:50:36.575339Z",
     "start_time": "2023-05-04T20:50:11.152231Z"
    },
    "collapsed": false
   },
   "outputs": [
    {
     "name": "stdout",
     "output_type": "stream",
     "text": [
      "Foram cadastradas 5 pessoas\n",
      "As 3 pessoa mais pesadas são:\n",
      "1. Nome: Miguel | Peso: 120.0 kg\n",
      "2. Nome: Maria | Peso: 89.0 kg\n",
      "3. Nome: Artu | Peso: 78.0 kg\n",
      "Pessoas mais leves:\n",
      "1. Nome: Artu | Peso: 78.0 kg\n",
      "2. Nome: Carlos | Peso: 54.0 kg\n",
      "3. Nome: Mila | Peso: 45.0 kg\n"
     ]
    }
   ],
   "source": [
    "# Criando uma lista para armazena os dados das pessoas\n",
    "pessoas = []\n",
    "\n",
    "while True:\n",
    "    # Lendo o nome e o peso da pessoa\n",
    "    nome = str(input(\"Digite o nome da pessoa: \")).title()\n",
    "    peso = float(input(f\"Digite o peso do(a) {nome:>12}: \"))\n",
    "\n",
    "    # Adicionando os dados da pessoa a lista\n",
    "    pessoas.append([nome, peso])\n",
    "\n",
    "    # Perguntando ao usuario se ele deseja continuar\n",
    "    resp = input(\"Deseja continuar? [S/N]: \").upper()\n",
    "\n",
    "    # caso a resposta seja diferente de \"S\", saímos do loop\n",
    "    if resp != 'S':\n",
    "        break\n",
    "\n",
    "# Imprimindo a quantidade de pessoas cadastradas\n",
    "print(f\"Foram cadastradas {len(pessoas)} pessoas\")\n",
    "\n",
    "# Ordenando a lista de pessoas pelo peso (do maior para o menor)\n",
    "pessoas.sort(key=lambda x: x[1], reverse=True)\n",
    "\n",
    "# Imprimindo as pessoas mais pesadas (considerando ate 3 pessoas com o maior peso)\n",
    "print(\"As 3 pessoa mais pesadas são:\")\n",
    "for i, pessoa in enumerate(pessoas[:3]):\n",
    "    print(f\"{i+1}. Nome: {pessoa[0]} | Peso: {pessoa[1]} kg\")\n",
    "\n",
    "# imprimindo as pessoas mais leves (considerando até 3 pessoas com o menor peso)\n",
    "print(\"Pessoas mais leves:\")\n",
    "for i, pessoa in enumerate(pessoas[-3:]):\n",
    "    print(f\"{i+1}. Nome: {pessoa[0]} | Peso: {pessoa[1]} kg\")\n"
   ]
  },
  {
   "attachments": {},
   "cell_type": "markdown",
   "metadata": {
    "collapsed": false
   },
   "source": [
    "#### Explicando o codigo 14 Lista composta\n",
    "\n",
    "    Explicação passo a passo:\n",
    "\n",
    "    Criamos uma lista vazia chamada para armazenar os dados das pessoas que serão cadastradas.pessoas\n",
    "    Iniciamos um loop infinito com a palavra-chave .while True\n",
    "        Dentro do loop, pedimos ao usuário que digite o nome e o peso da pessoa que deseja cadastrar. O peso é convertido para o tipo .float\n",
    "    Adicionamos os dados da pessoa à lista , utilizando uma lista aninhada para armazenar o nome e o peso separadamente.pessoas\n",
    "    Perguntamos ao usuário se ele deseja continuar cadastrando pessoas. A resposta é armazenada na variável  e convertida para letras maiúsculas utilizando os métodos  e .respstrip()upper()\n",
    "    Caso a resposta do usuário seja diferente de \"S\", saímos do loop utilizando a palavra-chave .break\n",
    "    Fora do loop, imprimimos a quantidade de pessoas cadastradas utilizando a função  da lista .len()pessoas\n",
    "    Ordenamos a lista  pelo peso das pessoas, utilizando a função  e passando uma função lambda como argumento, que retorna o valor do índice 1 da sublista (ou seja, o peso).pessoassort()\n",
    "    Imprimimos as pessoas mais pesadas, utilizando a função  para gerar um índice para cada pessoa. Consideramos apenas as 3 primeiras pessoas da lista (aquelas com o maior peso), utilizando o operador de fatiamento .enumerate()[:3]\n",
    "    Imprimimos as pessoas mais leves, utilizando novamente a função  para gerar um índice para cada pessoa. Consideramos apenas as 3 últimas pessoas da lista (aquelas com o menor pesoenumerate()\n",
    "\n",
    "\n",
    "\n",
    "\n"
   ]
  },
  {
   "cell_type": "code",
   "execution_count": null,
   "metadata": {
    "collapsed": false
   },
   "outputs": [],
   "source": []
  },
  {
   "cell_type": "code",
   "execution_count": null,
   "metadata": {
    "collapsed": false
   },
   "outputs": [],
   "source": []
  }
 ],
 "metadata": {
  "kernelspec": {
   "display_name": "Python 3",
   "language": "python",
   "name": "python3"
  },
  "language_info": {
   "codemirror_mode": {
    "name": "ipython",
    "version": 2
   },
   "file_extension": ".py",
   "mimetype": "text/x-python",
   "name": "python",
   "nbconvert_exporter": "python",
   "pygments_lexer": "ipython2",
   "version": "2.7.6"
  }
 },
 "nbformat": 4,
 "nbformat_minor": 0
}

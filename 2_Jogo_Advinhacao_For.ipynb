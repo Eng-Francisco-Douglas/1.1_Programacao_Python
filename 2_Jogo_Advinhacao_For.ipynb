{
 "cells": [
  {
   "cell_type": "code",
   "execution_count": 1,
   "metadata": {},
   "outputs": [
    {
     "name": "stdout",
     "output_type": "stream",
     "text": [
      "*********************************\n",
      "Bem vindo ao jogo de Adivinhação!\n",
      "*********************************\n",
      "Qual o nível de dificuldade?\n",
      "(1) Fácil (2) Médio (3) Difícil\n",
      "Tentativa 1 de 5\n",
      "Você digitou  2\n",
      "Você errou! O seu chute foi menor do que o número secreto.\n",
      "Tentativa 2 de 5\n",
      "Você digitou  2\n",
      "Você errou! O seu chute foi menor do que o número secreto.\n",
      "Tentativa 3 de 5\n",
      "Você digitou  2\n",
      "Você errou! O seu chute foi menor do que o número secreto.\n",
      "Tentativa 4 de 5\n",
      "Você digitou  2\n",
      "Você errou! O seu chute foi menor do que o número secreto.\n",
      "Tentativa 5 de 5\n",
      "Você digitou  2\n",
      "Você errou! O seu chute foi menor do que o número secreto.\n",
      "Fim do jogo\n"
     ]
    }
   ],
   "source": [
    "import random\n",
    "\n",
    "print(\"*********************************\")\n",
    "print(\"Bem vindo ao jogo de Adivinhação!\")\n",
    "print(\"*********************************\")\n",
    "\n",
    "numero_secreto = random.randrange(1,20)\n",
    "total_de_tentativas = 0\n",
    "pontos = 1000\n",
    "\n",
    "print(\"Qual o nível de dificuldade?\")\n",
    "print(\"(1) Fácil (2) Médio (3) Difícil\")\n",
    "\n",
    "nivel = int(input(\"Defina o nível: \"))\n",
    "\n",
    "if(nivel == 1):\n",
    "    total_de_tentativas = 20\n",
    "elif(nivel == 2):\n",
    "    total_de_tentativas = 10\n",
    "else:\n",
    "    total_de_tentativas = 5\n",
    "\n",
    "for rodada in range(1, total_de_tentativas + 1):\n",
    "    print(\"Tentativa {} de {}\".format(rodada, total_de_tentativas))\n",
    "\n",
    "    chute_str = input(\"Digite um número entre 1 e 100: \")\n",
    "    print(\"Você digitou \" , chute_str)\n",
    "    chute = int(chute_str)\n",
    "\n",
    "    if(chute < 1 or chute > 100):\n",
    "        print(\"Você deve digitar um número entre 1 e 100!\")\n",
    "        continue\n",
    "\n",
    "    acertou = chute == numero_secreto\n",
    "    maior   = chute > numero_secreto\n",
    "    menor   = chute < numero_secreto\n",
    "\n",
    "    if(acertou):\n",
    "        print(\"Você acertou e fez {} pontos!\".format(pontos))\n",
    "        break\n",
    "    else:\n",
    "        if(maior):\n",
    "            print(\"Você errou! O seu chute foi maior do que o número secreto.\")\n",
    "        elif(menor):\n",
    "            print(\"Você errou! O seu chute foi menor do que o número secreto.\")\n",
    "        pontos_perdidos = abs(numero_secreto - chute)\n",
    "        pontos = pontos - pontos_perdidos\n",
    "\n",
    "print(\"Fim do jogo\")      "
   ]
  },
  {
   "cell_type": "code",
   "execution_count": null,
   "metadata": {},
   "outputs": [],
   "source": []
  }
 ],
 "metadata": {
  "kernelspec": {
   "display_name": "Python 3 (ipykernel)",
   "language": "python",
   "name": "python3"
  },
  "language_info": {
   "codemirror_mode": {
    "name": "ipython",
    "version": 3
   },
   "file_extension": ".py",
   "mimetype": "text/x-python",
   "name": "python",
   "nbconvert_exporter": "python",
   "pygments_lexer": "ipython3",
   "version": "3.10.9"
  }
 },
 "nbformat": 4,
 "nbformat_minor": 2
}

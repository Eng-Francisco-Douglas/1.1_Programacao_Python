{
 "cells": [
  {
   "cell_type": "markdown",
   "metadata": {},
   "source": [
    "# POO"
   ]
  },
  {
   "cell_type": "markdown",
   "metadata": {
    "collapsed": true
   },
   "source": [
    "Orientação a Objetos é um paradigma de programação baseado no conceito de Classes e Objetos. Classes podem conter dados e código: Dados na forma de campos (também chamados de atributos ou propriedades) e Código, na forma de procedimentos (frequentemente conhecidos como métodos)². Na POO, os programas são projetados a partir de objetos que interagem uns com os outros. Esse paradigma se concentra nos objetos que os desenvolvedores desejam manipular, ao invés da lógica necessária para manipulá-los².\n",
    "\n",
    "Python já nasceu sendo uma linguagem de programação multi-paradigma, isto é: é possível programar em Python de maneira Imperativa, Funcional e também no paradigma que será abordado nesse post, utilizando conceitos da Programação Orientada a Objetos². Criar e usar Classes e Objetos é muito fácil em Python².\n",
    "\n",
    "Caso queira saber mais sobre algum aspecto específico da Orientação a Objetos em Python?\n",
    "\n",
    "(1) Programação Orientada a Objetos no Python: Introdução. https://pythonacademy.com.br/blog/introducao-a-programacao-orientada-a-objetos-no-python.\n",
    "(2) Orientação a Objetos em Python - O que é? - Hashtag Treinamentos. https://bing.com/search?q=O+que+%c3%a9+Orienta%c3%a7%c3%a3o+a+Objetos+no+Python.\n",
    "(3) Orientação a objetos em Python | Blog TreinaWeb. https://www.treinaweb.com.br/blog/orientacao-a-objetos-em-python/.\n",
    "(4) Orientação a Objetos em Python - O que é? - Hashtag Treinamentos. https://www.hashtagtreinamentos.com/orientacao-a-objetos-em-python.\n",
    "(5) Um Guia para Iniciantes em Programação Orientada a Objetos (POO) Python. https://kinsta.com/pt/blog/programacao-orientada-objetos-python/.\n",
    "(6) Classes e Objetos - Fundamentos — Como pensar como um Cientista da .... https://panda.ime.usp.br/pensepy/static/pensepy/13-Classes/classesintro.html."
   ]
  },
  {
   "cell_type": "code",
   "execution_count": 3,
   "metadata": {},
   "outputs": [
    {
     "name": "stdout",
     "output_type": "stream",
     "text": [
      "Auau\n",
      "True\n",
      "Zzzzzz\n",
      "False\n"
     ]
    }
   ],
   "source": [
    "# Exemplo Classe\n",
    "class Cachorro:\n",
    "    def __init__(self, nome, cor, acordado=True):\n",
    "        self.nome = nome\n",
    "        self.cor = cor\n",
    "        self.acordado = acordado\n",
    "    \n",
    "    def latir(self):\n",
    "        print(\"Auau\")\n",
    "    \n",
    "    def dormir(self):\n",
    "        self.acordado = False\n",
    "        print(\"Zzzzzz\")\n",
    "        \n",
    "# Objeto\n",
    "cao_1 = Cachorro(\"chappie\", 'amarelo', False)\n",
    "cao_2 = Cachorro(\"Aladim\", 'branco e preto')\n",
    "\n",
    "cao_1.latir()\n",
    "print(cao_2.acordado)\n",
    "cao_2.dormir()\n",
    "print(cao_2.acordado)"
   ]
  },
  {
   "cell_type": "code",
   "execution_count": null,
   "metadata": {},
   "outputs": [],
   "source": []
  },
  {
   "cell_type": "code",
   "execution_count": null,
   "metadata": {},
   "outputs": [],
   "source": []
  },
  {
   "cell_type": "code",
   "execution_count": null,
   "metadata": {},
   "outputs": [],
   "source": []
  },
  {
   "cell_type": "code",
   "execution_count": null,
   "metadata": {},
   "outputs": [],
   "source": []
  },
  {
   "cell_type": "code",
   "execution_count": null,
   "metadata": {},
   "outputs": [],
   "source": []
  },
  {
   "cell_type": "code",
   "execution_count": null,
   "metadata": {},
   "outputs": [],
   "source": []
  },
  {
   "cell_type": "code",
   "execution_count": null,
   "metadata": {},
   "outputs": [],
   "source": []
  },
  {
   "cell_type": "code",
   "execution_count": null,
   "metadata": {},
   "outputs": [],
   "source": []
  },
  {
   "cell_type": "code",
   "execution_count": null,
   "metadata": {},
   "outputs": [],
   "source": []
  },
  {
   "cell_type": "code",
   "execution_count": null,
   "metadata": {},
   "outputs": [],
   "source": []
  },
  {
   "cell_type": "code",
   "execution_count": null,
   "metadata": {},
   "outputs": [],
   "source": []
  },
  {
   "cell_type": "code",
   "execution_count": null,
   "metadata": {},
   "outputs": [],
   "source": []
  },
  {
   "cell_type": "code",
   "execution_count": null,
   "metadata": {},
   "outputs": [],
   "source": []
  },
  {
   "cell_type": "code",
   "execution_count": null,
   "metadata": {},
   "outputs": [],
   "source": []
  },
  {
   "cell_type": "code",
   "execution_count": null,
   "metadata": {},
   "outputs": [],
   "source": []
  },
  {
   "cell_type": "code",
   "execution_count": null,
   "metadata": {},
   "outputs": [],
   "source": []
  },
  {
   "cell_type": "code",
   "execution_count": null,
   "metadata": {},
   "outputs": [],
   "source": []
  },
  {
   "cell_type": "code",
   "execution_count": null,
   "metadata": {},
   "outputs": [],
   "source": []
  },
  {
   "cell_type": "code",
   "execution_count": null,
   "metadata": {},
   "outputs": [],
   "source": []
  },
  {
   "cell_type": "code",
   "execution_count": null,
   "metadata": {},
   "outputs": [],
   "source": []
  },
  {
   "cell_type": "code",
   "execution_count": null,
   "metadata": {},
   "outputs": [],
   "source": []
  },
  {
   "cell_type": "code",
   "execution_count": null,
   "metadata": {},
   "outputs": [],
   "source": []
  },
  {
   "cell_type": "code",
   "execution_count": null,
   "metadata": {},
   "outputs": [],
   "source": []
  }
 ],
 "metadata": {
  "kernelspec": {
   "display_name": "Python 3 (ipykernel)",
   "language": "python",
   "name": "python3"
  },
  "language_info": {
   "codemirror_mode": {
    "name": "ipython",
    "version": 3
   },
   "file_extension": ".py",
   "mimetype": "text/x-python",
   "name": "python",
   "nbconvert_exporter": "python",
   "pygments_lexer": "ipython3",
   "version": "3.10.9"
  }
 },
 "nbformat": 4,
 "nbformat_minor": 1
}

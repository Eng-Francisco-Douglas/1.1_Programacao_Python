{
 "cells": [
  {
   "cell_type": "code",
   "execution_count": 1,
   "metadata": {
    "colab": {
     "base_uri": "https://localhost:8080/",
     "height": 53
    },
    "executionInfo": {
     "elapsed": 13,
     "status": "ok",
     "timestamp": 1686519809918,
     "user": {
      "displayName": "Francisco Douglas",
      "userId": "10966320178514607665"
     },
     "user_tz": 180
    },
    "id": "MDjO64PJabpp",
    "outputId": "ed00b26d-a8e4-441b-ddd5-bef12059f919"
   },
   "outputs": [
    {
     "data": {
      "text/plain": [
       "'\\nUtilitarios Python Para Que Auxiliar na programação\\n\\nDir - Apresena todos os atributos e funções/metodos\\n\\nHelp - Apresenta a documentação/como atributos/propriedades\\n'"
      ]
     },
     "execution_count": 1,
     "metadata": {},
     "output_type": "execute_result"
    }
   ],
   "source": [
    "'''\n",
    "Utilitarios Python Para Que Auxiliar na programação\n",
    "\n",
    "Dir - Apresena todos os atributos e funções/metodos\n",
    "\n",
    "Help - Apresenta a documentação/como atributos/propriedades\n",
    "'''"
   ]
  },
  {
   "cell_type": "code",
   "execution_count": 2,
   "metadata": {
    "colab": {
     "base_uri": "https://localhost:8080/"
    },
    "executionInfo": {
     "elapsed": 7,
     "status": "ok",
     "timestamp": 1686519814310,
     "user": {
      "displayName": "Francisco Douglas",
      "userId": "10966320178514607665"
     },
     "user_tz": 180
    },
    "id": "u_R8DG55abpw",
    "outputId": "58ec2536-a299-4b94-ed70-65e5a7fa484c"
   },
   "outputs": [
    {
     "name": "stdout",
     "output_type": "stream",
     "text": [
      "['__add__', '__class__', '__contains__', '__delattr__', '__dir__', '__doc__', '__eq__', '__format__', '__ge__', '__getattribute__', '__getitem__', '__getnewargs__', '__gt__', '__hash__', '__init__', '__init_subclass__', '__iter__', '__le__', '__len__', '__lt__', '__mod__', '__mul__', '__ne__', '__new__', '__reduce__', '__reduce_ex__', '__repr__', '__rmod__', '__rmul__', '__setattr__', '__sizeof__', '__str__', '__subclasshook__', 'capitalize', 'casefold', 'center', 'count', 'encode', 'endswith', 'expandtabs', 'find', 'format', 'format_map', 'index', 'isalnum', 'isalpha', 'isascii', 'isdecimal', 'isdigit', 'isidentifier', 'islower', 'isnumeric', 'isprintable', 'isspace', 'istitle', 'isupper', 'join', 'ljust', 'lower', 'lstrip', 'maketrans', 'partition', 'removeprefix', 'removesuffix', 'replace', 'rfind', 'rindex', 'rjust', 'rpartition', 'rsplit', 'rstrip', 'split', 'splitlines', 'startswith', 'strip', 'swapcase', 'title', 'translate', 'upper', 'zfill']\n"
     ]
    }
   ],
   "source": [
    "# Dir\n",
    "texto = 'Francisco Douglas'\n",
    "print(dir(texto))"
   ]
  },
  {
   "cell_type": "code",
   "execution_count": 3,
   "metadata": {
    "colab": {
     "base_uri": "https://localhost:8080/"
    },
    "executionInfo": {
     "elapsed": 10,
     "status": "ok",
     "timestamp": 1686519817823,
     "user": {
      "displayName": "Francisco Douglas",
      "userId": "10966320178514607665"
     },
     "user_tz": 180
    },
    "id": "Zlajx2F9abpx",
    "outputId": "921a0b92-d801-47f5-e243-1559c4737e89"
   },
   "outputs": [
    {
     "name": "stdout",
     "output_type": "stream",
     "text": [
      "Help on built-in function zfill:\n",
      "\n",
      "zfill(width, /) method of builtins.str instance\n",
      "    Pad a numeric string with zeros on the left, to fill a field of the given width.\n",
      "    \n",
      "    The string is never truncated.\n",
      "\n",
      "None\n"
     ]
    }
   ],
   "source": [
    "# Help\n",
    "print(help(texto.zfill))"
   ]
  },
  {
   "cell_type": "code",
   "execution_count": 4,
   "metadata": {
    "colab": {
     "base_uri": "https://localhost:8080/"
    },
    "executionInfo": {
     "elapsed": 420,
     "status": "ok",
     "timestamp": 1686519826935,
     "user": {
      "displayName": "Francisco Douglas",
      "userId": "10966320178514607665"
     },
     "user_tz": 180
    },
    "id": "8VD28NMWabpy",
    "outputId": "1cded2dd-a5eb-4368-fec0-718eaa7a8c22"
   },
   "outputs": [
    {
     "name": "stdout",
     "output_type": "stream",
     "text": [
      "Francisco\n"
     ]
    }
   ],
   "source": [
    "# Recebendo Dados do Usuario\n",
    "nome = 'Francisco'  # Recebe o dado\n",
    "print(nome) # Saida do dado"
   ]
  },
  {
   "cell_type": "code",
   "execution_count": 5,
   "metadata": {
    "colab": {
     "base_uri": "https://localhost:8080/"
    },
    "executionInfo": {
     "elapsed": 7881,
     "status": "ok",
     "timestamp": 1686519837001,
     "user": {
      "displayName": "Francisco Douglas",
      "userId": "10966320178514607665"
     },
     "user_tz": 180
    },
    "id": "Q1elunqqabpz",
    "outputId": "2cbc1d4b-5de4-42f1-ae0b-67dfc1ffae22"
   },
   "outputs": [
    {
     "name": "stdin",
     "output_type": "stream",
     "text": [
      "Nome:  df\n"
     ]
    },
    {
     "name": "stdout",
     "output_type": "stream",
     "text": [
      "df\n"
     ]
    }
   ],
   "source": [
    "# Recebendo dado com o (input)\n",
    "nome = input('Nome: ') # Recebe\n",
    "print(nome) # Saida"
   ]
  },
  {
   "cell_type": "code",
   "execution_count": 6,
   "metadata": {
    "colab": {
     "base_uri": "https://localhost:8080/"
    },
    "executionInfo": {
     "elapsed": 5744,
     "status": "ok",
     "timestamp": 1686519844702,
     "user": {
      "displayName": "Francisco Douglas",
      "userId": "10966320178514607665"
     },
     "user_tz": 180
    },
    "id": "4pENWLvjabpz",
    "outputId": "a3d19354-8825-4d12-dda5-9800903a50b8"
   },
   "outputs": [
    {
     "name": "stdout",
     "output_type": "stream",
     "text": [
      "Digite o Seu Nome: francisco\n",
      "Print Antigo: Seu nome e francisco\n",
      "Print Atual: Seu nome e francisco\n"
     ]
    }
   ],
   "source": [
    "# Modelos mais atuais do print\n",
    "nome = input('Digite o Seu Nome: ')\n",
    "print('Print Antigo: Seu nome e {}'.format(nome))\n",
    "print(f'Print Atual: Seu nome e {nome}')"
   ]
  },
  {
   "cell_type": "markdown",
   "metadata": {
    "id": "jNmpKgifabp0"
   },
   "source": [
    "#### **Em python, string e tudo que estiver entre:**\n",
    "\n",
    "- Aspas Simples;\n",
    "- Aspas Duplas;\n",
    "- Aspas Simples triplas\n",
    "- Aspas Duplas Tripças\n",
    "\n",
    "Ou Seja tudo que estive em aspas e considerado (string)\n"
   ]
  },
  {
   "cell_type": "code",
   "execution_count": 8,
   "metadata": {
    "colab": {
     "base_uri": "https://localhost:8080/",
     "height": 70
    },
    "executionInfo": {
     "elapsed": 417,
     "status": "ok",
     "timestamp": 1686519873071,
     "user": {
      "displayName": "Francisco Douglas",
      "userId": "10966320178514607665"
     },
     "user_tz": 180
    },
    "id": "YohJjj9Uabp3",
    "outputId": "4ecd6522-e1cc-4913-d8df-47412e24c5cc"
   },
   "outputs": [
    {
     "data": {
      "application/vnd.google.colaboratory.intrinsic+json": {
       "type": "string"
      },
      "text/plain": [
       "'Doi casos de escopo \\n\\n1- Variaves Globais:\\n   - Variaveis globais são reconhecidas, ou seja, seu escopo compreende, todo o programa\\n   \\n2- Variaveis Locais:\\n   - Variaveis Locas são reconhecidas apenas no bloco onde foram declaradas, ou seja, \\n   seu escopo esta limitado ao bloco oinde foi declarada\\n'"
      ]
     },
     "execution_count": 8,
     "metadata": {},
     "output_type": "execute_result"
    }
   ],
   "source": [
    "# Escopo de variaveis\n",
    "'''Doi casos de escopo \n",
    "\n",
    "1- Variaves Globais:\n",
    "   - Variaveis globais são reconhecidas, ou seja, seu escopo compreende, todo o programa\n",
    "   \n",
    "2- Variaveis Locais:\n",
    "   - Variaveis Locas são reconhecidas apenas no bloco onde foram declaradas, ou seja, \n",
    "   seu escopo esta limitado ao bloco oinde foi declarada\n",
    "'''"
   ]
  },
  {
   "cell_type": "code",
   "execution_count": 7,
   "metadata": {
    "colab": {
     "base_uri": "https://localhost:8080/"
    },
    "executionInfo": {
     "elapsed": 413,
     "status": "ok",
     "timestamp": 1686519869136,
     "user": {
      "displayName": "Francisco Douglas",
      "userId": "10966320178514607665"
     },
     "user_tz": 180
    },
    "id": "8xKKUEI6abp4",
    "outputId": "312723fb-268c-40d1-c435-8f0296e570a9"
   },
   "outputs": [
    {
     "name": "stdout",
     "output_type": "stream",
     "text": [
      "Este e um Exemplo de Variavel Local\n"
     ]
    }
   ],
   "source": [
    "variavel_global = 'Exemplo de Variavel Global'\n",
    "\n",
    "if len(variavel_global) > 20:\n",
    "    variavel_local = 'Este e um Exemplo de Variavel Local'\n",
    "    print(variavel_local)"
   ]
  },
  {
   "cell_type": "code",
   "execution_count": null,
   "metadata": {
    "id": "_aHUHOT9abp5"
   },
   "outputs": [],
   "source": []
  },
  {
   "cell_type": "code",
   "execution_count": null,
   "metadata": {
    "id": "KUQ5oLzIabp5"
   },
   "outputs": [],
   "source": []
  },
  {
   "cell_type": "code",
   "execution_count": null,
   "metadata": {
    "id": "t8gtNNHAabp5"
   },
   "outputs": [],
   "source": []
  },
  {
   "cell_type": "code",
   "execution_count": null,
   "metadata": {
    "id": "RsyCjWwKabp6"
   },
   "outputs": [],
   "source": []
  }
 ],
 "metadata": {
  "colab": {
   "provenance": [],
   "toc_visible": true
  },
  "kernelspec": {
   "display_name": "Python 3 (ipykernel)",
   "language": "python",
   "name": "python3"
  },
  "language_info": {
   "codemirror_mode": {
    "name": "ipython",
    "version": 3
   },
   "file_extension": ".py",
   "mimetype": "text/x-python",
   "name": "python",
   "nbconvert_exporter": "python",
   "pygments_lexer": "ipython3",
   "version": "3.10.9"
  }
 },
 "nbformat": 4,
 "nbformat_minor": 4
}

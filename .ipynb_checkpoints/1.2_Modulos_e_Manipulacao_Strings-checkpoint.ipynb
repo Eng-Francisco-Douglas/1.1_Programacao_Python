{
 "cells": [
  {
   "cell_type": "markdown",
   "id": "1c5c07c9",
   "metadata": {},
   "source": [
    "## 16 – Quebrando um número\n",
    "Crie um programa que leia um número Real qualquer pelo teclado e mostre na tela a sua porção Inteira."
   ]
  },
  {
   "cell_type": "code",
   "execution_count": 7,
   "id": "23e976f6",
   "metadata": {},
   "outputs": [
    {
     "name": "stdout",
     "output_type": "stream",
     "text": [
      "Digite um numero real: 456.78\n",
      "A Parte Inteira de 456.78 e 456\n",
      "A Parte inteira de 456.78 e 456\n"
     ]
    }
   ],
   "source": [
    "# Programa\n",
    "num = float(input(\"Digite um numero real: \"))\n",
    "\n",
    "# Imprimindo o Resultado\n",
    "print(f\"A Parte Inteira de {num} e {int(num)}\")\n",
    "print(f'A Parte inteira de {num} e {trunc(num)}')"
   ]
  },
  {
   "cell_type": "markdown",
   "id": "fe8ea0b5",
   "metadata": {},
   "source": [
    "#### Comentario\n",
    "    Explicando o código: primeiro, usamos a função para solicitar ao usuário que digite um número real. Em seguida, usamos a função para converter a entrada em um número de ponto flutuante.input()float()\n",
    "\n",
    "    Depois, usamos a função para obter a parte inteira do número e, em seguida, usamos a função para exibir o resultado na tela, usando a formatação de string para incorporar o valor da entrada e sua parte inteira correspondente na mensagem exibida.int()print()"
   ]
  },
  {
   "cell_type": "code",
   "execution_count": null,
   "id": "b4ea5a17",
   "metadata": {},
   "outputs": [],
   "source": []
  },
  {
   "cell_type": "markdown",
   "id": "986f20fd",
   "metadata": {},
   "source": [
    "## 17 – Catetos e Hipotenusa\n",
    "Faça um programa que leia o comprimento do cateto oposto e do cateto adjacente de um triângulo retângulo. Calcule e mostre o comprimento da hipotenusa."
   ]
  },
  {
   "cell_type": "code",
   "execution_count": 8,
   "id": "e73123a5",
   "metadata": {},
   "outputs": [
    {
     "name": "stdout",
     "output_type": "stream",
     "text": [
      "Digite o Comprimento do Cateto Oposto: 45\n",
      "Digite o Comprimento do Cateto Adjacente: 56\n",
      "O Comprimento da Hipotenuza sera de 71.84\n"
     ]
    }
   ],
   "source": [
    "# Primeiro vamos importa a biblioteca math\n",
    "import math\n",
    "\n",
    "cat_op = float(input(\"Digite o Comprimento do Cateto Oposto: \"))\n",
    "cat_adj = float(input(\"Digite o Comprimento do Cateto Adjacente: \"))\n",
    "\n",
    "# Calculando a Hipotenuza\n",
    "hipotenuza = math.sqrt(cat_op ** 2 + cat_adj ** 2)\n",
    "\n",
    "# Imprimindo o Resultado\n",
    "print(f\"O Comprimento da Hipotenuza sera de {hipotenuza:.2f}\")"
   ]
  },
  {
   "cell_type": "markdown",
   "id": "409ab503",
   "metadata": {},
   "source": [
    "#### Comentario 17 Cateto e Hipotenuza\n",
    "    Explicando o código: primeiro, importamos o módulo para usar a função que calcula a raiz quadrada de um número. Em seguida, usamos a função para solicitar ao usuário que digite o comprimento do cateto oposto e do cateto adjacente, e usamos a função para converter as entradas em números de ponto flutuante.mathsqrt()input()float()\n",
    "\n",
    "    Em seguida, usamos a fórmula de Pitágoras para calcular o comprimento da hipotenusa: , onde é o operador de exponenciação em Python.hip = sqrt(cat_op ** 2 + cat_adj ** 2)**\n",
    "\n",
    "    Por fim, usamos a função para exibir o resultado na tela, usando a formatação de string para limitar o número de casas decimais a 2.print()"
   ]
  },
  {
   "cell_type": "code",
   "execution_count": null,
   "id": "81fb3f8b",
   "metadata": {},
   "outputs": [],
   "source": []
  },
  {
   "cell_type": "markdown",
   "id": "65f0e303",
   "metadata": {},
   "source": [
    "## 18 – Seno, Cosseno e Tangente\n",
    "Faça um programa que leia um ângulo qualquer e mostre na tela o valor do seno, cosseno e tangente desse ângulo."
   ]
  },
  {
   "cell_type": "code",
   "execution_count": 11,
   "id": "51a93338",
   "metadata": {},
   "outputs": [
    {
     "name": "stdout",
     "output_type": "stream",
     "text": [
      "Digite o Valor do Angulo: 24\n",
      "Seno 0.41\n",
      "Cosseno 0.91\n",
      "Tangente 0.45\n"
     ]
    }
   ],
   "source": [
    "# Import da Biblioteca matematica\n",
    "import math\n",
    "\n",
    "# definindo o valor do Angulo\n",
    "angulo = float(input(\"Digite o Valor do Angulo: \"))\n",
    "\n",
    "# Converter seno, cosseno e tangente do angulo\n",
    "angulo_rad = math.radians(angulo)\n",
    "\n",
    "# Calcula seno, cosseno e tangente\n",
    "seno = math.sin(angulo_rad)\n",
    "cosseno = math.cos(angulo_rad)\n",
    "tangente = math.tan(angulo_rad)\n",
    "\n",
    "# Exibir os resultados\n",
    "print(f\"Seno {seno:.2f}\")\n",
    "print(f\"Cosseno {cosseno:.2f}\")\n",
    "print(f\"Tangente {tangente:.2f}\")"
   ]
  },
  {
   "cell_type": "markdown",
   "id": "5ce27f75",
   "metadata": {},
   "source": [
    "####  Comentario 18  Seno Cosseno Tangente\n",
    "    Explicando o código: primeiro, importamos o módulo para usar as funções trigonométricas , e é a função para converter o ângulo de graus para radianos.mathsin()cos()tan()radians()\n",
    "\n",
    "    Em seguida, usamos a função para solicitar ao usuário que digite o valor do ângulo em graus e usamos a função para converter a entrada em um número de ponto flutuante.input()float()\n",
    "\n",
    "    Depois, convertemos o ângulo de graus para radianos usando a função e, em seguida, calculamos o seno, cosseno e tangente do ângulo usando as funções trigonométricas.radians()\n",
    "\n",
    "    Por fim, usamos a função para exibir os resultados na tela, usando a formatação de string para limitar o número de casas decimais a 2.print()"
   ]
  },
  {
   "cell_type": "code",
   "execution_count": null,
   "id": "1054946c",
   "metadata": {},
   "outputs": [],
   "source": []
  },
  {
   "cell_type": "markdown",
   "id": "c97b51e4",
   "metadata": {},
   "source": [
    "## 19 – Sorteando um item na lista\n",
    "Um professor quer sortear um dos seus quatro alunos para apagar o quadro. Faça um programa que ajude ele, lendo o nome dos alunos e escrevendo na tela o nome do escolhido."
   ]
  },
  {
   "cell_type": "code",
   "execution_count": 14,
   "id": "80d70238",
   "metadata": {},
   "outputs": [
    {
     "name": "stdout",
     "output_type": "stream",
     "text": [
      "Nome do Primeiro Aluno: a\n",
      "Nome do Segundo Aluno: s\n",
      "Nome do Terceiro Aluno: d\n",
      "Nome do Quarto Aluno: f\n",
      "O Aluno escolhido pelo programa foi d\n"
     ]
    }
   ],
   "source": [
    "# Primeiro Vamos importa a Biblioteca\n",
    "from random import choice\n",
    "\n",
    "# Ler o nome dos quatro alunos\n",
    "aluno1 = input(\"Nome do Primeiro Aluno: \")\n",
    "aluno2 = input(\"Nome do Segundo Aluno: \")\n",
    "aluno3 = input(\"Nome do Terceiro Aluno: \")\n",
    "aluno4 = input(\"Nome do Quarto Aluno: \")\n",
    "\n",
    "# Coloca os nomes em uma lista\n",
    "alunos = [aluno1, aluno2, aluno3, aluno4]\n",
    "\n",
    "# Escolher um nome aleatoriamente\n",
    "escolhido = choice(alunos)\n",
    "\n",
    "# Exibir o nome do aluno escolhido\n",
    "print(f\"O Aluno escolhido pelo programa foi {escolhido}\")"
   ]
  },
  {
   "cell_type": "markdown",
   "id": "a3bcf918",
   "metadata": {},
   "source": [
    "### Comentario 19 Sorteando um item na lista\n",
    "    Explicando o código: primeiro, importamos o módulo para usar a função que escolhe um elemento aleatório de uma lista.randomchoice()\n",
    "\n",
    "    Em seguida, usamos a função para solicitar ao usuário que digite o nome dos quatro alunos e armazenamos os nomes em variáveis separadas.input()\n",
    "\n",
    "    Depois, criamos uma lista contendo os nomes dos quatro alunos usando a notação de lista .[...]\n",
    "\n",
    "    Em seguida, usamos a função para escolher um nome aleatório da lista e armazenamos o resultado na variável .random.choice()escolhido\n",
    "\n",
    "    Por fim, usamos a função para exibir o nome do aluno escolhido na tela, usando a formatação de string para incorporar o valor da variável na mensagem exibida.print()escolhido"
   ]
  },
  {
   "cell_type": "code",
   "execution_count": null,
   "id": "70a8b727",
   "metadata": {},
   "outputs": [],
   "source": []
  },
  {
   "cell_type": "markdown",
   "id": "4608c0a0",
   "metadata": {},
   "source": [
    "## 20 – Sorteando uma ordem na lista\n",
    " O mesmo professor do desafio 19 quer sortear a ordem de apresentação de trabalhos dos alunos. Faça um programa que leia o nome dos quatro alunos e mostre a ordem sorteada."
   ]
  },
  {
   "cell_type": "code",
   "execution_count": 1,
   "id": "492b98fd",
   "metadata": {},
   "outputs": [
    {
     "name": "stdout",
     "output_type": "stream",
     "text": [
      "Nome do Primeiro Aluno: Maria\n",
      "Nome do Segundo Aluno: Julia\n",
      "Nome do Terceiro Aluno: Artu\n",
      "Nome do Quarto Aluno: Miguel\n",
      "A Ordem Sorteada e ['Julia', 'Artu', 'Miguel', 'Maria']\n"
     ]
    }
   ],
   "source": [
    "# Montando o programa\n",
    "from random import shuffle\n",
    "\n",
    "# Variaveis com os nomes dos 4 alunos\n",
    "aluno1 = input(\"Nome do Primeiro Aluno: \")\n",
    "aluno2 = input(\"Nome do Segundo Aluno: \")\n",
    "aluno3 = input(\"Nome do Terceiro Aluno: \")\n",
    "aluno4 = input(\"Nome do Quarto Aluno: \")\n",
    "\n",
    "# Colocando os nomes em uma lista\n",
    "alunos = [aluno1, aluno2, aluno3, aluno4]\n",
    "\n",
    "# Embaralha a lista\n",
    "shuffle(alunos)\n",
    "\n",
    "# Mostra a ordem sorteada\n",
    "print(f\"A Ordem Sorteada e {alunos}\")"
   ]
  },
  {
   "cell_type": "markdown",
   "id": "4b8d1ad5",
   "metadata": {},
   "source": [
    "#### Comentario 20 Sorteando uma ordem na lista\n",
    "    Ao executar o programa,  digitamos o nome dos quatro alunos quando solicitado. Em seguida, o programa vai embaralhar a lista com os nomes e mostrar a ordem sorteada."
   ]
  },
  {
   "cell_type": "code",
   "execution_count": null,
   "id": "f2907583",
   "metadata": {},
   "outputs": [],
   "source": []
  },
  {
   "cell_type": "markdown",
   "id": "96baab59",
   "metadata": {},
   "source": [
    "## 21 – Tocando um MP3\n",
    "Faça um programa em Python que abra e reproduza o áudio de um arquivo MP3."
   ]
  },
  {
   "cell_type": "code",
   "execution_count": null,
   "id": "569fae47",
   "metadata": {},
   "outputs": [
    {
     "name": "stdout",
     "output_type": "stream",
     "text": [
      "pygame 2.4.0 (SDL 2.26.4, Python 3.10.9)\n",
      "Hello from the pygame community. https://www.pygame.org/contribute.html\n"
     ]
    }
   ],
   "source": [
    "# Importando a Biblioteca do Pygame\n",
    "import pygame\n",
    "from time import sleep\n",
    "\n",
    "# Inicializando a Biblioteca\n",
    "pygame.init()\n",
    "\n",
    "# Carregando o arquivo de audio\n",
    "pygame.mixer.music.load(\"meo.mp3\")\n",
    "\n",
    "# Inicia a reproducao do audio\n",
    "pygame.mixer.music.play()\n",
    "sleep(360)\n",
    "\n",
    "# Aguarda o fim da reprodução\n",
    "while pygame.mixer.music.get_busy():\n",
    "    continue\n",
    "    \n",
    "# Encerra a biblioteca pygame\n",
    "pygame.quit()"
   ]
  },
  {
   "cell_type": "markdown",
   "id": "5da29230",
   "metadata": {},
   "source": [
    "#### Comentario 21 Tocando um Audio mp3\n",
    "Para usar esse programa, substitua \"caminho/para/o/arquivo.mp3\" pelo caminho para o arquivo MP3 que você quer reproduzir. Depois, salve o programa com a extensão \".py\" e execute-o. Ele deve abrir e reproduzir o arquivo MP3. Note que o programa ficará rodando até que a música termine, então é preciso esperar até o final da reprodução ou interromper manualmente a execução do programa."
   ]
  },
  {
   "cell_type": "code",
   "execution_count": null,
   "id": "2bb1d614",
   "metadata": {},
   "outputs": [],
   "source": []
  },
  {
   "cell_type": "markdown",
   "id": "c2381d44",
   "metadata": {},
   "source": [
    "## 22 – Analisador de Textos\n",
    "Crie um programa que leia o nome completo de uma pessoa e mostre:\n",
    "\n",
    "    – O nome com todas as letras maiúsculas e minúsculas.\n",
    "\n",
    "    – Quantas letras ao todo (sem considerar espaços).\n",
    "\n",
    "    – Quantas letras tem o primeiro nome."
   ]
  },
  {
   "cell_type": "code",
   "execution_count": 3,
   "id": "8bef98d5",
   "metadata": {},
   "outputs": [
    {
     "name": "stdout",
     "output_type": "stream",
     "text": [
      "Digite seu nome completo: Francisco Douglas de Sousa Beserra\n",
      "Nome em Maiusculas FRANCISCO DOUGLAS DE SOUSA BESERRA\n",
      "Nome em Minusculas francisco douglas de sousa beserra\n",
      "Quantidade de letras 30\n",
      "Quantidade de Letras do Primeiro Nome 9\n"
     ]
    }
   ],
   "source": [
    "# Criando a Variavel nome completo\n",
    "nome_completo = input(\"Digite seu nome completo: \")\n",
    "\n",
    "# Nome com todas as letras Maiusculas\n",
    "print(f\"Nome em Maiusculas {nome_completo.upper()}\")\n",
    "\n",
    "# Nome com todas as letras Minusculas\n",
    "print(f\"Nome em Minusculas {nome_completo.lower()}\")\n",
    "\n",
    "# Quantidade de Letras no nome (sem espaço)\n",
    "qtd_letras = len(nome_completo.replace(\" \",\"\"))\n",
    "print(f\"Quantidade de letras {qtd_letras}\")\n",
    "\n",
    "# Quantidade de letras do Primeiro Nome\n",
    "primeiro_nome = nome_completo.split()[0]\n",
    "qtd_primeiro_nome = len(primeiro_nome)\n",
    "print(f\"Quantidade de Letras do Primeiro Nome {qtd_primeiro_nome}\")"
   ]
  },
  {
   "cell_type": "markdown",
   "id": "2225148e",
   "metadata": {},
   "source": [
    "#### Comentario 21 Analisador de Textos\n",
    "    Ao executar o programa, ele solicitará que você digite seu nome completo. Depois, o programa mostrará o seu nome em letras maiúsculas e minúsculas, a quantidade de letras no nome completo (sem considerar espaços) e a quantidade de letras no primeiro nome"
   ]
  },
  {
   "cell_type": "markdown",
   "id": "8d3c4d07",
   "metadata": {},
   "source": [
    "## 23 – Separando dígitos de um número\n",
    "Faça um programa que leia um número de 0 a 9999 e mostre na tela cada um dos dígitos separados."
   ]
  },
  {
   "cell_type": "code",
   "execution_count": 5,
   "id": "bc27ab3f",
   "metadata": {},
   "outputs": [
    {
     "name": "stdout",
     "output_type": "stream",
     "text": [
      "Digite o Numero de 0 a 999: 76523\n",
      "Milhar 76\n",
      "Centena 5\n",
      "Dezena 2\n",
      "Unidade 3\n"
     ]
    }
   ],
   "source": [
    "num = int(input(\"Digite o Numero de 0 a 999: \"))\n",
    "\n",
    "# Milhar\n",
    "milhar = num // 1000\n",
    "print(f\"Milhar {milhar}\")\n",
    "\n",
    "# Centena\n",
    "centena = (num % 1000) // 100\n",
    "print(f\"Centena {centena}\")\n",
    "\n",
    "# Dezena\n",
    "dezena = (num % 100) // 10\n",
    "print(f\"Dezena {dezena}\")\n",
    "\n",
    "# Unidade\n",
    "unidade = num % 10\n",
    "print(f\"Unidade {unidade}\")"
   ]
  },
  {
   "cell_type": "markdown",
   "id": "c0330e90",
   "metadata": {},
   "source": [
    "#### Comentario da 23 Separando digitos de um numero\n",
    "\n",
    "    O programa solicita que o usuário digite um número de 0 a 9999. Em seguida, ele usa operações de divisão e módulo para separar cada um dos dígitos do número.\n",
    "\n",
    "    Para obter a milhar, dividimos o número por 1000 usando a operação de divisão inteira \"//\". O resultado é o número de milhares no número original.\n",
    "\n",
    "    Para obter a centena, usamos o operador módulo \"%\" para obter o resto da divisão por 1000, o que nos dá os três últimos dígitos do número original. Em seguida, dividimos esse resultado por 100 para obter a centena.\n",
    "\n",
    "    Para obter a dezena, usamos o operador módulo \"%\" novamente, mas agora para obter o resto da divisão por 100, o que nos dá os dois últimos dígitos do número original. Em seguida, dividimos esse resultado por 10 para obter a dezena.\n",
    "\n",
    "    Por fim, para obter a unidade, usamos o operador módulo \"%\" novamente, mas agora para obter o resto da divisão por 10, o que nos dá o último dígito do número original.\n",
    "\n",
    "    O programa então mostra cada um dos dígitos separados."
   ]
  },
  {
   "cell_type": "code",
   "execution_count": null,
   "id": "965c832f",
   "metadata": {},
   "outputs": [],
   "source": []
  },
  {
   "cell_type": "markdown",
   "id": "c0c161ae",
   "metadata": {},
   "source": [
    "## 24 – Verificando as primeiras letras de um texto\n",
    "Crie um programa que leia o nome de uma cidade diga se ela começa ou não com o nome “SANTO”."
   ]
  },
  {
   "cell_type": "code",
   "execution_count": 6,
   "id": "e7d3e4ea",
   "metadata": {},
   "outputs": [
    {
     "name": "stdout",
     "output_type": "stream",
     "text": [
      "Digite o nome da Cidade: Santo antonio\n",
      "A Cidade Santo antonio Começa com SANTO\n"
     ]
    }
   ],
   "source": [
    "cidade = str(input(\"Digite o nome da Cidade: \"))\n",
    "\n",
    "# Verifica se a cidade começa com santo\n",
    "if cidade[:5].upper() == 'SANTO':\n",
    "    print(f\"A Cidade {cidade} Começa com SANTO\")\n",
    "else:\n",
    "    print(f\"A Cidade {cidade} Não Começa com SANTO\")"
   ]
  },
  {
   "cell_type": "markdown",
   "id": "affea525",
   "metadata": {},
   "source": [
    "#### Comentario 24 Verificando as Primeiras letras de um texto\n",
    "\n",
    "    O programa solicita que o usuário digite o nome de uma cidade. Em seguida, ele usa a função de fatiamento de strings para pegar os cinco primeiros caracteres da cidade (usando o índice 0 até o índice 4).\n",
    "\n",
    "    Depois, ele usa o método \"upper()\" para converter esses cinco caracteres para letras maiúsculas e compara com a string \"SANTO\" em letras maiúsculas. Se as duas strings forem iguais, isso significa que a cidade começa com \"SANTO\", e o programa exibe uma mensagem indicando isso. Caso contrário, o programa exibe uma mensagem indicando que a cidade não começa com \"SANTO\".\n",
    "\n",
    "    Note que, ao usar o método \"upper()\", o programa garante que a comparação seja feita sem levar em conta se a palavra \"SANTO\" está escrita em letras maiúsculas ou minúsculas na cidade. "
   ]
  },
  {
   "cell_type": "code",
   "execution_count": null,
   "id": "a82faab6",
   "metadata": {},
   "outputs": [],
   "source": []
  },
  {
   "cell_type": "code",
   "execution_count": null,
   "id": "4162d91f",
   "metadata": {},
   "outputs": [],
   "source": []
  },
  {
   "cell_type": "code",
   "execution_count": null,
   "id": "c318b6e8",
   "metadata": {},
   "outputs": [],
   "source": []
  },
  {
   "cell_type": "code",
   "execution_count": null,
   "id": "9182a5bd",
   "metadata": {},
   "outputs": [],
   "source": []
  },
  {
   "cell_type": "code",
   "execution_count": null,
   "id": "1a7671a9",
   "metadata": {},
   "outputs": [],
   "source": []
  }
 ],
 "metadata": {
  "kernelspec": {
   "display_name": "Python 3 (ipykernel)",
   "language": "python",
   "name": "python3"
  },
  "language_info": {
   "codemirror_mode": {
    "name": "ipython",
    "version": 3
   },
   "file_extension": ".py",
   "mimetype": "text/x-python",
   "name": "python",
   "nbconvert_exporter": "python",
   "pygments_lexer": "ipython3",
   "version": "3.10.9"
  }
 },
 "nbformat": 4,
 "nbformat_minor": 5
}
